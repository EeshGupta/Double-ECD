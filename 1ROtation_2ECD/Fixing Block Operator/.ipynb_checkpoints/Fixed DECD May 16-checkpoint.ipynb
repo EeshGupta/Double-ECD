{
 "cells": [
  {
   "cell_type": "markdown",
   "id": "6680a79a",
   "metadata": {},
   "source": [
    "# Aim\n",
    "See whther Fx to block operators gives us better convergence for 00 ->10"
   ]
  },
  {
   "cell_type": "code",
   "execution_count": 1,
   "id": "86d356f0",
   "metadata": {},
   "outputs": [],
   "source": [
    "import sys \n",
    "sys.path.append('C:\\\\Users\\\\Eesh Gupta\\\\Documents\\\\RU Research\\\\Chakram')\n",
    "#sys.path.append('C:\\\\Users\\\\Eesh Gupta\\\\Documents\\\\RU Research\\\\Chakram\\\\Double-ECD\\\\May\\\\DECD')\n",
    "\n",
    "import Fixed_DECD2"
   ]
  },
  {
   "cell_type": "code",
   "execution_count": 2,
   "id": "e1295137",
   "metadata": {},
   "outputs": [],
   "source": [
    "#from DECD_block_fix import BatchOptimizer as BO1\n",
    "from Fixed_DECD2 import BatchOptimizer as BO2"
   ]
  },
  {
   "cell_type": "code",
   "execution_count": 3,
   "id": "cce5de8b",
   "metadata": {},
   "outputs": [],
   "source": [
    "import numpy as np\n",
    "import tensorflow as tf\n",
    "\n",
    "tf.compat.v1.logging.set_verbosity(tf.compat.v1.logging.ERROR)  # supress warnings\n",
    "import h5py\n",
    "\n",
    "# print(\n",
    "#     \"\\nNeed tf version 2.3.0 or later. Using tensorflow version: \"\n",
    "#     + tf.__version__\n",
    "#     + \"\\n\"\n",
    "# )\n",
    "import ECD_control.ECD_optimization.tf_quantum as tfq\n",
    "from ECD_control.ECD_optimization.visualization import VisualizationMixin\n",
    "import qutip as qt\n",
    "import datetime\n",
    "import time\n"
   ]
  },
  {
   "cell_type": "markdown",
   "id": "1ce9669d",
   "metadata": {},
   "source": [
    "# Code"
   ]
  },
  {
   "cell_type": "code",
   "execution_count": 4,
   "id": "1a3485ae",
   "metadata": {},
   "outputs": [],
   "source": [
    "#The target oscillator state.\n",
    "N1 =10\n",
    "N2 =10\n",
    "Fock1 = 0\n",
    "Fock2= 0\n",
    "psi_i1 = qt.basis(N1,Fock1) #target state\n",
    "psi_i2 = qt.basis(N2,Fock2)\n",
    "psi_initial = qt.tensor(psi_i1, psi_i2)"
   ]
  },
  {
   "cell_type": "code",
   "execution_count": 5,
   "id": "7d606f89",
   "metadata": {},
   "outputs": [
    {
     "data": {
      "text/latex": [
       "Quantum object: dims = [[10, 10], [1, 1]], shape = (100, 1), type = ket\\begin{equation*}\\left(\\begin{array}{*{11}c}1.0\\\\0.0\\\\0.0\\\\0.0\\\\0.0\\\\\\vdots\\\\0.0\\\\0.0\\\\0.0\\\\0.0\\\\0.0\\\\\\end{array}\\right)\\end{equation*}"
      ],
      "text/plain": [
       "Quantum object: dims = [[10, 10], [1, 1]], shape = (100, 1), type = ket\n",
       "Qobj data =\n",
       "[[1.]\n",
       " [0.]\n",
       " [0.]\n",
       " [0.]\n",
       " [0.]\n",
       " [0.]\n",
       " [0.]\n",
       " [0.]\n",
       " [0.]\n",
       " [0.]\n",
       " [0.]\n",
       " [0.]\n",
       " [0.]\n",
       " [0.]\n",
       " [0.]\n",
       " [0.]\n",
       " [0.]\n",
       " [0.]\n",
       " [0.]\n",
       " [0.]\n",
       " [0.]\n",
       " [0.]\n",
       " [0.]\n",
       " [0.]\n",
       " [0.]\n",
       " [0.]\n",
       " [0.]\n",
       " [0.]\n",
       " [0.]\n",
       " [0.]\n",
       " [0.]\n",
       " [0.]\n",
       " [0.]\n",
       " [0.]\n",
       " [0.]\n",
       " [0.]\n",
       " [0.]\n",
       " [0.]\n",
       " [0.]\n",
       " [0.]\n",
       " [0.]\n",
       " [0.]\n",
       " [0.]\n",
       " [0.]\n",
       " [0.]\n",
       " [0.]\n",
       " [0.]\n",
       " [0.]\n",
       " [0.]\n",
       " [0.]\n",
       " [0.]\n",
       " [0.]\n",
       " [0.]\n",
       " [0.]\n",
       " [0.]\n",
       " [0.]\n",
       " [0.]\n",
       " [0.]\n",
       " [0.]\n",
       " [0.]\n",
       " [0.]\n",
       " [0.]\n",
       " [0.]\n",
       " [0.]\n",
       " [0.]\n",
       " [0.]\n",
       " [0.]\n",
       " [0.]\n",
       " [0.]\n",
       " [0.]\n",
       " [0.]\n",
       " [0.]\n",
       " [0.]\n",
       " [0.]\n",
       " [0.]\n",
       " [0.]\n",
       " [0.]\n",
       " [0.]\n",
       " [0.]\n",
       " [0.]\n",
       " [0.]\n",
       " [0.]\n",
       " [0.]\n",
       " [0.]\n",
       " [0.]\n",
       " [0.]\n",
       " [0.]\n",
       " [0.]\n",
       " [0.]\n",
       " [0.]\n",
       " [0.]\n",
       " [0.]\n",
       " [0.]\n",
       " [0.]\n",
       " [0.]\n",
       " [0.]\n",
       " [0.]\n",
       " [0.]\n",
       " [0.]\n",
       " [0.]]"
      ]
     },
     "execution_count": 5,
     "metadata": {},
     "output_type": "execute_result"
    }
   ],
   "source": [
    "psi_initial"
   ]
  },
  {
   "cell_type": "code",
   "execution_count": 6,
   "id": "222b9dc8",
   "metadata": {},
   "outputs": [
    {
     "data": {
      "text/latex": [
       "Quantum object: dims = [[10, 10], [1, 1]], shape = (100, 1), type = ket\\begin{equation*}\\left(\\begin{array}{*{11}c}0.0\\\\0.0\\\\0.0\\\\0.0\\\\0.0\\\\\\vdots\\\\0.0\\\\0.0\\\\0.0\\\\0.0\\\\0.0\\\\\\end{array}\\right)\\end{equation*}"
      ],
      "text/plain": [
       "Quantum object: dims = [[10, 10], [1, 1]], shape = (100, 1), type = ket\n",
       "Qobj data =\n",
       "[[0.]\n",
       " [0.]\n",
       " [0.]\n",
       " [0.]\n",
       " [0.]\n",
       " [0.]\n",
       " [0.]\n",
       " [0.]\n",
       " [0.]\n",
       " [0.]\n",
       " [1.]\n",
       " [0.]\n",
       " [0.]\n",
       " [0.]\n",
       " [0.]\n",
       " [0.]\n",
       " [0.]\n",
       " [0.]\n",
       " [0.]\n",
       " [0.]\n",
       " [0.]\n",
       " [0.]\n",
       " [0.]\n",
       " [0.]\n",
       " [0.]\n",
       " [0.]\n",
       " [0.]\n",
       " [0.]\n",
       " [0.]\n",
       " [0.]\n",
       " [0.]\n",
       " [0.]\n",
       " [0.]\n",
       " [0.]\n",
       " [0.]\n",
       " [0.]\n",
       " [0.]\n",
       " [0.]\n",
       " [0.]\n",
       " [0.]\n",
       " [0.]\n",
       " [0.]\n",
       " [0.]\n",
       " [0.]\n",
       " [0.]\n",
       " [0.]\n",
       " [0.]\n",
       " [0.]\n",
       " [0.]\n",
       " [0.]\n",
       " [0.]\n",
       " [0.]\n",
       " [0.]\n",
       " [0.]\n",
       " [0.]\n",
       " [0.]\n",
       " [0.]\n",
       " [0.]\n",
       " [0.]\n",
       " [0.]\n",
       " [0.]\n",
       " [0.]\n",
       " [0.]\n",
       " [0.]\n",
       " [0.]\n",
       " [0.]\n",
       " [0.]\n",
       " [0.]\n",
       " [0.]\n",
       " [0.]\n",
       " [0.]\n",
       " [0.]\n",
       " [0.]\n",
       " [0.]\n",
       " [0.]\n",
       " [0.]\n",
       " [0.]\n",
       " [0.]\n",
       " [0.]\n",
       " [0.]\n",
       " [0.]\n",
       " [0.]\n",
       " [0.]\n",
       " [0.]\n",
       " [0.]\n",
       " [0.]\n",
       " [0.]\n",
       " [0.]\n",
       " [0.]\n",
       " [0.]\n",
       " [0.]\n",
       " [0.]\n",
       " [0.]\n",
       " [0.]\n",
       " [0.]\n",
       " [0.]\n",
       " [0.]\n",
       " [0.]\n",
       " [0.]\n",
       " [0.]]"
      ]
     },
     "execution_count": 6,
     "metadata": {},
     "output_type": "execute_result"
    }
   ],
   "source": [
    "#The target oscillator state.\n",
    "N1 =10\n",
    "N2 =10\n",
    "Fock1 = 1\n",
    "Fock2= 0\n",
    "psi_t1 = qt.basis(N1,Fock1) #target state\n",
    "psi_t2 = qt.basis(N2,Fock2)\n",
    "psi_target = qt.tensor(psi_t1, psi_t2)\n",
    "psi_target"
   ]
  },
  {
   "cell_type": "code",
   "execution_count": 43,
   "id": "ca9a378b",
   "metadata": {},
   "outputs": [],
   "source": [
    "#Optimization of ECD Circuit parameters (betas, phis, and thetas)\n",
    "#the optimization options\n",
    "opt_params = {\n",
    "'N_blocks' : 5, #circuit depth\n",
    "'N_multistart' : 2, #Batch size (number of circuit optimizations to run in parallel)\n",
    "'epochs' : 1000, #number of epochs before termination\n",
    "'epoch_size' : 20, #number of adam steps per epoch\n",
    "'learning_rate' : 0.01, #adam learning rate\n",
    "'term_fid' : 0.995, #terminal fidelitiy\n",
    "'dfid_stop' : 1e-6, #stop if dfid between two epochs is smaller than this number\n",
    "'beta_scale' : 3.0, #maximum |beta| for random initialization\n",
    "'gamma_scale' : 3.0, #maximum |gamma| for random initialization\n",
    "'N_cav1': N1, #number of levels in mode 1\n",
    "'N_cav2': N2, #number of levels in mode 2\n",
    "'initial_states' : [qt.tensor(qt.basis(2,0),psi_initial)], #qubit tensor oscillator, start in |g> |0>\n",
    "'target_states' : [qt.tensor(qt.basis(2,0), psi_target)], #end in |e> |target>.\n",
    "'name' : 'Fock1 %d' % Fock1, #name for printing and saving\n",
    "'filename' : None, #if no filename specified, results will be saved in this folder under 'name.h5'\n",
    "}\n",
    "\n",
    "\n",
    "#note: optimizer includes pi pulse in every ECD step. However, final ECD step is implemented \n",
    "#in experiment as a displacement since the qubit and oscillator should be disentangled at this point.\n",
    "#So, we ask the optimizer to end in |e> |target> instead of |g>|target>."
   ]
  },
  {
   "cell_type": "code",
   "execution_count": 44,
   "id": "3e704277",
   "metadata": {},
   "outputs": [],
   "source": [
    "tf.config.run_functions_eagerly(True)"
   ]
  },
  {
   "cell_type": "markdown",
   "id": "4ecfdf83",
   "metadata": {},
   "source": [
    "# Varying Layers"
   ]
  },
  {
   "cell_type": "code",
   "execution_count": 45,
   "id": "e58ef2a6",
   "metadata": {},
   "outputs": [],
   "source": [
    "def compute_error(data):\n",
    "    '''\n",
    "    Input: List of numbers\n",
    "    Output: 1/2 size of error bar\n",
    "    '''\n",
    "    m = np.mean(data)\n",
    "    tot_diff_sq = 0\n",
    "    for i in data: \n",
    "        tot_diff_sq += (i-m)**2\n",
    "    mse = np.sqrt(tot_diff_sq/len(data))\n",
    "    return mse/len(data)"
   ]
  },
  {
   "cell_type": "code",
   "execution_count": 46,
   "id": "fb3068b2",
   "metadata": {},
   "outputs": [],
   "source": [
    "# diff number of depths\n",
    "n_depths = [5*i for i in range(1,20)]\n",
    "#fids for each depth\n",
    "fids = []\n",
    "#tested depths (for graphing purposes)\n",
    "t_depths = []"
   ]
  },
  {
   "cell_type": "code",
   "execution_count": 49,
   "id": "c0e9ee89",
   "metadata": {},
   "outputs": [
    {
     "data": {
      "image/png": "[encoded data removed]",
      "text/plain": [
       "<Figure size 842.4x595.44 with 1 Axes>"
      ]
     },
     "metadata": {},
     "output_type": "display_data"
    },
    {
     "data": {
      "image/png": "[encoded data removed]",
      "text/plain": [
       "<Figure size 842.4x595.44 with 1 Axes>"
      ]
     },
     "metadata": {
      "needs_background": "light"
     },
     "output_type": "display_data"
    }
   ],
   "source": [
    "import time\n",
    "import pylab as pl\n",
    "from IPython import display\n",
    "import matplotlib.pyplot as plt\n",
    "\n",
    "errors = []\n",
    "fid_arr = []\n",
    "fid_plot = []\n",
    "t_depths = []\n",
    "fig = plt.figure()\n",
    "\n",
    "for n in n_depths: \n",
    "    print('Number of depth/ DECD blocks: ' + str(n))\n",
    "    \n",
    "    \n",
    "    #update tested depths \n",
    "    t_depths.append(n)\n",
    "    #change opt_params\n",
    "    opt_params['N_blocks'] = n\n",
    "    \n",
    "    #Do So 100 times\n",
    "    N_times = 50\n",
    "    fid_layers = []\n",
    "    \n",
    "    for i in range(N_times):\n",
    "        #display.clear_output(wait=True)\n",
    "        #create new optimizer \n",
    "        opt = BO2(**opt_params)\n",
    "        #run optimizer.\n",
    "        opt.optimize()\n",
    "        #collect fidelity\n",
    "        fid = opt.best_fidelity()\n",
    "        #store it  \n",
    "        fid_layers.append(fid)\n",
    "    \n",
    "    err = compute_error(fid_layers)\n",
    "    errors.append(err)\n",
    "    fid_plot.append(np.mean(fid_layers))\n",
    "    fid_arr.append(fid_layers)\n",
    "    \n",
    "    #we prepare plot to track this stuff live--------\n",
    "    plt.errorbar(t_depths, fid_plot, yerr = errors, linestyle = '-', marker = 'o')\n",
    "\n",
    "    plt.xlabel('Circuit Depth/ No. of DECD blocks')\n",
    "    plt.ylabel('Optimized Fidelity')\n",
    "    display.clear_output(wait=True)\n",
    "    display.display(fig)\n",
    "    #--------------------------------"
   ]
  },
  {
   "cell_type": "code",
   "execution_count": null,
   "id": "b3f3c0f4",
   "metadata": {},
   "outputs": [],
   "source": [
    "errors"
   ]
  },
  {
   "cell_type": "code",
   "execution_count": null,
   "id": "6f2cc84a",
   "metadata": {},
   "outputs": [],
   "source": [
    "fid_arr"
   ]
  },
  {
   "cell_type": "code",
   "execution_count": 5,
   "id": "eafc24be",
   "metadata": {},
   "outputs": [],
   "source": [
    "import numpy as np\n",
    "data = [errors, fid_arr]\n",
    "fname = 'Test_00_to_10_Fids_Errorbars.txt'\n",
    "a_file = open(fname, \"w\")\n",
    "np.savetxt(a_file, data)\n",
    "a_file.close()"
   ]
  },
  {
   "cell_type": "code",
   "execution_count": null,
   "id": "4dcd4c63",
   "metadata": {},
   "outputs": [],
   "source": []
  },
  {
   "cell_type": "code",
   "execution_count": null,
   "id": "1dcfe74a",
   "metadata": {},
   "outputs": [],
   "source": []
  }
 ],
 "metadata": {
  "kernelspec": {
   "display_name": "Python 3",
   "language": "python",
   "name": "python3"
  },
  "language_info": {
   "codemirror_mode": {
    "name": "ipython",
    "version": 3
   },
   "file_extension": ".py",
   "mimetype": "text/x-python",
   "name": "python",
   "nbconvert_exporter": "python",
   "pygments_lexer": "ipython3",
   "version": "3.8.8"
  }
 },
 "nbformat": 4,
 "nbformat_minor": 5
}
