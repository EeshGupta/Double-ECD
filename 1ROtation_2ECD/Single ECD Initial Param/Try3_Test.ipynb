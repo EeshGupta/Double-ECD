{
 "cells": [
  {
   "cell_type": "markdown",
   "id": "012de844",
   "metadata": {},
   "source": [
    "# Tensorflow Debugging\n",
    "If we convert some variable to numpy object in loss function, does that ruin the gradient computation?\n",
    "\n",
    "DEPEREATED: NOT Needed See Try 4"
   ]
  },
  {
   "cell_type": "code",
   "execution_count": 5,
   "id": "97267270",
   "metadata": {},
   "outputs": [],
   "source": [
    "import tensorflow as tf\n",
    "\n",
    "x = tf.Variable(2, name = 'x', dtype = tf.float32)\n",
    "log_x = tf.log(x)\n",
    "log_x_squared = tf.square(log_x)\n",
    "\n",
    "@tf.function\n",
    "def loss_fun(var1):\n",
    "    return (var1 ** 2)/2.0       # d(loss)/d(var1) == var1"
   ]
  },
  {
   "cell_type": "code",
   "execution_count": null,
   "id": "30e52762",
   "metadata": {},
   "outputs": [],
   "source": [
    "with tf.GradientTape() as tape:\n",
    "    fid = "
   ]
  },
  {
   "cell_type": "code",
   "execution_count": 7,
   "id": "f6f9c5c8",
   "metadata": {},
   "outputs": [],
   "source": [
    "import sys \n",
    "sys.path.append('C:\\\\Users\\\\Eesh Gupta\\\\Documents\\\\RU Research\\\\Chakram')\n",
    "import ECD_control.ECD_optimization.tf_quantum as tfq"
   ]
  },
  {
   "cell_type": "code",
   "execution_count": 8,
   "id": "53d7e323",
   "metadata": {},
   "outputs": [
    {
     "data": {
      "text/plain": [
       "<tf.Tensor: shape=(2, 2), dtype=complex64, numpy=\n",
       "array([[0.        +0.j, 0.70710677+0.j],\n",
       "       [0.70710677+0.j, 0.        +0.j]], dtype=complex64)>"
      ]
     },
     "execution_count": 8,
     "metadata": {},
     "output_type": "execute_result"
    }
   ],
   "source": [
    "tfq.position(2)"
   ]
  },
  {
   "cell_type": "code",
   "execution_count": null,
   "id": "d24cabd1",
   "metadata": {},
   "outputs": [],
   "source": [
    "#"
   ]
  }
 ],
 "metadata": {
  "kernelspec": {
   "display_name": "Python 3",
   "language": "python",
   "name": "python3"
  },
  "language_info": {
   "codemirror_mode": {
    "name": "ipython",
    "version": 3
   },
   "file_extension": ".py",
   "mimetype": "text/x-python",
   "name": "python",
   "nbconvert_exporter": "python",
   "pygments_lexer": "ipython3",
   "version": "3.8.8"
  },
  "toc": {
   "base_numbering": 1,
   "nav_menu": {},
   "number_sections": true,
   "sideBar": true,
   "skip_h1_title": false,
   "title_cell": "Table of Contents",
   "title_sidebar": "Contents",
   "toc_cell": false,
   "toc_position": {},
   "toc_section_display": true,
   "toc_window_display": false
  },
  "varInspector": {
   "cols": {
    "lenName": 16,
    "lenType": 16,
    "lenVar": 40
   },
   "kernels_config": {
    "python": {
     "delete_cmd_postfix": "",
     "delete_cmd_prefix": "del ",
     "library": "var_list.py",
     "varRefreshCmd": "print(var_dic_list())"
    },
    "r": {
     "delete_cmd_postfix": ") ",
     "delete_cmd_prefix": "rm(",
     "library": "var_list.r",
     "varRefreshCmd": "cat(var_dic_list()) "
    }
   },
   "types_to_exclude": [
    "module",
    "function",
    "builtin_function_or_method",
    "instance",
    "_Feature"
   ],
   "window_display": false
  }
 },
 "nbformat": 4,
 "nbformat_minor": 5
}
