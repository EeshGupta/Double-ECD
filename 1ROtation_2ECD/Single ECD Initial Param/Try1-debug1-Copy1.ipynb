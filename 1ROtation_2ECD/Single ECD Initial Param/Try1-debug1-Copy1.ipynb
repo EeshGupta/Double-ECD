{
 "cells": [
  {
   "cell_type": "markdown",
   "id": "e79ecb65",
   "metadata": {},
   "source": [
    "# Aim\n",
    "Test wheteher when given the optimal single ECD param for 00->10, does the DECD_OLD_FIXED class give consistent results"
   ]
  },
  {
   "cell_type": "markdown",
   "id": "c98cefa7",
   "metadata": {},
   "source": [
    "### Imports"
   ]
  },
  {
   "cell_type": "code",
   "execution_count": 2,
   "id": "8913af1e",
   "metadata": {},
   "outputs": [],
   "source": [
    "import sys \n",
    "sys.path.append('C:\\\\Users\\\\Eesh Gupta\\\\Documents\\\\RU Research\\\\Chakram')"
   ]
  },
  {
   "cell_type": "code",
   "execution_count": 3,
   "id": "7ed65e3c",
   "metadata": {},
   "outputs": [
    {
     "name": "stdout",
     "output_type": "stream",
     "text": [
      "\n",
      "Need tf version 2.3.0 or later. Using tensorflow version: 2.7.0\n",
      "\n"
     ]
    }
   ],
   "source": [
    "from ECD import BatchOptimizer as BO_ECD\n",
    "from DECD_Old_Fixed_Mult import FixedBatchOptimizer as BO_DECD"
   ]
  },
  {
   "cell_type": "code",
   "execution_count": 4,
   "id": "7432bead",
   "metadata": {},
   "outputs": [],
   "source": [
    "#%%\n",
    "# note: timestamp can't use \"/\" character for h5 saving.\n",
    "TIMESTAMP_FORMAT = \"%Y-%m-%d %H:%M:%S\"\n",
    "END_OPT_STRING = \"\\n\" + \"=\" * 60 + \"\\n\"\n",
    "import numpy as np\n",
    "import tensorflow as tf\n",
    "\n",
    "tf.compat.v1.logging.set_verbosity(tf.compat.v1.logging.ERROR)  # supress warnings\n",
    "import h5py\n",
    "\n",
    "# print(\n",
    "#     \"\\nNeed tf version 2.3.0 or later. Using tensorflow version: \"\n",
    "#     + tf.__version__\n",
    "#     + \"\\n\"\n",
    "# )\n",
    "import ECD_control.ECD_optimization.tf_quantum as tfq\n",
    "from ECD_control.ECD_optimization.visualization import VisualizationMixin\n",
    "import qutip as qt\n",
    "import datetime\n",
    "import time"
   ]
  },
  {
   "cell_type": "markdown",
   "id": "4e802fe8",
   "metadata": {},
   "source": [
    "### Feeding ECD params to DECD"
   ]
  },
  {
   "cell_type": "markdown",
   "id": "28238f39",
   "metadata": {},
   "source": [
    "#### Convert ECD angles to DECD angles\n",
    "Add gamma"
   ]
  },
  {
   "cell_type": "code",
   "execution_count": 5,
   "id": "105bfbc7",
   "metadata": {},
   "outputs": [],
   "source": [
    "N_layers = 5"
   ]
  },
  {
   "cell_type": "code",
   "execution_count": 6,
   "id": "05b87e7d",
   "metadata": {},
   "outputs": [],
   "source": [
    "#obtain ECD params\n",
    "#circ = ecd_opt.best_circuit()\n",
    "betas = np.array([-1.14533-0.88386j,  0.52368-0.63883j,  0.84219+0.10698j,  0.2647 +0.4001j, 0.04717+0.03105j])\n",
    "alphas = np.array([0])\n",
    "phis = np.array([i*np.pi/180 for i in [  0. ,     -90.16602,  93.05391, -87.09172 ,178.47043]])\n",
    "thetas = np.array([i*np.pi/180 for i in [ -88.68532, -133.78508, -110.02084,  -79.87543,   85.82858]])\n",
    "\n",
    "#gammas (displacement of second mode)\n",
    "gammas = np.copy(betas)\n",
    "for i in range(len(gammas)):\n",
    "    gammas[i] = 0.0 +0.0j\n",
    "\n",
    "#etas (just ignore this)\n",
    "etas = np.copy(betas)\n",
    "for i in range(len(etas)):\n",
    "    etas[i] = 90.0 #pi/2\n",
    "\n",
    "#new initial params (Needs 2 alphas for mode 1 and mode 2)\n",
    "init_params = [betas, gammas, alphas, alphas, phis, etas, thetas]"
   ]
  },
  {
   "cell_type": "code",
   "execution_count": 7,
   "id": "dd8926b3",
   "metadata": {},
   "outputs": [],
   "source": [
    "#Since DECD has more than 1 multistart, we will make sure all multistarts\n",
    "# have the same initial params-- namely the ecd onces\n",
    "# N_multistart = 10\n",
    "# init_params_more_multi = [np.array([i for j in range(N_multistart)]) for i in init_params]"
   ]
  },
  {
   "cell_type": "code",
   "execution_count": 8,
   "id": "183490cb",
   "metadata": {},
   "outputs": [],
   "source": [
    "#init_params_more_multi"
   ]
  },
  {
   "cell_type": "markdown",
   "id": "d105cc74",
   "metadata": {},
   "source": [
    "#### Initial Testing Code"
   ]
  },
  {
   "cell_type": "code",
   "execution_count": 9,
   "id": "bd11304a",
   "metadata": {},
   "outputs": [],
   "source": [
    "#The target oscillator state.\n",
    "N1 =10\n",
    "N2 =10\n",
    "Fock1 = 0\n",
    "Fock2= 0\n",
    "psi_i1 = qt.basis(N1,Fock1) #target state\n",
    "psi_i2 = qt.basis(N2,Fock2)\n",
    "psi_initial = qt.tensor(psi_i1, psi_i2)"
   ]
  },
  {
   "cell_type": "code",
   "execution_count": 10,
   "id": "76d57b99",
   "metadata": {},
   "outputs": [
    {
     "data": {
      "text/latex": [
       "Quantum object: dims = [[10, 10], [1, 1]], shape = (100, 1), type = ket\\begin{equation*}\\left(\\begin{array}{*{11}c}0.0\\\\0.0\\\\0.0\\\\0.0\\\\0.0\\\\\\vdots\\\\0.0\\\\0.0\\\\0.0\\\\0.0\\\\0.0\\\\\\end{array}\\right)\\end{equation*}"
      ],
      "text/plain": [
       "Quantum object: dims = [[10, 10], [1, 1]], shape = (100, 1), type = ket\n",
       "Qobj data =\n",
       "[[0.]\n",
       " [0.]\n",
       " [0.]\n",
       " [0.]\n",
       " [0.]\n",
       " [0.]\n",
       " [0.]\n",
       " [0.]\n",
       " [0.]\n",
       " [0.]\n",
       " [1.]\n",
       " [0.]\n",
       " [0.]\n",
       " [0.]\n",
       " [0.]\n",
       " [0.]\n",
       " [0.]\n",
       " [0.]\n",
       " [0.]\n",
       " [0.]\n",
       " [0.]\n",
       " [0.]\n",
       " [0.]\n",
       " [0.]\n",
       " [0.]\n",
       " [0.]\n",
       " [0.]\n",
       " [0.]\n",
       " [0.]\n",
       " [0.]\n",
       " [0.]\n",
       " [0.]\n",
       " [0.]\n",
       " [0.]\n",
       " [0.]\n",
       " [0.]\n",
       " [0.]\n",
       " [0.]\n",
       " [0.]\n",
       " [0.]\n",
       " [0.]\n",
       " [0.]\n",
       " [0.]\n",
       " [0.]\n",
       " [0.]\n",
       " [0.]\n",
       " [0.]\n",
       " [0.]\n",
       " [0.]\n",
       " [0.]\n",
       " [0.]\n",
       " [0.]\n",
       " [0.]\n",
       " [0.]\n",
       " [0.]\n",
       " [0.]\n",
       " [0.]\n",
       " [0.]\n",
       " [0.]\n",
       " [0.]\n",
       " [0.]\n",
       " [0.]\n",
       " [0.]\n",
       " [0.]\n",
       " [0.]\n",
       " [0.]\n",
       " [0.]\n",
       " [0.]\n",
       " [0.]\n",
       " [0.]\n",
       " [0.]\n",
       " [0.]\n",
       " [0.]\n",
       " [0.]\n",
       " [0.]\n",
       " [0.]\n",
       " [0.]\n",
       " [0.]\n",
       " [0.]\n",
       " [0.]\n",
       " [0.]\n",
       " [0.]\n",
       " [0.]\n",
       " [0.]\n",
       " [0.]\n",
       " [0.]\n",
       " [0.]\n",
       " [0.]\n",
       " [0.]\n",
       " [0.]\n",
       " [0.]\n",
       " [0.]\n",
       " [0.]\n",
       " [0.]\n",
       " [0.]\n",
       " [0.]\n",
       " [0.]\n",
       " [0.]\n",
       " [0.]\n",
       " [0.]]"
      ]
     },
     "execution_count": 10,
     "metadata": {},
     "output_type": "execute_result"
    }
   ],
   "source": [
    "Fock1 = 1\n",
    "Fock2= 0\n",
    "psi_t1 = qt.basis(N1,Fock1) #target state\n",
    "psi_t2 = qt.basis(N2,Fock2)\n",
    "psi_target = qt.tensor(psi_t1, psi_t2)\n",
    "psi_target"
   ]
  },
  {
   "cell_type": "code",
   "execution_count": 12,
   "id": "039edcfd",
   "metadata": {},
   "outputs": [],
   "source": [
    "#Optimization of ECD Circuit parameters (betas, phis, and thetas)\n",
    "#the optimization options\n",
    "decd_opt_params = {\n",
    "'N_blocks' : 5, #circuit depth\n",
    "'N_multistart' : 1, #Batch size (number of circuit optimizations to run in parallel)\n",
    "'epochs' : 100, #number of epochs before termination\n",
    "'epoch_size' : 20, #number of adam steps per epoch\n",
    "'learning_rate' : 0.01, #adam learning rate\n",
    "'term_fid' : 0.995, #terminal fidelitiy\n",
    "'dfid_stop' : 1e-6, #stop if dfid between two epochs is smaller than this number\n",
    "'beta_scale' : 3.0, #maximum |beta| for random initialization\n",
    "'gamma_scale' : 3.0, #maximum |gamma| for random initialization\n",
    "'N_cav1': N1, #number of levels in mode 1\n",
    "'N_cav2': N2, #number of levels in mode 2\n",
    "'initial_states' : [qt.tensor(qt.basis(2,0),psi_initial)], #qubit tensor oscillator, start in |g> |0>\n",
    "'target_states' : [qt.tensor(qt.basis(2,0), psi_target)], #end in |e> |target>.\n",
    "\"initial_params\": init_params,\n",
    "'name' : 'Fock1 %d' % Fock1, #name for printing and saving\n",
    "'filename' : None, #if no filename specified, results will be saved in this folder under 'name.h5'\n",
    "}\n",
    "\n"
   ]
  },
  {
   "cell_type": "markdown",
   "id": "463cdc62",
   "metadata": {},
   "source": [
    "#### Running DECD"
   ]
  },
  {
   "cell_type": "code",
   "execution_count": 13,
   "id": "66230cac",
   "metadata": {},
   "outputs": [],
   "source": [
    "tf.config.run_functions_eagerly(True)"
   ]
  },
  {
   "cell_type": "code",
   "execution_count": 14,
   "id": "d577281b",
   "metadata": {},
   "outputs": [
    {
     "name": "stdout",
     "output_type": "stream",
     "text": [
      "[array([-1.14533-0.88386j,  0.52368-0.63883j,  0.84219+0.10698j,\n",
      "        0.2647 +0.4001j ,  0.04717+0.03105j]), array([0.+0.j, 0.+0.j, 0.+0.j, 0.+0.j, 0.+0.j]), array([0]), array([0]), array([ 0.        , -1.57369392,  1.62409711, -1.52003727,  3.11489662]), array([90.+0.j, 90.+0.j, 90.+0.j, 90.+0.j, 90.+0.j]), array([-1.54785083, -2.33499014, -1.9202259 , -1.39408924,  1.49799131])]\n",
      "Fixed construct needed matrices called\n",
      "optimization_type: state transfer\n",
      "N_multistart: 1\n",
      "N_blocks: 5\n",
      "term_fid: 0.995\n",
      "dfid_stop: 1e-06\n",
      "no_CD_end: False\n",
      "learning_rate: 0.01\n",
      "epoch_size: 20\n",
      "epochs: 100\n",
      "beta_scale: 3.0\n",
      "gamma_scale: 3.0\n",
      "alpha1_scale: 1.0\n",
      "alpha2_scale: 1.0\n",
      "theta_scale: 3.141592653589793\n",
      "use_etas: False\n",
      "use_displacements: False\n",
      "use_phase: False\n",
      "name: Fock1 1\n",
      "comment: \n",
      "initial_params: [array([-1.14533-0.88386j,  0.52368-0.63883j,  0.84219+0.10698j,\n",
      "        0.2647 +0.4001j ,  0.04717+0.03105j]), array([0.+0.j, 0.+0.j, 0.+0.j, 0.+0.j, 0.+0.j]), array([0]), array([0]), array([ 0.     , -1.57369,  1.6241 , -1.52004,  3.1149 ]), array([90.+0.j, 90.+0.j, 90.+0.j, 90.+0.j, 90.+0.j]), array([-1.54785, -2.33499, -1.92023, -1.39409,  1.49799])]\n",
      "N_cav1: 10\n",
      "N_cav2: 10\n",
      "filename: Fock1 1.h5\n",
      "\n",
      "Best circuit parameters found:\n",
      "betas:         [-1.14533-0.88386j  0.52368-0.63883j  0.84219+0.10698j  0.2647 +0.4001j\n",
      "  0.04717+0.03105j]\n",
      "gammas:         [0.+0.j 0.+0.j 0.+0.j 0.+0.j 0.+0.j]\n",
      "alphas1:        [0.+0.j]\n",
      "alphas2:        [0.+0.j]\n",
      "phis (deg):    [  0.      -90.16602  93.05391 -87.09172 178.47043]\n",
      "etas (deg):    [116.62008 116.62008 116.62008 116.62008 116.62008]\n",
      "thetas (deg):  [ -88.68532 -133.78508 -110.02084  -79.87543   85.82858]\n",
      "Max Fidelity:  0.082235\n",
      "\n",
      "\n"
     ]
    },
    {
     "name": "stderr",
     "output_type": "stream",
     "text": [
      "C:\\Users\\Eesh Gupta\\anaconda\\lib\\site-packages\\tensorflow\\python\\framework\\constant_op.py:106: ComplexWarning: Casting complex values to real discards the imaginary part\n",
      "  return ops.EagerTensor(value, ctx.device_name, dtype)\n"
     ]
    }
   ],
   "source": [
    "decd_opt = BO_DECD(**decd_opt_params)\n",
    "decd_opt.print_info()"
   ]
  },
  {
   "cell_type": "code",
   "execution_count": 15,
   "id": "6c6364d5",
   "metadata": {},
   "outputs": [
    {
     "data": {
      "text/plain": [
       "<tf.Variable 'betas_rho:0' shape=(5, 1) dtype=float32, numpy=\n",
       "array([[1.4467168 ],\n",
       "       [0.82604146],\n",
       "       [0.8489574 ],\n",
       "       [0.47973543],\n",
       "       [0.05647222]], dtype=float32)>"
      ]
     },
     "execution_count": 15,
     "metadata": {},
     "output_type": "execute_result"
    }
   ],
   "source": [
    "decd_opt.betas_rho"
   ]
  },
  {
   "cell_type": "code",
   "execution_count": null,
   "id": "d89a334a",
   "metadata": {},
   "outputs": [],
   "source": []
  }
 ],
 "metadata": {
  "kernelspec": {
   "display_name": "Python 3",
   "language": "python",
   "name": "python3"
  },
  "language_info": {
   "codemirror_mode": {
    "name": "ipython",
    "version": 3
   },
   "file_extension": ".py",
   "mimetype": "text/x-python",
   "name": "python",
   "nbconvert_exporter": "python",
   "pygments_lexer": "ipython3",
   "version": "3.8.8"
  },
  "toc": {
   "base_numbering": 1,
   "nav_menu": {},
   "number_sections": true,
   "sideBar": true,
   "skip_h1_title": false,
   "title_cell": "Table of Contents",
   "title_sidebar": "Contents",
   "toc_cell": false,
   "toc_position": {},
   "toc_section_display": true,
   "toc_window_display": false
  },
  "varInspector": {
   "cols": {
    "lenName": 16,
    "lenType": 16,
    "lenVar": 40
   },
   "kernels_config": {
    "python": {
     "delete_cmd_postfix": "",
     "delete_cmd_prefix": "del ",
     "library": "var_list.py",
     "varRefreshCmd": "print(var_dic_list())"
    },
    "r": {
     "delete_cmd_postfix": ") ",
     "delete_cmd_prefix": "rm(",
     "library": "var_list.r",
     "varRefreshCmd": "cat(var_dic_list()) "
    }
   },
   "types_to_exclude": [
    "module",
    "function",
    "builtin_function_or_method",
    "instance",
    "_Feature"
   ],
   "window_display": false
  }
 },
 "nbformat": 4,
 "nbformat_minor": 5
}
