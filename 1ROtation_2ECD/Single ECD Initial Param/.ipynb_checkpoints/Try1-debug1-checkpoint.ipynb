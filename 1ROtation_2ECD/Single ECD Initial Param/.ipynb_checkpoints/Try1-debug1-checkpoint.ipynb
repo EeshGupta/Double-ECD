{
 "cells": [
  {
   "cell_type": "markdown",
   "id": "c98cefa7",
   "metadata": {
    "heading_collapsed": true
   },
   "source": [
    "### Imports"
   ]
  },
  {
   "cell_type": "code",
   "execution_count": 1,
   "id": "8913af1e",
   "metadata": {
    "hidden": true
   },
   "outputs": [],
   "source": [
    "import sys \n",
    "sys.path.append('C:\\\\Users\\\\Eesh Gupta\\\\Documents\\\\RU Research\\\\Chakram')"
   ]
  },
  {
   "cell_type": "code",
   "execution_count": 2,
   "id": "7ed65e3c",
   "metadata": {
    "hidden": true
   },
   "outputs": [
    {
     "name": "stdout",
     "output_type": "stream",
     "text": [
      "\n",
      "Need tf version 2.3.0 or later. Using tensorflow version: 2.7.0\n",
      "\n"
     ]
    }
   ],
   "source": [
    "from ECD import BatchOptimizer as BO_ECD\n",
    "from DECD import BatchOptimizer as BO_DECD"
   ]
  },
  {
   "cell_type": "code",
   "execution_count": 3,
   "id": "7432bead",
   "metadata": {
    "hidden": true
   },
   "outputs": [],
   "source": [
    "#%%\n",
    "# note: timestamp can't use \"/\" character for h5 saving.\n",
    "TIMESTAMP_FORMAT = \"%Y-%m-%d %H:%M:%S\"\n",
    "END_OPT_STRING = \"\\n\" + \"=\" * 60 + \"\\n\"\n",
    "import numpy as np\n",
    "import tensorflow as tf\n",
    "\n",
    "tf.compat.v1.logging.set_verbosity(tf.compat.v1.logging.ERROR)  # supress warnings\n",
    "import h5py\n",
    "\n",
    "# print(\n",
    "#     \"\\nNeed tf version 2.3.0 or later. Using tensorflow version: \"\n",
    "#     + tf.__version__\n",
    "#     + \"\\n\"\n",
    "# )\n",
    "import ECD_control.ECD_optimization.tf_quantum as tfq\n",
    "from ECD_control.ECD_optimization.visualization import VisualizationMixin\n",
    "import qutip as qt\n",
    "import datetime\n",
    "import time"
   ]
  },
  {
   "cell_type": "markdown",
   "id": "79e85681",
   "metadata": {},
   "source": [
    "### Single ECD g0 ->g1"
   ]
  },
  {
   "cell_type": "markdown",
   "id": "abdcf7ab",
   "metadata": {},
   "source": [
    "Initial Testing Code"
   ]
  },
  {
   "cell_type": "code",
   "execution_count": 4,
   "id": "5f906ea0",
   "metadata": {},
   "outputs": [],
   "source": [
    "#The target oscillator state.\n",
    "N =10\n",
    "psi_i = qt.basis(N, 0) # initial state\n",
    "psi_t = qt.basis(N,1) #target state\n",
    "\n",
    "#Opt Params\n",
    "#Optimization of ECD Circuit parameters (betas, phis, and thetas)\n",
    "#the optimization options\n",
    "ecd_opt_params = {\n",
    "'N_blocks' : 5, #circuit depth\n",
    "'N_multistart' : 10, #Batch size (number of circuit optimizations to run in parallel)\n",
    "'epochs' : 100, #number of epochs before termination\n",
    "'epoch_size' : 10, #number of adam steps per epoch\n",
    "'learning_rate' : 0.01, #adam learning rate\n",
    "'term_fid' : 0.99999, #terminal fidelitiy\n",
    "'dfid_stop' : 1e-6, #stop if dfid between two epochs is smaller than this number\n",
    "'beta_scale' : 3.0, #maximum |beta| for random initialization\n",
    "'initial_states' : [qt.tensor(qt.basis(2,0),psi_i)], #qubit tensor oscillator, start in |g> |0>\n",
    "'target_states' : [qt.tensor(qt.basis(2,0), psi_t)], #end in |e> |target>.\n",
    "'name' : 'Fock %d' % 1, #name for printing and saving\n",
    "'filename' : None, #if no filename specified, results will be saved in this folder under 'name.h5'\n",
    "}\n",
    "\n",
    "\n",
    "#note: optimizer includes pi pulse in every ECD step. However, final ECD step is implemented \n",
    "#in experiment as a displacement since the qubit and oscillator should be disentangled at this point.\n",
    "#So, we ask the optimizer to end in |e> |target> instead of |g>|target>."
   ]
  },
  {
   "cell_type": "code",
   "execution_count": 5,
   "id": "1d5f169e",
   "metadata": {},
   "outputs": [
    {
     "name": "stdout",
     "output_type": "stream",
     "text": [
      "optimization_type: state transfer\n",
      "N_multistart: 10\n",
      "N_blocks: 5\n",
      "term_fid: 0.99999\n",
      "dfid_stop: 1e-06\n",
      "no_CD_end: False\n",
      "learning_rate: 0.01\n",
      "epoch_size: 10\n",
      "epochs: 100\n",
      "beta_scale: 3.0\n",
      "alpha_scale: 1.0\n",
      "theta_scale: 3.141592653589793\n",
      "use_displacements: False\n",
      "use_phase: False\n",
      "name: Fock 1\n",
      "comment: \n",
      "N_cav: 10\n",
      "filename: Fock 1.h5\n",
      "\n",
      "Best circuit parameters found:\n",
      "betas:         [ 0.75695-2.16031j  1.22523+0.26477j -0.0387 +0.77189j  0.74086-1.56286j\n",
      "  0.75663-1.11638j]\n",
      "alphas:        [0.+0.j]\n",
      "phis (deg):    [   0.       138.68367 -113.04421  119.40723  138.0183 ]\n",
      "thetas (deg):  [  37.68006 -105.97542  -22.59271   27.60097  -49.33476]\n",
      "Max Fidelity:  0.237342\n",
      "\n",
      "\n"
     ]
    }
   ],
   "source": [
    "#Optimizer \n",
    "ecd_opt = BO_ECD(**ecd_opt_params)\n",
    "ecd_opt.print_info()"
   ]
  },
  {
   "cell_type": "code",
   "execution_count": 6,
   "id": "13af8cd2",
   "metadata": {},
   "outputs": [
    {
     "name": "stdout",
     "output_type": "stream",
     "text": [
      "Start time: 2022-05-19 05:21:53\n",
      " Epoch: 100 / 100 Max Fid: 0.992375 Avg Fid: 0.928579 Max dFid: 0.000056 Avg dFid: -0.000002 Elapsed time: 0:00:23.245382 Remaing time: 0:00:00232781\n",
      "\n",
      "Optimization stopped.  Reached maximum number of epochs. Terminal fidelity not reached.\n",
      "\n",
      "optimization_type: state transfer\n",
      "N_multistart: 10\n",
      "N_blocks: 5\n",
      "term_fid: 0.99999\n",
      "dfid_stop: 1e-06\n",
      "no_CD_end: False\n",
      "learning_rate: 0.01\n",
      "epoch_size: 10\n",
      "epochs: 100\n",
      "beta_scale: 3.0\n",
      "alpha_scale: 1.0\n",
      "theta_scale: 3.141592653589793\n",
      "use_displacements: False\n",
      "use_phase: False\n",
      "name: Fock 1\n",
      "comment: \n",
      "N_cav: 10\n",
      "filename: Fock 1.h5\n",
      "\n",
      "Best circuit parameters found:\n",
      "betas:         [ 0.73038+2.03842j  0.50538+0.60097j  1.19903-0.07548j  0.12641+0.63366j\n",
      " -0.00003+0.00002j]\n",
      "alphas:        [0.+0.j]\n",
      "phis (deg):    [   0.        89.99565   90.00452  -90.00742 -179.98834]\n",
      "thetas (deg):  [-90.00042  29.88534 -71.75325 -91.12687 -89.99737]\n",
      "Max Fidelity:  0.992375\n",
      "\n",
      "\n",
      "all data saved as: Fock 1.h5\n",
      "termination reason: epochs\n",
      "optimization timestamp (start time): 2022-05-19 05:21:53\n",
      "timestamp (end time): 2022-05-19 05:22:17\n",
      "elapsed time: 0:00:23.271107\n",
      "Time per epoch (epoch size = 10): 0:00:00.232711\n",
      "Time per Adam step (N_multistart = 10, N_cav = 10): 0:00:00.002327\n",
      "\n",
      "============================================================\n",
      "\n"
     ]
    },
    {
     "data": {
      "text/plain": [
       "'2022-05-19 05:21:53'"
      ]
     },
     "execution_count": 6,
     "metadata": {},
     "output_type": "execute_result"
    }
   ],
   "source": [
    "ecd_opt.optimize()"
   ]
  },
  {
   "cell_type": "code",
   "execution_count": 7,
   "id": "319604d9",
   "metadata": {},
   "outputs": [
    {
     "data": {
      "text/plain": [
       "{'fidelity': 0.9923751,\n",
       " 'betas': array([ 7.3038214e-01+2.0384190e+00j,  5.0537556e-01+6.0096645e-01j,\n",
       "         1.1990285e+00-7.5481251e-02j,  1.2640603e-01+6.3365859e-01j,\n",
       "        -3.1452510e-05+2.3970786e-05j], dtype=complex64),\n",
       " 'alphas': array([0.+0.j], dtype=complex64),\n",
       " 'phis': array([ 0.       ,  1.5707204,  1.5708754, -1.570926 , -3.1413894],\n",
       "       dtype=float32),\n",
       " 'thetas': array([-1.5708036,  0.5215976, -1.2523304, -1.590464 , -1.5707505],\n",
       "       dtype=float32)}"
      ]
     },
     "execution_count": 7,
     "metadata": {},
     "output_type": "execute_result"
    }
   ],
   "source": [
    "ecd_opt.best_circuit()"
   ]
  },
  {
   "cell_type": "markdown",
   "id": "4e802fe8",
   "metadata": {},
   "source": [
    "### Feeding ECD params to DECD"
   ]
  },
  {
   "cell_type": "markdown",
   "id": "28238f39",
   "metadata": {},
   "source": [
    "#### Convert ECD angles to DECD angles\n",
    "Add gamma"
   ]
  },
  {
   "cell_type": "code",
   "execution_count": 13,
   "id": "05b87e7d",
   "metadata": {},
   "outputs": [],
   "source": [
    "#obtain ECD params\n",
    "circ = ecd_opt.best_circuit()\n",
    "betas = circ['betas']\n",
    "alphas = circ['alphas']\n",
    "phis = circ['phis']\n",
    "thetas = circ['thetas']\n",
    "\n",
    "#gammas (displacement of second mode)\n",
    "gammas = np.copy(betas)\n",
    "for i in range(len(gammas)):\n",
    "    gammas[i] = 0.0 +0.0j\n",
    "\n",
    "#etas (just ignore this)\n",
    "etas = np.copy(betas)\n",
    "for i in range(len(etas)):\n",
    "    etas[i] = 90.0 #pi/2\n",
    "\n",
    "#new initial params (Needs 2 alphas for mode 1 and mode 2)\n",
    "init_params = [betas, gammas, alphas, alphas, phis, etas, thetas]"
   ]
  },
  {
   "cell_type": "code",
   "execution_count": null,
   "id": "d382198f",
   "metadata": {},
   "outputs": [],
   "source": []
  },
  {
   "cell_type": "code",
   "execution_count": 27,
   "id": "dd8926b3",
   "metadata": {},
   "outputs": [],
   "source": [
    "#Since DECD has more than 1 multistart, we will make sure all multistarts\n",
    "# have the same initial params-- namely the ecd onces\n",
    "N_multistart = 10\n",
    "init_params_more_multi = [np.array([i for j in range(N_multistart)]) for i in init_params]"
   ]
  },
  {
   "cell_type": "code",
   "execution_count": 28,
   "id": "183490cb",
   "metadata": {},
   "outputs": [
    {
     "data": {
      "text/plain": [
       "[array([[ 7.3038214e-01+2.0384190e+00j,  5.0537556e-01+6.0096645e-01j,\n",
       "          1.1990285e+00-7.5481251e-02j,  1.2640603e-01+6.3365859e-01j,\n",
       "         -3.1452510e-05+2.3970786e-05j],\n",
       "        [ 7.3038214e-01+2.0384190e+00j,  5.0537556e-01+6.0096645e-01j,\n",
       "          1.1990285e+00-7.5481251e-02j,  1.2640603e-01+6.3365859e-01j,\n",
       "         -3.1452510e-05+2.3970786e-05j],\n",
       "        [ 7.3038214e-01+2.0384190e+00j,  5.0537556e-01+6.0096645e-01j,\n",
       "          1.1990285e+00-7.5481251e-02j,  1.2640603e-01+6.3365859e-01j,\n",
       "         -3.1452510e-05+2.3970786e-05j],\n",
       "        [ 7.3038214e-01+2.0384190e+00j,  5.0537556e-01+6.0096645e-01j,\n",
       "          1.1990285e+00-7.5481251e-02j,  1.2640603e-01+6.3365859e-01j,\n",
       "         -3.1452510e-05+2.3970786e-05j],\n",
       "        [ 7.3038214e-01+2.0384190e+00j,  5.0537556e-01+6.0096645e-01j,\n",
       "          1.1990285e+00-7.5481251e-02j,  1.2640603e-01+6.3365859e-01j,\n",
       "         -3.1452510e-05+2.3970786e-05j],\n",
       "        [ 7.3038214e-01+2.0384190e+00j,  5.0537556e-01+6.0096645e-01j,\n",
       "          1.1990285e+00-7.5481251e-02j,  1.2640603e-01+6.3365859e-01j,\n",
       "         -3.1452510e-05+2.3970786e-05j],\n",
       "        [ 7.3038214e-01+2.0384190e+00j,  5.0537556e-01+6.0096645e-01j,\n",
       "          1.1990285e+00-7.5481251e-02j,  1.2640603e-01+6.3365859e-01j,\n",
       "         -3.1452510e-05+2.3970786e-05j],\n",
       "        [ 7.3038214e-01+2.0384190e+00j,  5.0537556e-01+6.0096645e-01j,\n",
       "          1.1990285e+00-7.5481251e-02j,  1.2640603e-01+6.3365859e-01j,\n",
       "         -3.1452510e-05+2.3970786e-05j],\n",
       "        [ 7.3038214e-01+2.0384190e+00j,  5.0537556e-01+6.0096645e-01j,\n",
       "          1.1990285e+00-7.5481251e-02j,  1.2640603e-01+6.3365859e-01j,\n",
       "         -3.1452510e-05+2.3970786e-05j],\n",
       "        [ 7.3038214e-01+2.0384190e+00j,  5.0537556e-01+6.0096645e-01j,\n",
       "          1.1990285e+00-7.5481251e-02j,  1.2640603e-01+6.3365859e-01j,\n",
       "         -3.1452510e-05+2.3970786e-05j]], dtype=complex64),\n",
       " array([[0.+0.j, 0.+0.j, 0.+0.j, 0.+0.j, 0.+0.j],\n",
       "        [0.+0.j, 0.+0.j, 0.+0.j, 0.+0.j, 0.+0.j],\n",
       "        [0.+0.j, 0.+0.j, 0.+0.j, 0.+0.j, 0.+0.j],\n",
       "        [0.+0.j, 0.+0.j, 0.+0.j, 0.+0.j, 0.+0.j],\n",
       "        [0.+0.j, 0.+0.j, 0.+0.j, 0.+0.j, 0.+0.j],\n",
       "        [0.+0.j, 0.+0.j, 0.+0.j, 0.+0.j, 0.+0.j],\n",
       "        [0.+0.j, 0.+0.j, 0.+0.j, 0.+0.j, 0.+0.j],\n",
       "        [0.+0.j, 0.+0.j, 0.+0.j, 0.+0.j, 0.+0.j],\n",
       "        [0.+0.j, 0.+0.j, 0.+0.j, 0.+0.j, 0.+0.j],\n",
       "        [0.+0.j, 0.+0.j, 0.+0.j, 0.+0.j, 0.+0.j]], dtype=complex64),\n",
       " array([[0.+0.j],\n",
       "        [0.+0.j],\n",
       "        [0.+0.j],\n",
       "        [0.+0.j],\n",
       "        [0.+0.j],\n",
       "        [0.+0.j],\n",
       "        [0.+0.j],\n",
       "        [0.+0.j],\n",
       "        [0.+0.j],\n",
       "        [0.+0.j]], dtype=complex64),\n",
       " array([[0.+0.j],\n",
       "        [0.+0.j],\n",
       "        [0.+0.j],\n",
       "        [0.+0.j],\n",
       "        [0.+0.j],\n",
       "        [0.+0.j],\n",
       "        [0.+0.j],\n",
       "        [0.+0.j],\n",
       "        [0.+0.j],\n",
       "        [0.+0.j]], dtype=complex64),\n",
       " array([[ 0.       ,  1.5707204,  1.5708754, -1.570926 , -3.1413894],\n",
       "        [ 0.       ,  1.5707204,  1.5708754, -1.570926 , -3.1413894],\n",
       "        [ 0.       ,  1.5707204,  1.5708754, -1.570926 , -3.1413894],\n",
       "        [ 0.       ,  1.5707204,  1.5708754, -1.570926 , -3.1413894],\n",
       "        [ 0.       ,  1.5707204,  1.5708754, -1.570926 , -3.1413894],\n",
       "        [ 0.       ,  1.5707204,  1.5708754, -1.570926 , -3.1413894],\n",
       "        [ 0.       ,  1.5707204,  1.5708754, -1.570926 , -3.1413894],\n",
       "        [ 0.       ,  1.5707204,  1.5708754, -1.570926 , -3.1413894],\n",
       "        [ 0.       ,  1.5707204,  1.5708754, -1.570926 , -3.1413894],\n",
       "        [ 0.       ,  1.5707204,  1.5708754, -1.570926 , -3.1413894]],\n",
       "       dtype=float32),\n",
       " array([[90.+0.j, 90.+0.j, 90.+0.j, 90.+0.j, 90.+0.j],\n",
       "        [90.+0.j, 90.+0.j, 90.+0.j, 90.+0.j, 90.+0.j],\n",
       "        [90.+0.j, 90.+0.j, 90.+0.j, 90.+0.j, 90.+0.j],\n",
       "        [90.+0.j, 90.+0.j, 90.+0.j, 90.+0.j, 90.+0.j],\n",
       "        [90.+0.j, 90.+0.j, 90.+0.j, 90.+0.j, 90.+0.j],\n",
       "        [90.+0.j, 90.+0.j, 90.+0.j, 90.+0.j, 90.+0.j],\n",
       "        [90.+0.j, 90.+0.j, 90.+0.j, 90.+0.j, 90.+0.j],\n",
       "        [90.+0.j, 90.+0.j, 90.+0.j, 90.+0.j, 90.+0.j],\n",
       "        [90.+0.j, 90.+0.j, 90.+0.j, 90.+0.j, 90.+0.j],\n",
       "        [90.+0.j, 90.+0.j, 90.+0.j, 90.+0.j, 90.+0.j]], dtype=complex64),\n",
       " array([[-1.5708036,  0.5215976, -1.2523304, -1.590464 , -1.5707505],\n",
       "        [-1.5708036,  0.5215976, -1.2523304, -1.590464 , -1.5707505],\n",
       "        [-1.5708036,  0.5215976, -1.2523304, -1.590464 , -1.5707505],\n",
       "        [-1.5708036,  0.5215976, -1.2523304, -1.590464 , -1.5707505],\n",
       "        [-1.5708036,  0.5215976, -1.2523304, -1.590464 , -1.5707505],\n",
       "        [-1.5708036,  0.5215976, -1.2523304, -1.590464 , -1.5707505],\n",
       "        [-1.5708036,  0.5215976, -1.2523304, -1.590464 , -1.5707505],\n",
       "        [-1.5708036,  0.5215976, -1.2523304, -1.590464 , -1.5707505],\n",
       "        [-1.5708036,  0.5215976, -1.2523304, -1.590464 , -1.5707505],\n",
       "        [-1.5708036,  0.5215976, -1.2523304, -1.590464 , -1.5707505]],\n",
       "       dtype=float32)]"
      ]
     },
     "execution_count": 28,
     "metadata": {},
     "output_type": "execute_result"
    }
   ],
   "source": [
    "init_params_more_multi"
   ]
  },
  {
   "cell_type": "markdown",
   "id": "d105cc74",
   "metadata": {},
   "source": [
    "#### Initial Testing Code"
   ]
  },
  {
   "cell_type": "code",
   "execution_count": 29,
   "id": "bd11304a",
   "metadata": {},
   "outputs": [],
   "source": [
    "#The target oscillator state.\n",
    "N1 =10\n",
    "N2 =10\n",
    "Fock1 = 0\n",
    "Fock2= 0\n",
    "psi_i1 = qt.basis(N1,Fock1) #target state\n",
    "psi_i2 = qt.basis(N2,Fock2)\n",
    "psi_initial = qt.tensor(psi_i1, psi_i2)"
   ]
  },
  {
   "cell_type": "code",
   "execution_count": 30,
   "id": "76d57b99",
   "metadata": {},
   "outputs": [
    {
     "data": {
      "text/latex": [
       "Quantum object: dims = [[10, 10], [1, 1]], shape = (100, 1), type = ket\\begin{equation*}\\left(\\begin{array}{*{11}c}0.0\\\\0.0\\\\0.0\\\\0.0\\\\0.0\\\\\\vdots\\\\0.0\\\\0.0\\\\0.0\\\\0.0\\\\0.0\\\\\\end{array}\\right)\\end{equation*}"
      ],
      "text/plain": [
       "Quantum object: dims = [[10, 10], [1, 1]], shape = (100, 1), type = ket\n",
       "Qobj data =\n",
       "[[0.]\n",
       " [0.]\n",
       " [0.]\n",
       " [0.]\n",
       " [0.]\n",
       " [0.]\n",
       " [0.]\n",
       " [0.]\n",
       " [0.]\n",
       " [0.]\n",
       " [1.]\n",
       " [0.]\n",
       " [0.]\n",
       " [0.]\n",
       " [0.]\n",
       " [0.]\n",
       " [0.]\n",
       " [0.]\n",
       " [0.]\n",
       " [0.]\n",
       " [0.]\n",
       " [0.]\n",
       " [0.]\n",
       " [0.]\n",
       " [0.]\n",
       " [0.]\n",
       " [0.]\n",
       " [0.]\n",
       " [0.]\n",
       " [0.]\n",
       " [0.]\n",
       " [0.]\n",
       " [0.]\n",
       " [0.]\n",
       " [0.]\n",
       " [0.]\n",
       " [0.]\n",
       " [0.]\n",
       " [0.]\n",
       " [0.]\n",
       " [0.]\n",
       " [0.]\n",
       " [0.]\n",
       " [0.]\n",
       " [0.]\n",
       " [0.]\n",
       " [0.]\n",
       " [0.]\n",
       " [0.]\n",
       " [0.]\n",
       " [0.]\n",
       " [0.]\n",
       " [0.]\n",
       " [0.]\n",
       " [0.]\n",
       " [0.]\n",
       " [0.]\n",
       " [0.]\n",
       " [0.]\n",
       " [0.]\n",
       " [0.]\n",
       " [0.]\n",
       " [0.]\n",
       " [0.]\n",
       " [0.]\n",
       " [0.]\n",
       " [0.]\n",
       " [0.]\n",
       " [0.]\n",
       " [0.]\n",
       " [0.]\n",
       " [0.]\n",
       " [0.]\n",
       " [0.]\n",
       " [0.]\n",
       " [0.]\n",
       " [0.]\n",
       " [0.]\n",
       " [0.]\n",
       " [0.]\n",
       " [0.]\n",
       " [0.]\n",
       " [0.]\n",
       " [0.]\n",
       " [0.]\n",
       " [0.]\n",
       " [0.]\n",
       " [0.]\n",
       " [0.]\n",
       " [0.]\n",
       " [0.]\n",
       " [0.]\n",
       " [0.]\n",
       " [0.]\n",
       " [0.]\n",
       " [0.]\n",
       " [0.]\n",
       " [0.]\n",
       " [0.]\n",
       " [0.]]"
      ]
     },
     "execution_count": 30,
     "metadata": {},
     "output_type": "execute_result"
    }
   ],
   "source": [
    "Fock1 = 1\n",
    "Fock2= 0\n",
    "psi_t1 = qt.basis(N1,Fock1) #target state\n",
    "psi_t2 = qt.basis(N2,Fock2)\n",
    "psi_target = qt.tensor(psi_t1, psi_t2)\n",
    "psi_target"
   ]
  },
  {
   "cell_type": "code",
   "execution_count": 31,
   "id": "039edcfd",
   "metadata": {},
   "outputs": [],
   "source": [
    "#Optimization of ECD Circuit parameters (betas, phis, and thetas)\n",
    "#the optimization options\n",
    "decd_opt_params = {\n",
    "'N_blocks' : 5, #circuit depth\n",
    "'N_multistart' : N_multistart, #Batch size (number of circuit optimizations to run in parallel)\n",
    "'epochs' : 100, #number of epochs before termination\n",
    "'epoch_size' : 20, #number of adam steps per epoch\n",
    "'learning_rate' : 0.01, #adam learning rate\n",
    "'term_fid' : 0.995, #terminal fidelitiy\n",
    "'dfid_stop' : 1e-6, #stop if dfid between two epochs is smaller than this number\n",
    "'beta_scale' : 3.0, #maximum |beta| for random initialization\n",
    "'gamma_scale' : 3.0, #maximum |gamma| for random initialization\n",
    "'N_cav1': N1, #number of levels in mode 1\n",
    "'N_cav2': N2, #number of levels in mode 2\n",
    "'initial_states' : [qt.tensor(qt.basis(2,0),psi_initial)], #qubit tensor oscillator, start in |g> |0>\n",
    "'target_states' : [qt.tensor(qt.basis(2,0), psi_target)], #end in |e> |target>.\n",
    "\"initial_params\": init_params_more_multi,\n",
    "'name' : 'Fock1 %d' % Fock1, #name for printing and saving\n",
    "'filename' : None, #if no filename specified, results will be saved in this folder under 'name.h5'\n",
    "}\n",
    "\n"
   ]
  },
  {
   "cell_type": "markdown",
   "id": "463cdc62",
   "metadata": {},
   "source": [
    "#### Running DECD"
   ]
  },
  {
   "cell_type": "code",
   "execution_count": 33,
   "id": "d577281b",
   "metadata": {},
   "outputs": [
    {
     "name": "stdout",
     "output_type": "stream",
     "text": [
      "[array([[ 7.3038214e-01+2.0384190e+00j,  5.0537556e-01+6.0096645e-01j,\n",
      "         1.1990285e+00-7.5481251e-02j,  1.2640603e-01+6.3365859e-01j,\n",
      "        -3.1452510e-05+2.3970786e-05j],\n",
      "       [ 7.3038214e-01+2.0384190e+00j,  5.0537556e-01+6.0096645e-01j,\n",
      "         1.1990285e+00-7.5481251e-02j,  1.2640603e-01+6.3365859e-01j,\n",
      "        -3.1452510e-05+2.3970786e-05j],\n",
      "       [ 7.3038214e-01+2.0384190e+00j,  5.0537556e-01+6.0096645e-01j,\n",
      "         1.1990285e+00-7.5481251e-02j,  1.2640603e-01+6.3365859e-01j,\n",
      "        -3.1452510e-05+2.3970786e-05j],\n",
      "       [ 7.3038214e-01+2.0384190e+00j,  5.0537556e-01+6.0096645e-01j,\n",
      "         1.1990285e+00-7.5481251e-02j,  1.2640603e-01+6.3365859e-01j,\n",
      "        -3.1452510e-05+2.3970786e-05j],\n",
      "       [ 7.3038214e-01+2.0384190e+00j,  5.0537556e-01+6.0096645e-01j,\n",
      "         1.1990285e+00-7.5481251e-02j,  1.2640603e-01+6.3365859e-01j,\n",
      "        -3.1452510e-05+2.3970786e-05j],\n",
      "       [ 7.3038214e-01+2.0384190e+00j,  5.0537556e-01+6.0096645e-01j,\n",
      "         1.1990285e+00-7.5481251e-02j,  1.2640603e-01+6.3365859e-01j,\n",
      "        -3.1452510e-05+2.3970786e-05j],\n",
      "       [ 7.3038214e-01+2.0384190e+00j,  5.0537556e-01+6.0096645e-01j,\n",
      "         1.1990285e+00-7.5481251e-02j,  1.2640603e-01+6.3365859e-01j,\n",
      "        -3.1452510e-05+2.3970786e-05j],\n",
      "       [ 7.3038214e-01+2.0384190e+00j,  5.0537556e-01+6.0096645e-01j,\n",
      "         1.1990285e+00-7.5481251e-02j,  1.2640603e-01+6.3365859e-01j,\n",
      "        -3.1452510e-05+2.3970786e-05j],\n",
      "       [ 7.3038214e-01+2.0384190e+00j,  5.0537556e-01+6.0096645e-01j,\n",
      "         1.1990285e+00-7.5481251e-02j,  1.2640603e-01+6.3365859e-01j,\n",
      "        -3.1452510e-05+2.3970786e-05j],\n",
      "       [ 7.3038214e-01+2.0384190e+00j,  5.0537556e-01+6.0096645e-01j,\n",
      "         1.1990285e+00-7.5481251e-02j,  1.2640603e-01+6.3365859e-01j,\n",
      "        -3.1452510e-05+2.3970786e-05j]], dtype=complex64), array([[0.+0.j, 0.+0.j, 0.+0.j, 0.+0.j, 0.+0.j],\n",
      "       [0.+0.j, 0.+0.j, 0.+0.j, 0.+0.j, 0.+0.j],\n",
      "       [0.+0.j, 0.+0.j, 0.+0.j, 0.+0.j, 0.+0.j],\n",
      "       [0.+0.j, 0.+0.j, 0.+0.j, 0.+0.j, 0.+0.j],\n",
      "       [0.+0.j, 0.+0.j, 0.+0.j, 0.+0.j, 0.+0.j],\n",
      "       [0.+0.j, 0.+0.j, 0.+0.j, 0.+0.j, 0.+0.j],\n",
      "       [0.+0.j, 0.+0.j, 0.+0.j, 0.+0.j, 0.+0.j],\n",
      "       [0.+0.j, 0.+0.j, 0.+0.j, 0.+0.j, 0.+0.j],\n",
      "       [0.+0.j, 0.+0.j, 0.+0.j, 0.+0.j, 0.+0.j],\n",
      "       [0.+0.j, 0.+0.j, 0.+0.j, 0.+0.j, 0.+0.j]], dtype=complex64), array([[0.+0.j],\n",
      "       [0.+0.j],\n",
      "       [0.+0.j],\n",
      "       [0.+0.j],\n",
      "       [0.+0.j],\n",
      "       [0.+0.j],\n",
      "       [0.+0.j],\n",
      "       [0.+0.j],\n",
      "       [0.+0.j],\n",
      "       [0.+0.j]], dtype=complex64), array([[0.+0.j],\n",
      "       [0.+0.j],\n",
      "       [0.+0.j],\n",
      "       [0.+0.j],\n",
      "       [0.+0.j],\n",
      "       [0.+0.j],\n",
      "       [0.+0.j],\n",
      "       [0.+0.j],\n",
      "       [0.+0.j],\n",
      "       [0.+0.j]], dtype=complex64), array([[ 0.       ,  1.5707204,  1.5708754, -1.570926 , -3.1413894],\n",
      "       [ 0.       ,  1.5707204,  1.5708754, -1.570926 , -3.1413894],\n",
      "       [ 0.       ,  1.5707204,  1.5708754, -1.570926 , -3.1413894],\n",
      "       [ 0.       ,  1.5707204,  1.5708754, -1.570926 , -3.1413894],\n",
      "       [ 0.       ,  1.5707204,  1.5708754, -1.570926 , -3.1413894],\n",
      "       [ 0.       ,  1.5707204,  1.5708754, -1.570926 , -3.1413894],\n",
      "       [ 0.       ,  1.5707204,  1.5708754, -1.570926 , -3.1413894],\n",
      "       [ 0.       ,  1.5707204,  1.5708754, -1.570926 , -3.1413894],\n",
      "       [ 0.       ,  1.5707204,  1.5708754, -1.570926 , -3.1413894],\n",
      "       [ 0.       ,  1.5707204,  1.5708754, -1.570926 , -3.1413894]],\n",
      "      dtype=float32), array([[90.+0.j, 90.+0.j, 90.+0.j, 90.+0.j, 90.+0.j],\n",
      "       [90.+0.j, 90.+0.j, 90.+0.j, 90.+0.j, 90.+0.j],\n",
      "       [90.+0.j, 90.+0.j, 90.+0.j, 90.+0.j, 90.+0.j],\n",
      "       [90.+0.j, 90.+0.j, 90.+0.j, 90.+0.j, 90.+0.j],\n",
      "       [90.+0.j, 90.+0.j, 90.+0.j, 90.+0.j, 90.+0.j],\n",
      "       [90.+0.j, 90.+0.j, 90.+0.j, 90.+0.j, 90.+0.j],\n",
      "       [90.+0.j, 90.+0.j, 90.+0.j, 90.+0.j, 90.+0.j],\n",
      "       [90.+0.j, 90.+0.j, 90.+0.j, 90.+0.j, 90.+0.j],\n",
      "       [90.+0.j, 90.+0.j, 90.+0.j, 90.+0.j, 90.+0.j],\n",
      "       [90.+0.j, 90.+0.j, 90.+0.j, 90.+0.j, 90.+0.j]], dtype=complex64), array([[-1.5708036,  0.5215976, -1.2523304, -1.590464 , -1.5707505],\n",
      "       [-1.5708036,  0.5215976, -1.2523304, -1.590464 , -1.5707505],\n",
      "       [-1.5708036,  0.5215976, -1.2523304, -1.590464 , -1.5707505],\n",
      "       [-1.5708036,  0.5215976, -1.2523304, -1.590464 , -1.5707505],\n",
      "       [-1.5708036,  0.5215976, -1.2523304, -1.590464 , -1.5707505],\n",
      "       [-1.5708036,  0.5215976, -1.2523304, -1.590464 , -1.5707505],\n",
      "       [-1.5708036,  0.5215976, -1.2523304, -1.590464 , -1.5707505],\n",
      "       [-1.5708036,  0.5215976, -1.2523304, -1.590464 , -1.5707505],\n",
      "       [-1.5708036,  0.5215976, -1.2523304, -1.590464 , -1.5707505],\n",
      "       [-1.5708036,  0.5215976, -1.2523304, -1.590464 , -1.5707505]],\n",
      "      dtype=float32)]\n",
      "Start time: 2022-05-19 05:35:43\n"
     ]
    },
    {
     "ename": "AttributeError",
     "evalue": "in user code:\n\n    File \"C:\\Users\\Eesh Gupta\\Documents\\RU Research\\Chakram\\Double-ECD\\1Rotation_2ECD\\Single ECD Initial Param\\DECD.py\", line 611, in batch_state_transfer_fidelities_real_part  *\n        bs = self.batch_construct_block_operators(\n    File \"C:\\Users\\Eesh Gupta\\Documents\\RU Research\\Chakram\\Double-ECD\\1Rotation_2ECD\\Single ECD Initial Param\\DECD.py\", line 460, in batch_construct_block_operators  *\n        ds_end = self.batch_construct_displacement_operators(D1, D2)\n    File \"C:\\Users\\Eesh Gupta\\Documents\\RU Research\\Chakram\\Double-ECD\\1Rotation_2ECD\\Single ECD Initial Param\\DECD.py\", line 414, in batch_construct_displacement_operators  *\n        operator_1 = tf.linalg.LinearOperatorFullMatrix(d1.numpy())\n\n    AttributeError: 'Tensor' object has no attribute 'numpy'\n",
     "output_type": "error",
     "traceback": [
      "\u001b[1;31m---------------------------------------------------------------------------\u001b[0m",
      "\u001b[1;31mAttributeError\u001b[0m                            Traceback (most recent call last)",
      "\u001b[1;32m<ipython-input-33-05f4eeb9a9fd>\u001b[0m in \u001b[0;36m<module>\u001b[1;34m\u001b[0m\n\u001b[0;32m      1\u001b[0m \u001b[0mdecd_opt\u001b[0m \u001b[1;33m=\u001b[0m \u001b[0mBO_DECD\u001b[0m\u001b[1;33m(\u001b[0m\u001b[1;33m**\u001b[0m\u001b[0mdecd_opt_params\u001b[0m\u001b[1;33m)\u001b[0m\u001b[1;33m\u001b[0m\u001b[1;33m\u001b[0m\u001b[0m\n\u001b[1;32m----> 2\u001b[1;33m \u001b[0mdecd_opt\u001b[0m\u001b[1;33m.\u001b[0m\u001b[0moptimize\u001b[0m\u001b[1;33m(\u001b[0m\u001b[1;33m)\u001b[0m\u001b[1;33m\u001b[0m\u001b[1;33m\u001b[0m\u001b[0m\n\u001b[0m",
      "\u001b[1;32m~\\Documents\\RU Research\\Chakram\\Double-ECD\\1Rotation_2ECD\\Single ECD Initial Param\\DECD.py\u001b[0m in \u001b[0;36moptimize\u001b[1;34m(self, do_prints)\u001b[0m\n\u001b[0;32m    853\u001b[0m                 )\n\u001b[0;32m    854\u001b[0m \u001b[1;33m\u001b[0m\u001b[0m\n\u001b[1;32m--> 855\u001b[1;33m         initial_fids = self.batch_fidelities(\n\u001b[0m\u001b[0;32m    856\u001b[0m             \u001b[0mself\u001b[0m\u001b[1;33m.\u001b[0m\u001b[0mbetas_rho\u001b[0m\u001b[1;33m,\u001b[0m\u001b[1;33m\u001b[0m\u001b[1;33m\u001b[0m\u001b[0m\n\u001b[0;32m    857\u001b[0m             \u001b[0mself\u001b[0m\u001b[1;33m.\u001b[0m\u001b[0mbetas_angle\u001b[0m\u001b[1;33m,\u001b[0m\u001b[1;33m\u001b[0m\u001b[1;33m\u001b[0m\u001b[0m\n",
      "\u001b[1;32m~\\anaconda\\lib\\site-packages\\tensorflow\\python\\util\\traceback_utils.py\u001b[0m in \u001b[0;36merror_handler\u001b[1;34m(*args, **kwargs)\u001b[0m\n\u001b[0;32m    151\u001b[0m     \u001b[1;32mexcept\u001b[0m \u001b[0mException\u001b[0m \u001b[1;32mas\u001b[0m \u001b[0me\u001b[0m\u001b[1;33m:\u001b[0m\u001b[1;33m\u001b[0m\u001b[1;33m\u001b[0m\u001b[0m\n\u001b[0;32m    152\u001b[0m       \u001b[0mfiltered_tb\u001b[0m \u001b[1;33m=\u001b[0m \u001b[0m_process_traceback_frames\u001b[0m\u001b[1;33m(\u001b[0m\u001b[0me\u001b[0m\u001b[1;33m.\u001b[0m\u001b[0m__traceback__\u001b[0m\u001b[1;33m)\u001b[0m\u001b[1;33m\u001b[0m\u001b[1;33m\u001b[0m\u001b[0m\n\u001b[1;32m--> 153\u001b[1;33m       \u001b[1;32mraise\u001b[0m \u001b[0me\u001b[0m\u001b[1;33m.\u001b[0m\u001b[0mwith_traceback\u001b[0m\u001b[1;33m(\u001b[0m\u001b[0mfiltered_tb\u001b[0m\u001b[1;33m)\u001b[0m \u001b[1;32mfrom\u001b[0m \u001b[1;32mNone\u001b[0m\u001b[1;33m\u001b[0m\u001b[1;33m\u001b[0m\u001b[0m\n\u001b[0m\u001b[0;32m    154\u001b[0m     \u001b[1;32mfinally\u001b[0m\u001b[1;33m:\u001b[0m\u001b[1;33m\u001b[0m\u001b[1;33m\u001b[0m\u001b[0m\n\u001b[0;32m    155\u001b[0m       \u001b[1;32mdel\u001b[0m \u001b[0mfiltered_tb\u001b[0m\u001b[1;33m\u001b[0m\u001b[1;33m\u001b[0m\u001b[0m\n",
      "\u001b[1;32m~\\anaconda\\lib\\site-packages\\tensorflow\\python\\framework\\func_graph.py\u001b[0m in \u001b[0;36mautograph_handler\u001b[1;34m(*args, **kwargs)\u001b[0m\n\u001b[0;32m   1127\u001b[0m           \u001b[1;32mexcept\u001b[0m \u001b[0mException\u001b[0m \u001b[1;32mas\u001b[0m \u001b[0me\u001b[0m\u001b[1;33m:\u001b[0m  \u001b[1;31m# pylint:disable=broad-except\u001b[0m\u001b[1;33m\u001b[0m\u001b[1;33m\u001b[0m\u001b[0m\n\u001b[0;32m   1128\u001b[0m             \u001b[1;32mif\u001b[0m \u001b[0mhasattr\u001b[0m\u001b[1;33m(\u001b[0m\u001b[0me\u001b[0m\u001b[1;33m,\u001b[0m \u001b[1;34m\"ag_error_metadata\"\u001b[0m\u001b[1;33m)\u001b[0m\u001b[1;33m:\u001b[0m\u001b[1;33m\u001b[0m\u001b[1;33m\u001b[0m\u001b[0m\n\u001b[1;32m-> 1129\u001b[1;33m               \u001b[1;32mraise\u001b[0m \u001b[0me\u001b[0m\u001b[1;33m.\u001b[0m\u001b[0mag_error_metadata\u001b[0m\u001b[1;33m.\u001b[0m\u001b[0mto_exception\u001b[0m\u001b[1;33m(\u001b[0m\u001b[0me\u001b[0m\u001b[1;33m)\u001b[0m\u001b[1;33m\u001b[0m\u001b[1;33m\u001b[0m\u001b[0m\n\u001b[0m\u001b[0;32m   1130\u001b[0m             \u001b[1;32melse\u001b[0m\u001b[1;33m:\u001b[0m\u001b[1;33m\u001b[0m\u001b[1;33m\u001b[0m\u001b[0m\n\u001b[0;32m   1131\u001b[0m               \u001b[1;32mraise\u001b[0m\u001b[1;33m\u001b[0m\u001b[1;33m\u001b[0m\u001b[0m\n",
      "\u001b[1;31mAttributeError\u001b[0m: in user code:\n\n    File \"C:\\Users\\Eesh Gupta\\Documents\\RU Research\\Chakram\\Double-ECD\\1Rotation_2ECD\\Single ECD Initial Param\\DECD.py\", line 611, in batch_state_transfer_fidelities_real_part  *\n        bs = self.batch_construct_block_operators(\n    File \"C:\\Users\\Eesh Gupta\\Documents\\RU Research\\Chakram\\Double-ECD\\1Rotation_2ECD\\Single ECD Initial Param\\DECD.py\", line 460, in batch_construct_block_operators  *\n        ds_end = self.batch_construct_displacement_operators(D1, D2)\n    File \"C:\\Users\\Eesh Gupta\\Documents\\RU Research\\Chakram\\Double-ECD\\1Rotation_2ECD\\Single ECD Initial Param\\DECD.py\", line 414, in batch_construct_displacement_operators  *\n        operator_1 = tf.linalg.LinearOperatorFullMatrix(d1.numpy())\n\n    AttributeError: 'Tensor' object has no attribute 'numpy'\n"
     ]
    }
   ],
   "source": [
    "decd_opt = BO_DECD(**decd_opt_params)\n",
    "decd_opt.optimize()"
   ]
  },
  {
   "cell_type": "code",
   "execution_count": 38,
   "id": "6c6364d5",
   "metadata": {},
   "outputs": [
    {
     "data": {
      "text/plain": [
       "<tf.Variable 'betas_rho:0' shape=(10, 5) dtype=float32, numpy=\n",
       "array([[2.1653199e+00, 7.8521663e-01, 1.2014019e+00, 6.4614373e-01,\n",
       "        3.9545655e-05],\n",
       "       [2.1653199e+00, 7.8521663e-01, 1.2014019e+00, 6.4614373e-01,\n",
       "        3.9545655e-05],\n",
       "       [2.1653199e+00, 7.8521663e-01, 1.2014019e+00, 6.4614373e-01,\n",
       "        3.9545655e-05],\n",
       "       [2.1653199e+00, 7.8521663e-01, 1.2014019e+00, 6.4614373e-01,\n",
       "        3.9545655e-05],\n",
       "       [2.1653199e+00, 7.8521663e-01, 1.2014019e+00, 6.4614373e-01,\n",
       "        3.9545655e-05],\n",
       "       [2.1653199e+00, 7.8521663e-01, 1.2014019e+00, 6.4614373e-01,\n",
       "        3.9545655e-05],\n",
       "       [2.1653199e+00, 7.8521663e-01, 1.2014019e+00, 6.4614373e-01,\n",
       "        3.9545655e-05],\n",
       "       [2.1653199e+00, 7.8521663e-01, 1.2014019e+00, 6.4614373e-01,\n",
       "        3.9545655e-05],\n",
       "       [2.1653199e+00, 7.8521663e-01, 1.2014019e+00, 6.4614373e-01,\n",
       "        3.9545655e-05],\n",
       "       [2.1653199e+00, 7.8521663e-01, 1.2014019e+00, 6.4614373e-01,\n",
       "        3.9545655e-05]], dtype=float32)>"
      ]
     },
     "execution_count": 38,
     "metadata": {},
     "output_type": "execute_result"
    }
   ],
   "source": [
    "decd_opt.betas_rho"
   ]
  },
  {
   "cell_type": "code",
   "execution_count": null,
   "id": "d89a334a",
   "metadata": {},
   "outputs": [],
   "source": []
  }
 ],
 "metadata": {
  "kernelspec": {
   "display_name": "Python 3",
   "language": "python",
   "name": "python3"
  },
  "language_info": {
   "codemirror_mode": {
    "name": "ipython",
    "version": 3
   },
   "file_extension": ".py",
   "mimetype": "text/x-python",
   "name": "python",
   "nbconvert_exporter": "python",
   "pygments_lexer": "ipython3",
   "version": "3.8.8"
  },
  "toc": {
   "base_numbering": 1,
   "nav_menu": {},
   "number_sections": true,
   "sideBar": true,
   "skip_h1_title": false,
   "title_cell": "Table of Contents",
   "title_sidebar": "Contents",
   "toc_cell": false,
   "toc_position": {},
   "toc_section_display": true,
   "toc_window_display": false
  },
  "varInspector": {
   "cols": {
    "lenName": 16,
    "lenType": 16,
    "lenVar": 40
   },
   "kernels_config": {
    "python": {
     "delete_cmd_postfix": "",
     "delete_cmd_prefix": "del ",
     "library": "var_list.py",
     "varRefreshCmd": "print(var_dic_list())"
    },
    "r": {
     "delete_cmd_postfix": ") ",
     "delete_cmd_prefix": "rm(",
     "library": "var_list.r",
     "varRefreshCmd": "cat(var_dic_list()) "
    }
   },
   "types_to_exclude": [
    "module",
    "function",
    "builtin_function_or_method",
    "instance",
    "_Feature"
   ],
   "window_display": false
  }
 },
 "nbformat": 4,
 "nbformat_minor": 5
}
