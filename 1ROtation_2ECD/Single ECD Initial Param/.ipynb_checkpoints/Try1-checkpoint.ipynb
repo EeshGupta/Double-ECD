{
 "cells": [
  {
   "cell_type": "markdown",
   "id": "d2b333d8",
   "metadata": {},
   "source": [
    "### Imports"
   ]
  },
  {
   "cell_type": "code",
   "execution_count": 1,
   "id": "ef8c1650",
   "metadata": {},
   "outputs": [],
   "source": [
    "import sys \n",
    "sys.path.append('C:\\\\Users\\\\Eesh Gupta\\\\Documents\\\\RU Research\\\\Chakram')"
   ]
  },
  {
   "cell_type": "code",
   "execution_count": 2,
   "id": "843d2bdf",
   "metadata": {},
   "outputs": [
    {
     "name": "stdout",
     "output_type": "stream",
     "text": [
      "\n",
      "Need tf version 2.3.0 or later. Using tensorflow version: 2.7.0\n",
      "\n"
     ]
    }
   ],
   "source": [
    "from ECD import BatchOptimizer as BO_ECD\n",
    "from DECD_Old import BatchOptimizer as BO_DECD"
   ]
  },
  {
   "cell_type": "code",
   "execution_count": 3,
   "id": "7992b731",
   "metadata": {},
   "outputs": [],
   "source": [
    "#%%\n",
    "# note: timestamp can't use \"/\" character for h5 saving.\n",
    "TIMESTAMP_FORMAT = \"%Y-%m-%d %H:%M:%S\"\n",
    "END_OPT_STRING = \"\\n\" + \"=\" * 60 + \"\\n\"\n",
    "import numpy as np\n",
    "import tensorflow as tf\n",
    "\n",
    "tf.compat.v1.logging.set_verbosity(tf.compat.v1.logging.ERROR)  # supress warnings\n",
    "import h5py\n",
    "\n",
    "# print(\n",
    "#     \"\\nNeed tf version 2.3.0 or later. Using tensorflow version: \"\n",
    "#     + tf.__version__\n",
    "#     + \"\\n\"\n",
    "# )\n",
    "import ECD_control.ECD_optimization.tf_quantum as tfq\n",
    "from ECD_control.ECD_optimization.visualization import VisualizationMixin\n",
    "import qutip as qt\n",
    "import datetime\n",
    "import time"
   ]
  },
  {
   "cell_type": "markdown",
   "id": "4112b833",
   "metadata": {},
   "source": [
    "### Single ECD g0 ->g1"
   ]
  },
  {
   "cell_type": "markdown",
   "id": "7cbca957",
   "metadata": {},
   "source": [
    "Initial Testing Code"
   ]
  },
  {
   "cell_type": "code",
   "execution_count": 4,
   "id": "815418cb",
   "metadata": {},
   "outputs": [],
   "source": [
    "#The target oscillator state.\n",
    "N =10\n",
    "psi_i = qt.basis(N, 0) # initial state\n",
    "psi_t = qt.basis(N,1) #target state\n",
    "\n",
    "#Opt Params\n",
    "#Optimization of ECD Circuit parameters (betas, phis, and thetas)\n",
    "#the optimization options\n",
    "ecd_opt_params = {\n",
    "'N_blocks' : 5, #circuit depth\n",
    "'N_multistart' : 10, #Batch size (number of circuit optimizations to run in parallel)\n",
    "'epochs' : 1000, #number of epochs before termination\n",
    "'epoch_size' : 10, #number of adam steps per epoch\n",
    "'learning_rate' : 0.01, #adam learning rate\n",
    "'term_fid' : 0.9999, #terminal fidelitiy\n",
    "'dfid_stop' : 1e-6, #stop if dfid between two epochs is smaller than this number\n",
    "'beta_scale' : 3.0, #maximum |beta| for random initialization\n",
    "'initial_states' : [qt.tensor(qt.basis(2,0),psi_i)], #qubit tensor oscillator, start in |g> |0>\n",
    "'target_states' : [qt.tensor(qt.basis(2,0), psi_t)], #end in |e> |target>.\n",
    "'name' : 'Fock %d' % 1, #name for printing and saving\n",
    "'filename' : None, #if no filename specified, results will be saved in this folder under 'name.h5'\n",
    "}\n",
    "\n",
    "\n",
    "#note: optimizer includes pi pulse in every ECD step. However, final ECD step is implemented \n",
    "#in experiment as a displacement since the qubit and oscillator should be disentangled at this point.\n",
    "#So, we ask the optimizer to end in |e> |target> instead of |g>|target>."
   ]
  },
  {
   "cell_type": "code",
   "execution_count": 5,
   "id": "b6a58a9c",
   "metadata": {},
   "outputs": [
    {
     "name": "stdout",
     "output_type": "stream",
     "text": [
      "optimization_type: state transfer\n",
      "N_multistart: 10\n",
      "N_blocks: 5\n",
      "term_fid: 0.9999\n",
      "dfid_stop: 1e-06\n",
      "no_CD_end: False\n",
      "learning_rate: 0.01\n",
      "epoch_size: 10\n",
      "epochs: 1000\n",
      "beta_scale: 3.0\n",
      "alpha_scale: 1.0\n",
      "theta_scale: 3.141592653589793\n",
      "use_displacements: False\n",
      "use_phase: False\n",
      "name: Fock 1\n",
      "comment: \n",
      "N_cav: 10\n",
      "filename: Fock 1.h5\n",
      "\n",
      "Best circuit parameters found:\n",
      "betas:         [-0.08254-0.33114j -0.93251-0.77643j -0.28432-1.47222j -0.29166+0.95669j\n",
      " -2.07364-1.06129j]\n",
      "alphas:        [0.+0.j]\n",
      "phis (deg):    [  0.      -52.4231  138.08344 -59.02718  22.70717]\n",
      "thetas (deg):  [ -93.94506 -146.12735  -85.93204 -100.17455  145.30782]\n",
      "Max Fidelity:  0.223138\n",
      "\n",
      "\n"
     ]
    }
   ],
   "source": [
    "#Optimizer \n",
    "ecd_opt = BO_ECD(**ecd_opt_params)\n",
    "ecd_opt.print_info()"
   ]
  },
  {
   "cell_type": "code",
   "execution_count": 6,
   "id": "1fdc1328",
   "metadata": {},
   "outputs": [
    {
     "name": "stdout",
     "output_type": "stream",
     "text": [
      "Start time: 2022-05-22 03:52:53\n",
      " Epoch: 90 / 1000 Max Fid: 0.998170 Avg Fid: 0.955409 Max dFid: 0.000001 Avg dFid: 0.000000 Elapsed time: 0:00:22.473273 Remaing time: 0:03:47.2297611\n",
      " max dFid: 0.000001\n",
      "dFid stop: 0.000001\n",
      "\n",
      "\n",
      " Optimization stopped.  No dfid is greater than dfid_stop\n",
      "\n",
      "optimization_type: state transfer\n",
      "N_multistart: 10\n",
      "N_blocks: 5\n",
      "term_fid: 0.9999\n",
      "dfid_stop: 1e-06\n",
      "no_CD_end: False\n",
      "learning_rate: 0.01\n",
      "epoch_size: 10\n",
      "epochs: 1000\n",
      "beta_scale: 3.0\n",
      "alpha_scale: 1.0\n",
      "theta_scale: 3.141592653589793\n",
      "use_displacements: False\n",
      "use_phase: False\n",
      "name: Fock 1\n",
      "comment: \n",
      "N_cav: 10\n",
      "filename: Fock 1.h5\n",
      "\n",
      "Best circuit parameters found:\n",
      "betas:         [-0.40899-1.5132j  -1.13592+0.39294j  0.24807-0.65493j -0.08444-1.19726j\n",
      " -0.00001-0.00002j]\n",
      "alphas:        [0.+0.j]\n",
      "phis (deg):    [  0.       89.99414  89.98286  90.01535 179.98871]\n",
      "thetas (deg):  [  90.00426   86.32995 -115.72317  -36.10104   89.99819]\n",
      "Max Fidelity:  0.998170\n",
      "\n",
      "\n",
      "all data saved as: Fock 1.h5\n",
      "termination reason: dfid\n",
      "optimization timestamp (start time): 2022-05-22 03:52:53\n",
      "timestamp (end time): 2022-05-22 03:53:16\n",
      "elapsed time: 0:00:22.501198\n",
      "Time per epoch (epoch size = 10): 0:00:00.250013\n",
      "Time per Adam step (N_multistart = 10, N_cav = 10): 0:00:00.000250\n",
      "\n",
      "============================================================\n",
      "\n"
     ]
    },
    {
     "data": {
      "text/plain": [
       "'2022-05-22 03:52:53'"
      ]
     },
     "execution_count": 6,
     "metadata": {},
     "output_type": "execute_result"
    }
   ],
   "source": [
    "ecd_opt.optimize()"
   ]
  },
  {
   "cell_type": "code",
   "execution_count": 7,
   "id": "e05b76aa",
   "metadata": {},
   "outputs": [
    {
     "data": {
      "text/plain": [
       "{'fidelity': 0.9981705,\n",
       " 'betas': array([-4.0898558e-01-1.5132022e+00j, -1.1359162e+00+3.9293993e-01j,\n",
       "         2.4806748e-01-6.5493113e-01j, -8.4440157e-02-1.1972619e+00j,\n",
       "        -5.9318804e-06-2.2492326e-05j], dtype=complex64),\n",
       " 'alphas': array([0.+0.j], dtype=complex64),\n",
       " 'phis': array([0.       , 1.5706942, 1.5704973, 1.5710642, 3.1413958],\n",
       "       dtype=float32),\n",
       " 'thetas': array([ 1.5708706 ,  1.5067418 , -2.0197504 , -0.63008213,  1.5707648 ],\n",
       "       dtype=float32)}"
      ]
     },
     "execution_count": 7,
     "metadata": {},
     "output_type": "execute_result"
    }
   ],
   "source": [
    "ecd_opt.best_circuit()"
   ]
  },
  {
   "cell_type": "code",
   "execution_count": 10,
   "id": "1af945a5",
   "metadata": {},
   "outputs": [],
   "source": [
    "# saving angles \n",
    "betas = ecd_opt.best_circuit()['betas']\n",
    "#gammas = opt.best_circuit()['gammas']\n",
    "phis = ecd_opt.best_circuit()['phis']\n",
    "thetas = ecd_opt.best_circuit()['thetas']\n",
    "#etas = opt.best_circuit()['etas']\n",
    "params = [np.real(betas), np.imag(betas), phis, thetas]\n",
    "for i in range(len(params)):\n",
    "    params[i] = [float(k) for k in params[i]]\n",
    "\n",
    "fname = 'Test_g0_g1_May22.txt'\n",
    "a_file = open(fname, \"w\")\n",
    "np.savetxt(a_file, params)\n",
    "a_file.close()"
   ]
  },
  {
   "cell_type": "markdown",
   "id": "df316137",
   "metadata": {},
   "source": [
    "### Feeding ECD params to DECD"
   ]
  },
  {
   "cell_type": "markdown",
   "id": "f89d25d2",
   "metadata": {
    "heading_collapsed": true
   },
   "source": [
    "#### Convert ECD angles to DECD angles\n",
    "Add gamma"
   ]
  },
  {
   "cell_type": "code",
   "execution_count": 44,
   "id": "9c51aa4a",
   "metadata": {
    "hidden": true
   },
   "outputs": [],
   "source": [
    "#obtain ECD params\n",
    "circ = ecd_opt.best_circuit()\n",
    "betas = circ['betas']\n",
    "alphas = circ['alphas']\n",
    "phis = circ['phis']\n",
    "thetas = circ['thetas']\n",
    "\n",
    "#gammas (displacement of second mode)\n",
    "gammas = np.copy(betas)\n",
    "for i in range(len(gammas)):\n",
    "    gammas[i] = 0.0 +0.0j\n",
    "\n",
    "#etas (just ignore this)\n",
    "etas = np.copy(betas)\n",
    "for i in range(len(etas)):\n",
    "    etas[i] = np.pi/2 #pi/2\n",
    "\n",
    "#new initial params (Needs 2 alphas for mode 1 and mode 2)\n",
    "init_params = [betas, gammas, alphas, alphas, phis, etas, thetas]"
   ]
  },
  {
   "cell_type": "code",
   "execution_count": 45,
   "id": "d0653dcc",
   "metadata": {
    "hidden": true
   },
   "outputs": [
    {
     "data": {
      "text/plain": [
       "array([1.5707964+0.j, 1.5707964+0.j, 1.5707964+0.j, 1.5707964+0.j,\n",
       "       1.5707964+0.j], dtype=complex64)"
      ]
     },
     "execution_count": 45,
     "metadata": {},
     "output_type": "execute_result"
    }
   ],
   "source": [
    "etas"
   ]
  },
  {
   "cell_type": "code",
   "execution_count": 46,
   "id": "e517a2dc",
   "metadata": {
    "hidden": true
   },
   "outputs": [],
   "source": [
    "#Since DECD has more than 1 multistart, we will make sure all multistarts\n",
    "# have the same initial params-- namely the ecd onces\n",
    "N_multistart = 10\n",
    "init_params_more_multi = [np.array([i for j in range(N_multistart)]) for i in init_params]"
   ]
  },
  {
   "cell_type": "code",
   "execution_count": 47,
   "id": "56b10cfd",
   "metadata": {
    "hidden": true
   },
   "outputs": [
    {
     "data": {
      "text/plain": [
       "[array([[-2.0400467e+00+7.3097885e-01j, -6.0226512e-01+5.0592250e-01j,\n",
       "         -7.5922124e-02-1.1985768e+00j,  6.3371098e-01-1.2616897e-01j,\n",
       "         -1.0394355e-05-2.6693851e-05j],\n",
       "        [-2.0400467e+00+7.3097885e-01j, -6.0226512e-01+5.0592250e-01j,\n",
       "         -7.5922124e-02-1.1985768e+00j,  6.3371098e-01-1.2616897e-01j,\n",
       "         -1.0394355e-05-2.6693851e-05j],\n",
       "        [-2.0400467e+00+7.3097885e-01j, -6.0226512e-01+5.0592250e-01j,\n",
       "         -7.5922124e-02-1.1985768e+00j,  6.3371098e-01-1.2616897e-01j,\n",
       "         -1.0394355e-05-2.6693851e-05j],\n",
       "        [-2.0400467e+00+7.3097885e-01j, -6.0226512e-01+5.0592250e-01j,\n",
       "         -7.5922124e-02-1.1985768e+00j,  6.3371098e-01-1.2616897e-01j,\n",
       "         -1.0394355e-05-2.6693851e-05j],\n",
       "        [-2.0400467e+00+7.3097885e-01j, -6.0226512e-01+5.0592250e-01j,\n",
       "         -7.5922124e-02-1.1985768e+00j,  6.3371098e-01-1.2616897e-01j,\n",
       "         -1.0394355e-05-2.6693851e-05j],\n",
       "        [-2.0400467e+00+7.3097885e-01j, -6.0226512e-01+5.0592250e-01j,\n",
       "         -7.5922124e-02-1.1985768e+00j,  6.3371098e-01-1.2616897e-01j,\n",
       "         -1.0394355e-05-2.6693851e-05j],\n",
       "        [-2.0400467e+00+7.3097885e-01j, -6.0226512e-01+5.0592250e-01j,\n",
       "         -7.5922124e-02-1.1985768e+00j,  6.3371098e-01-1.2616897e-01j,\n",
       "         -1.0394355e-05-2.6693851e-05j],\n",
       "        [-2.0400467e+00+7.3097885e-01j, -6.0226512e-01+5.0592250e-01j,\n",
       "         -7.5922124e-02-1.1985768e+00j,  6.3371098e-01-1.2616897e-01j,\n",
       "         -1.0394355e-05-2.6693851e-05j],\n",
       "        [-2.0400467e+00+7.3097885e-01j, -6.0226512e-01+5.0592250e-01j,\n",
       "         -7.5922124e-02-1.1985768e+00j,  6.3371098e-01-1.2616897e-01j,\n",
       "         -1.0394355e-05-2.6693851e-05j],\n",
       "        [-2.0400467e+00+7.3097885e-01j, -6.0226512e-01+5.0592250e-01j,\n",
       "         -7.5922124e-02-1.1985768e+00j,  6.3371098e-01-1.2616897e-01j,\n",
       "         -1.0394355e-05-2.6693851e-05j]], dtype=complex64),\n",
       " array([[0.+0.j, 0.+0.j, 0.+0.j, 0.+0.j, 0.+0.j],\n",
       "        [0.+0.j, 0.+0.j, 0.+0.j, 0.+0.j, 0.+0.j],\n",
       "        [0.+0.j, 0.+0.j, 0.+0.j, 0.+0.j, 0.+0.j],\n",
       "        [0.+0.j, 0.+0.j, 0.+0.j, 0.+0.j, 0.+0.j],\n",
       "        [0.+0.j, 0.+0.j, 0.+0.j, 0.+0.j, 0.+0.j],\n",
       "        [0.+0.j, 0.+0.j, 0.+0.j, 0.+0.j, 0.+0.j],\n",
       "        [0.+0.j, 0.+0.j, 0.+0.j, 0.+0.j, 0.+0.j],\n",
       "        [0.+0.j, 0.+0.j, 0.+0.j, 0.+0.j, 0.+0.j],\n",
       "        [0.+0.j, 0.+0.j, 0.+0.j, 0.+0.j, 0.+0.j],\n",
       "        [0.+0.j, 0.+0.j, 0.+0.j, 0.+0.j, 0.+0.j]], dtype=complex64),\n",
       " array([[0.+0.j],\n",
       "        [0.+0.j],\n",
       "        [0.+0.j],\n",
       "        [0.+0.j],\n",
       "        [0.+0.j],\n",
       "        [0.+0.j],\n",
       "        [0.+0.j],\n",
       "        [0.+0.j],\n",
       "        [0.+0.j],\n",
       "        [0.+0.j]], dtype=complex64),\n",
       " array([[0.+0.j],\n",
       "        [0.+0.j],\n",
       "        [0.+0.j],\n",
       "        [0.+0.j],\n",
       "        [0.+0.j],\n",
       "        [0.+0.j],\n",
       "        [0.+0.j],\n",
       "        [0.+0.j],\n",
       "        [0.+0.j],\n",
       "        [0.+0.j]], dtype=complex64),\n",
       " array([[ 0.       ,  1.5708597, -1.5707352,  1.5706694, -3.1414587],\n",
       "        [ 0.       ,  1.5708597, -1.5707352,  1.5706694, -3.1414587],\n",
       "        [ 0.       ,  1.5708597, -1.5707352,  1.5706694, -3.1414587],\n",
       "        [ 0.       ,  1.5708597, -1.5707352,  1.5706694, -3.1414587],\n",
       "        [ 0.       ,  1.5708597, -1.5707352,  1.5706694, -3.1414587],\n",
       "        [ 0.       ,  1.5708597, -1.5707352,  1.5706694, -3.1414587],\n",
       "        [ 0.       ,  1.5708597, -1.5707352,  1.5706694, -3.1414587],\n",
       "        [ 0.       ,  1.5708597, -1.5707352,  1.5706694, -3.1414587],\n",
       "        [ 0.       ,  1.5708597, -1.5707352,  1.5706694, -3.1414587],\n",
       "        [ 0.       ,  1.5708597, -1.5707352,  1.5706694, -3.1414587]],\n",
       "       dtype=float32),\n",
       " array([[1.5707964+0.j, 1.5707964+0.j, 1.5707964+0.j, 1.5707964+0.j,\n",
       "         1.5707964+0.j],\n",
       "        [1.5707964+0.j, 1.5707964+0.j, 1.5707964+0.j, 1.5707964+0.j,\n",
       "         1.5707964+0.j],\n",
       "        [1.5707964+0.j, 1.5707964+0.j, 1.5707964+0.j, 1.5707964+0.j,\n",
       "         1.5707964+0.j],\n",
       "        [1.5707964+0.j, 1.5707964+0.j, 1.5707964+0.j, 1.5707964+0.j,\n",
       "         1.5707964+0.j],\n",
       "        [1.5707964+0.j, 1.5707964+0.j, 1.5707964+0.j, 1.5707964+0.j,\n",
       "         1.5707964+0.j],\n",
       "        [1.5707964+0.j, 1.5707964+0.j, 1.5707964+0.j, 1.5707964+0.j,\n",
       "         1.5707964+0.j],\n",
       "        [1.5707964+0.j, 1.5707964+0.j, 1.5707964+0.j, 1.5707964+0.j,\n",
       "         1.5707964+0.j],\n",
       "        [1.5707964+0.j, 1.5707964+0.j, 1.5707964+0.j, 1.5707964+0.j,\n",
       "         1.5707964+0.j],\n",
       "        [1.5707964+0.j, 1.5707964+0.j, 1.5707964+0.j, 1.5707964+0.j,\n",
       "         1.5707964+0.j],\n",
       "        [1.5707964+0.j, 1.5707964+0.j, 1.5707964+0.j, 1.5707964+0.j,\n",
       "         1.5707964+0.j]], dtype=complex64),\n",
       " array([[-1.5708332,  0.5202961, -1.8881037,  1.5908492, -1.5708153],\n",
       "        [-1.5708332,  0.5202961, -1.8881037,  1.5908492, -1.5708153],\n",
       "        [-1.5708332,  0.5202961, -1.8881037,  1.5908492, -1.5708153],\n",
       "        [-1.5708332,  0.5202961, -1.8881037,  1.5908492, -1.5708153],\n",
       "        [-1.5708332,  0.5202961, -1.8881037,  1.5908492, -1.5708153],\n",
       "        [-1.5708332,  0.5202961, -1.8881037,  1.5908492, -1.5708153],\n",
       "        [-1.5708332,  0.5202961, -1.8881037,  1.5908492, -1.5708153],\n",
       "        [-1.5708332,  0.5202961, -1.8881037,  1.5908492, -1.5708153],\n",
       "        [-1.5708332,  0.5202961, -1.8881037,  1.5908492, -1.5708153],\n",
       "        [-1.5708332,  0.5202961, -1.8881037,  1.5908492, -1.5708153]],\n",
       "       dtype=float32)]"
      ]
     },
     "execution_count": 47,
     "metadata": {},
     "output_type": "execute_result"
    }
   ],
   "source": [
    "init_params_more_multi"
   ]
  },
  {
   "cell_type": "markdown",
   "id": "1d50e023",
   "metadata": {},
   "source": [
    "#### Initial Testing Code"
   ]
  },
  {
   "cell_type": "code",
   "execution_count": 48,
   "id": "eaae8c68",
   "metadata": {},
   "outputs": [],
   "source": [
    "#The target oscillator state.\n",
    "N1 =10\n",
    "N2 =10\n",
    "Fock1 = 0\n",
    "Fock2= 0\n",
    "psi_i1 = qt.basis(N1,Fock1) #target state\n",
    "psi_i2 = qt.basis(N2,Fock2)\n",
    "psi_initial = qt.tensor(psi_i1, psi_i2)"
   ]
  },
  {
   "cell_type": "code",
   "execution_count": 49,
   "id": "adec3c40",
   "metadata": {},
   "outputs": [
    {
     "data": {
      "text/latex": [
       "Quantum object: dims = [[10, 10], [1, 1]], shape = (100, 1), type = ket\\begin{equation*}\\left(\\begin{array}{*{11}c}0.0\\\\0.0\\\\0.0\\\\0.0\\\\0.0\\\\\\vdots\\\\0.0\\\\0.0\\\\0.0\\\\0.0\\\\0.0\\\\\\end{array}\\right)\\end{equation*}"
      ],
      "text/plain": [
       "Quantum object: dims = [[10, 10], [1, 1]], shape = (100, 1), type = ket\n",
       "Qobj data =\n",
       "[[0.]\n",
       " [0.]\n",
       " [0.]\n",
       " [0.]\n",
       " [0.]\n",
       " [0.]\n",
       " [0.]\n",
       " [0.]\n",
       " [0.]\n",
       " [0.]\n",
       " [1.]\n",
       " [0.]\n",
       " [0.]\n",
       " [0.]\n",
       " [0.]\n",
       " [0.]\n",
       " [0.]\n",
       " [0.]\n",
       " [0.]\n",
       " [0.]\n",
       " [0.]\n",
       " [0.]\n",
       " [0.]\n",
       " [0.]\n",
       " [0.]\n",
       " [0.]\n",
       " [0.]\n",
       " [0.]\n",
       " [0.]\n",
       " [0.]\n",
       " [0.]\n",
       " [0.]\n",
       " [0.]\n",
       " [0.]\n",
       " [0.]\n",
       " [0.]\n",
       " [0.]\n",
       " [0.]\n",
       " [0.]\n",
       " [0.]\n",
       " [0.]\n",
       " [0.]\n",
       " [0.]\n",
       " [0.]\n",
       " [0.]\n",
       " [0.]\n",
       " [0.]\n",
       " [0.]\n",
       " [0.]\n",
       " [0.]\n",
       " [0.]\n",
       " [0.]\n",
       " [0.]\n",
       " [0.]\n",
       " [0.]\n",
       " [0.]\n",
       " [0.]\n",
       " [0.]\n",
       " [0.]\n",
       " [0.]\n",
       " [0.]\n",
       " [0.]\n",
       " [0.]\n",
       " [0.]\n",
       " [0.]\n",
       " [0.]\n",
       " [0.]\n",
       " [0.]\n",
       " [0.]\n",
       " [0.]\n",
       " [0.]\n",
       " [0.]\n",
       " [0.]\n",
       " [0.]\n",
       " [0.]\n",
       " [0.]\n",
       " [0.]\n",
       " [0.]\n",
       " [0.]\n",
       " [0.]\n",
       " [0.]\n",
       " [0.]\n",
       " [0.]\n",
       " [0.]\n",
       " [0.]\n",
       " [0.]\n",
       " [0.]\n",
       " [0.]\n",
       " [0.]\n",
       " [0.]\n",
       " [0.]\n",
       " [0.]\n",
       " [0.]\n",
       " [0.]\n",
       " [0.]\n",
       " [0.]\n",
       " [0.]\n",
       " [0.]\n",
       " [0.]\n",
       " [0.]]"
      ]
     },
     "execution_count": 49,
     "metadata": {},
     "output_type": "execute_result"
    }
   ],
   "source": [
    "Fock1 = 1\n",
    "Fock2= 0\n",
    "psi_t1 = qt.basis(N1,Fock1) #target state\n",
    "psi_t2 = qt.basis(N2,Fock2)\n",
    "psi_target = qt.tensor(psi_t1, psi_t2)\n",
    "psi_target"
   ]
  },
  {
   "cell_type": "code",
   "execution_count": 71,
   "id": "d7b727e8",
   "metadata": {},
   "outputs": [],
   "source": [
    "#Optimization of ECD Circuit parameters (betas, phis, and thetas)\n",
    "#the optimization options\n",
    "decd_opt_params = {\n",
    "'N_blocks' : 5, #circuit depth\n",
    "'N_multistart' : 1, #Batch size (number of circuit optimizations to run in parallel)\n",
    "'epochs' : 100, #number of epochs before termination\n",
    "'epoch_size' : 20, #number of adam steps per epoch\n",
    "'learning_rate' : 0.1, #adam learning rate\n",
    "'term_fid' : 0.05, #terminal fidelitiy\n",
    "'dfid_stop' : 1e-6, #stop if dfid between two epochs is smaller than this number\n",
    "'beta_scale' : 3.0, #maximum |beta| for random initialization\n",
    "'gamma_scale' : 3.0, #maximum |gamma| for random initialization\n",
    "'N_cav1': N1, #number of levels in mode 1\n",
    "'N_cav2': N2, #number of levels in mode 2\n",
    "'initial_states' : [qt.tensor(qt.basis(2,0),psi_initial)], #qubit tensor oscillator, start in |g> |0>\n",
    "'target_states' : [qt.tensor(qt.basis(2,0), psi_target)], #end in |e> |target>.\n",
    "#\"initial_params\": init_params,\n",
    "'name' : 'Fock1 %d' % Fock1, #name for printing and saving\n",
    "'filename' : None, #if no filename specified, results will be saved in this folder under 'name.h5'\n",
    "}\n",
    "\n"
   ]
  },
  {
   "cell_type": "markdown",
   "id": "4bf6ef6e",
   "metadata": {},
   "source": [
    "#### Running DECD"
   ]
  },
  {
   "cell_type": "code",
   "execution_count": 72,
   "id": "cb577df1",
   "metadata": {},
   "outputs": [
    {
     "name": "stdout",
     "output_type": "stream",
     "text": [
      "None\n",
      "optimization_type: state transfer\n",
      "N_multistart: 1\n",
      "N_blocks: 5\n",
      "term_fid: 0.05\n",
      "dfid_stop: 1e-06\n",
      "no_CD_end: False\n",
      "learning_rate: 0.1\n",
      "epoch_size: 20\n",
      "epochs: 100\n",
      "beta_scale: 3.0\n",
      "gamma_scale: 3.0\n",
      "alpha1_scale: 1.0\n",
      "alpha2_scale: 1.0\n",
      "theta_scale: 3.141592653589793\n",
      "use_etas: False\n",
      "use_displacements: False\n",
      "use_phase: False\n",
      "name: Fock1 1\n",
      "comment: \n",
      "initial_params: None\n",
      "N_cav1: 10\n",
      "N_cav2: 10\n",
      "filename: Fock1 1.h5\n",
      "\n",
      "Best circuit parameters found:\n",
      "betas:         [ 0.03567-0.06805j  0.08509-0.91597j  0.73314-0.30746j -0.84777-1.79782j\n",
      "  0.34213+0.11275j]\n",
      "gammas:         [ 0.65304-2.04151j -1.05401-0.64587j -0.46462+0.30259j -0.92531+0.931j\n",
      " -0.33601-0.33607j]\n",
      "alphas1:        [0.+0.j]\n",
      "alphas2:        [0.+0.j]\n",
      "phis (deg):    [   0.       -98.34    -167.85622   18.33297  -80.76675]\n",
      "etas (deg):    [89.99999 89.99999 89.99999 89.99999 89.99999]\n",
      "thetas (deg):  [   8.10717 -170.1581    57.02086  -67.22957  -99.31422]\n",
      "Max Fidelity:  0.003517\n",
      "\n",
      "\n"
     ]
    }
   ],
   "source": [
    "decd_opt = BO_DECD(**decd_opt_params)\n",
    "tf.config.run_functions_eagerly(True) # for some reason, important\n",
    "decd_opt.print_info()"
   ]
  },
  {
   "cell_type": "code",
   "execution_count": 73,
   "id": "96643fc2",
   "metadata": {},
   "outputs": [
    {
     "name": "stdout",
     "output_type": "stream",
     "text": [
      "Start time: 2022-05-20 05:40:27\n",
      " Epoch: 1 / 100 Max Fid: 0.101645 Avg Fid: 0.101645 Max dFid: 0.098128 Avg dFid: 0.098128 Elapsed time: 0:00:01.537549 Remaing time: 0:02:32.217353\n",
      "\n",
      " Optimization stopped. Term fidelity reached.\n",
      "\n",
      "optimization_type: state transfer\n",
      "N_multistart: 1\n",
      "N_blocks: 5\n",
      "term_fid: 0.05\n",
      "dfid_stop: 1e-06\n",
      "no_CD_end: False\n",
      "learning_rate: 0.1\n",
      "epoch_size: 20\n",
      "epochs: 100\n",
      "beta_scale: 3.0\n",
      "gamma_scale: 3.0\n",
      "alpha1_scale: 1.0\n",
      "alpha2_scale: 1.0\n",
      "theta_scale: 3.141592653589793\n",
      "use_etas: False\n",
      "use_displacements: False\n",
      "use_phase: False\n",
      "name: Fock1 1\n",
      "comment: \n",
      "initial_params: None\n",
      "N_cav1: 10\n",
      "N_cav2: 10\n",
      "filename: Fock1 1.h5\n",
      "\n",
      "Best circuit parameters found:\n",
      "betas:         [ 0.03567-0.06805j  0.08509-0.91597j  0.73314-0.30746j -0.84777-1.79782j\n",
      "  0.34213+0.11275j]\n",
      "gammas:         [ 0.65304-2.04151j -1.05401-0.64587j -0.46462+0.30259j -0.92531+0.931j\n",
      " -0.33601-0.33607j]\n",
      "alphas1:        [0.+0.j]\n",
      "alphas2:        [0.+0.j]\n",
      "phis (deg):    [   0.       160.06102 -115.14635   69.35605  -11.13934]\n",
      "etas (deg):    [89.99999 89.99999 89.99999 89.99999 89.99999]\n",
      "thetas (deg):  [   1.34201 -132.87567  139.39911  -80.68832  -32.93128]\n",
      "Max Fidelity:  0.104827\n",
      "\n",
      "\n",
      "termination reason: term_fid\n",
      "optimization timestamp (start time): 2022-05-20 05:40:27\n",
      "timestamp (end time): 2022-05-20 05:40:29\n",
      "elapsed time: 0:00:01.537549\n",
      "Time per epoch (epoch size = 20): 0:00:01.537549\n",
      "Time per Adam step (N_multistart = 1, N_cav1 = 10, N_cav2 = 10): 0:00:00.015375\n",
      "\n",
      "============================================================\n",
      "\n"
     ]
    },
    {
     "data": {
      "text/plain": [
       "'2022-05-20 05:40:27'"
      ]
     },
     "execution_count": 73,
     "metadata": {},
     "output_type": "execute_result"
    }
   ],
   "source": [
    "decd_opt.optimize()"
   ]
  },
  {
   "cell_type": "code",
   "execution_count": 35,
   "id": "3f499694",
   "metadata": {},
   "outputs": [
    {
     "data": {
      "text/plain": [
       "<tf.Tensor: shape=(), dtype=float32, numpy=8.0747334e-13>"
      ]
     },
     "execution_count": 35,
     "metadata": {},
     "output_type": "execute_result"
    }
   ],
   "source": [
    "decd_opt.batch_fidelities(decd_opt.betas_rho,\n",
    "                decd_opt.betas_angle,\n",
    "                decd_opt.gammas_rho,\n",
    "                decd_opt.gammas_angle,\n",
    "                decd_opt.alphas1_rho,\n",
    "                decd_opt.alphas1_angle,\n",
    "                decd_opt.alphas2_rho,\n",
    "                decd_opt.alphas2_angle,\n",
    "                decd_opt.phis,\n",
    "                decd_opt.etas,\n",
    "                decd_opt.thetas,)"
   ]
  },
  {
   "cell_type": "markdown",
   "id": "6da97ad9",
   "metadata": {},
   "source": [
    "#### Inspecting Gradients near minima"
   ]
  },
  {
   "cell_type": "code",
   "execution_count": 74,
   "id": "cbddc14c",
   "metadata": {},
   "outputs": [],
   "source": [
    "@tf.function\n",
    "def loss_fun(fids):\n",
    "    #print('loss fun called')\n",
    "    # I think it's important that the log is taken before the avg\n",
    "    losses = tf.math.log(1 - fids)\n",
    "    avg_loss = tf.reduce_sum(losses) / decd_opt.parameters[\"N_multistart\"]\n",
    "    return avg_loss"
   ]
  },
  {
   "cell_type": "code",
   "execution_count": 75,
   "id": "93d3f8c4",
   "metadata": {},
   "outputs": [
    {
     "name": "stdout",
     "output_type": "stream",
     "text": [
      "[None, None, None, None, <tf.Tensor: shape=(5, 1), dtype=float32, numpy=\n",
      "array([[ 0.00117935],\n",
      "       [-0.02273876],\n",
      "       [-0.00517935],\n",
      "       [ 0.00023586],\n",
      "       [ 0.00974743]], dtype=float32)>, <tf.Tensor: shape=(5, 1), dtype=float32, numpy=\n",
      "array([[-0.01013791],\n",
      "       [-0.02023907],\n",
      "       [-0.02267454],\n",
      "       [-0.02169513],\n",
      "       [ 0.00093247]], dtype=float32)>]\n"
     ]
    }
   ],
   "source": [
    "variables = [decd_opt.betas_rho,\n",
    "            decd_opt.betas_angle,\n",
    "            decd_opt.gammas_rho,\n",
    "            decd_opt.gammas_angle,\n",
    "            decd_opt.phis,\n",
    "            decd_opt.thetas]\n",
    "\n",
    "with tf.GradientTape() as tape:\n",
    "    fid = decd_opt.batch_fidelities(decd_opt.betas_rho,\n",
    "            decd_opt.betas_angle,\n",
    "            decd_opt.gammas_rho,\n",
    "            decd_opt.gammas_angle,\n",
    "            decd_opt.alphas1_rho,\n",
    "            decd_opt.alphas1_angle,\n",
    "            decd_opt.alphas2_rho,\n",
    "            decd_opt.alphas2_angle,\n",
    "            decd_opt.phis,\n",
    "            decd_opt.etas,\n",
    "            decd_opt.thetas,)\n",
    "    new_loss = loss_fun(fid)\n",
    "    #tape = tf.GradientTape()\n",
    "    dloss_dvar = tape.gradient(new_loss, variables)\n",
    "    print(dloss_dvar)\n",
    "                   "
   ]
  },
  {
   "cell_type": "code",
   "execution_count": 70,
   "id": "d5e2b60f",
   "metadata": {},
   "outputs": [
    {
     "data": {
      "text/plain": [
       "<tf.Tensor: shape=(), dtype=float32, numpy=0.9899562>"
      ]
     },
     "execution_count": 70,
     "metadata": {},
     "output_type": "execute_result"
    }
   ],
   "source": [
    "fid"
   ]
  },
  {
   "cell_type": "code",
   "execution_count": 65,
   "id": "251265cd",
   "metadata": {},
   "outputs": [],
   "source": [
    "@tf.function\n",
    "def loss_fun(fids):\n",
    "    #print('loss fun called')\n",
    "    # I think it's important that the log is taken before the avg\n",
    "    losses = tf.math.log(1 - fids)\n",
    "    avg_loss = tf.reduce_sum(losses) / ecd_opt.parameters[\"N_multistart\"]\n",
    "    return avg_loss"
   ]
  },
  {
   "cell_type": "code",
   "execution_count": 66,
   "id": "648c16e4",
   "metadata": {},
   "outputs": [
    {
     "name": "stdout",
     "output_type": "stream",
     "text": [
      "[<tf.Tensor: shape=(5, 10), dtype=float32, numpy=\n",
      "array([[ 3.5368568e-05,  1.4582398e-06, -1.6648934e-04,  5.4512825e-04,\n",
      "        -1.3194750e-08, -6.6370852e-03,  6.2279825e-05,  1.4816676e-05,\n",
      "         4.1190069e-05,  2.0490918e-06],\n",
      "       [-1.5194964e-04,  1.5983483e-07, -1.3974009e-03, -3.0532166e-02,\n",
      "        -7.2742793e-08,  2.5009643e-02, -2.6463054e-04,  1.6805268e-04,\n",
      "        -1.3527540e-02,  4.4460765e-05],\n",
      "       [ 2.1258564e-04, -1.5518254e-06,  1.1042421e-03,  4.2838037e-02,\n",
      "         2.4293021e-07, -2.7163293e-02,  1.2391097e-04, -1.1924920e-03,\n",
      "         1.8107558e-02,  6.8114027e-06],\n",
      "       [ 2.9340164e-05, -7.1960562e-06, -6.4653985e-04,  1.6693925e-02,\n",
      "        -5.0462859e-07,  6.7628153e-02, -3.2525433e-05, -1.2029792e-04,\n",
      "        -3.5097595e-02,  1.3094203e-05],\n",
      "       [ 4.7652480e-05,  1.4139036e-06, -5.0548260e-04, -4.2997161e-03,\n",
      "         4.1585000e-07,  4.2433850e-03,  6.5994158e-05, -3.6126067e-04,\n",
      "         3.3981081e-02,  7.1213844e-06]], dtype=float32)>, <tf.Tensor: shape=(5, 10), dtype=float32, numpy=\n",
      "array([[-2.79337168e-04, -1.22317124e-05, -1.16997480e-03,\n",
      "         5.03706820e-02,  6.10566872e-07, -3.33903909e-01,\n",
      "        -7.69706792e-04, -7.92065694e-05,  3.42243649e-02,\n",
      "         1.19579570e-04],\n",
      "       [-3.43033724e-04, -1.48999497e-05,  1.50763970e-02,\n",
      "         5.93920164e-02,  1.12521525e-06, -8.07525367e-02,\n",
      "         3.62242048e-04,  3.49180016e-04,  1.57110132e-02,\n",
      "        -2.19964386e-05],\n",
      "       [-3.37681471e-04, -2.31676154e-07, -1.68806147e-02,\n",
      "        -6.73370510e-02, -1.84378041e-06, -1.66118339e-01,\n",
      "        -1.92544350e-04, -5.96049475e-03, -7.33545888e-03,\n",
      "         1.30881614e-04],\n",
      "       [ 1.05407205e-04, -3.43304382e-05,  1.24651217e-03,\n",
      "         1.24295801e-01,  3.61654145e-07,  2.01061331e-02,\n",
      "         1.64822428e-04,  8.88060126e-03,  2.31062118e-02,\n",
      "        -1.09769589e-05],\n",
      "       [ 5.96847793e-04,  4.77542599e-05,  1.80789473e-04,\n",
      "        -1.25494510e-01, -5.79873756e-07,  4.62150633e-01,\n",
      "        -3.78890164e-08, -1.09442975e-04, -2.23250315e-02,\n",
      "        -1.63488701e-04]], dtype=float32)>, <tf.Tensor: shape=(5, 10), dtype=float32, numpy=\n",
      "array([[-9.76577867e-04,  1.15817785e-02,  3.98593256e-03,\n",
      "         2.09209062e-02, -5.70453377e-03, -2.85171089e-03,\n",
      "        -3.16103979e-04, -3.21203992e-02,  1.77303180e-02,\n",
      "        -5.06299781e-03],\n",
      "       [ 7.45058060e-07,  7.71880150e-06, -2.08616257e-07,\n",
      "        -2.99179554e-03,  1.29453838e-07,  4.15347815e-02,\n",
      "        -8.10343772e-06, -1.66893005e-04,  1.45557635e-02,\n",
      "        -2.04145908e-05],\n",
      "       [-6.82473183e-06,  1.08033419e-07,  3.48612666e-05,\n",
      "        -1.30182803e-02, -2.08616257e-07, -5.09549379e-02,\n",
      "        -7.76200322e-05, -6.33597374e-05,  3.18756104e-02,\n",
      "        -2.22325325e-05],\n",
      "       [ 1.16050243e-04, -7.76350498e-06, -5.31747937e-05,\n",
      "        -6.56545162e-04,  1.49011612e-07, -6.17561340e-02,\n",
      "        -8.84685433e-05, -2.14306638e-05,  3.71179581e-02,\n",
      "        -1.52587891e-05],\n",
      "       [-7.20322132e-05, -1.34706497e-05, -4.29630280e-04,\n",
      "         8.95971060e-03,  4.76837158e-07, -7.06942081e-02,\n",
      "        -2.61290814e-04, -1.13889575e-04,  4.48999405e-02,\n",
      "         6.76512718e-06]], dtype=float32)>, <tf.Tensor: shape=(5, 10), dtype=float32, numpy=\n",
      "array([[-1.26659870e-05,  9.38773155e-07,  3.69548798e-05,\n",
      "        -1.71575695e-04,  5.96046448e-08,  1.16451830e-03,\n",
      "         2.05039978e-05,  2.40743160e-04,  8.14104080e-03,\n",
      "         2.83122063e-07],\n",
      "       [ 3.04579735e-05,  8.04662704e-07, -4.02331352e-06,\n",
      "        -5.38885593e-04, -8.94069672e-08,  1.11126900e-02,\n",
      "        -1.47819519e-05, -1.06573105e-04, -2.21300125e-03,\n",
      "        -4.05311584e-06],\n",
      "       [-4.49419022e-05,  2.98023224e-08, -3.02046537e-05,\n",
      "         1.92368031e-03,  1.04308128e-07, -1.04451180e-02,\n",
      "        -5.48362732e-05, -8.82148743e-06,  9.10949707e-03,\n",
      "        -3.33786011e-06],\n",
      "       [-1.15036964e-05, -4.17232513e-07,  5.48511744e-05,\n",
      "         2.12679803e-03,  2.98023224e-08, -2.34889984e-02,\n",
      "         1.20639801e-04,  2.30967999e-07,  5.89561462e-03,\n",
      "        -4.61935997e-06],\n",
      "       [ 2.02655792e-06,  3.42726707e-07, -1.64240599e-04,\n",
      "         3.50832939e-04, -7.45058060e-08,  7.21597672e-03,\n",
      "        -2.09808350e-05, -9.53674316e-07, -2.24196911e-03,\n",
      "        -2.32458115e-06]], dtype=float32)>]\n"
     ]
    }
   ],
   "source": [
    "variables = [ecd_opt.betas_rho,\n",
    "            ecd_opt.betas_angle,\n",
    "            ecd_opt.phis,\n",
    "            ecd_opt.thetas]\n",
    "\n",
    "with tf.GradientTape() as tape:\n",
    "    fid = ecd_opt.batch_fidelities(ecd_opt.betas_rho,\n",
    "            ecd_opt.betas_angle,\n",
    "            ecd_opt.alphas_rho,\n",
    "            ecd_opt.alphas_angle,\n",
    "            ecd_opt.phis,\n",
    "            ecd_opt.thetas,)\n",
    "    new_loss = loss_fun(fid)\n",
    "    #tape = tf.GradientTape()\n",
    "    dloss_dvar = tape.gradient(new_loss, variables)\n",
    "    print(dloss_dvar)\n",
    "                   "
   ]
  },
  {
   "cell_type": "code",
   "execution_count": 67,
   "id": "80c319f2",
   "metadata": {},
   "outputs": [
    {
     "data": {
      "text/plain": [
       "<tf.Tensor: shape=(10,), dtype=float32, numpy=\n",
       "array([0.9150901 , 0.8617574 , 0.8677291 , 0.91820776, 0.8480251 ,\n",
       "       0.98889935, 0.99238324, 0.9129576 , 0.9898716 , 0.8917448 ],\n",
       "      dtype=float32)>"
      ]
     },
     "execution_count": 67,
     "metadata": {},
     "output_type": "execute_result"
    }
   ],
   "source": [
    "fid"
   ]
  },
  {
   "cell_type": "code",
   "execution_count": null,
   "id": "568a1b5f",
   "metadata": {},
   "outputs": [],
   "source": []
  }
 ],
 "metadata": {
  "kernelspec": {
   "display_name": "Python 3",
   "language": "python",
   "name": "python3"
  },
  "language_info": {
   "codemirror_mode": {
    "name": "ipython",
    "version": 3
   },
   "file_extension": ".py",
   "mimetype": "text/x-python",
   "name": "python",
   "nbconvert_exporter": "python",
   "pygments_lexer": "ipython3",
   "version": "3.8.8"
  },
  "toc": {
   "base_numbering": 1,
   "nav_menu": {},
   "number_sections": true,
   "sideBar": true,
   "skip_h1_title": false,
   "title_cell": "Table of Contents",
   "title_sidebar": "Contents",
   "toc_cell": false,
   "toc_position": {},
   "toc_section_display": true,
   "toc_window_display": false
  },
  "varInspector": {
   "cols": {
    "lenName": 16,
    "lenType": 16,
    "lenVar": 40
   },
   "kernels_config": {
    "python": {
     "delete_cmd_postfix": "",
     "delete_cmd_prefix": "del ",
     "library": "var_list.py",
     "varRefreshCmd": "print(var_dic_list())"
    },
    "r": {
     "delete_cmd_postfix": ") ",
     "delete_cmd_prefix": "rm(",
     "library": "var_list.r",
     "varRefreshCmd": "cat(var_dic_list()) "
    }
   },
   "types_to_exclude": [
    "module",
    "function",
    "builtin_function_or_method",
    "instance",
    "_Feature"
   ],
   "window_display": false
  }
 },
 "nbformat": 4,
 "nbformat_minor": 5
}
