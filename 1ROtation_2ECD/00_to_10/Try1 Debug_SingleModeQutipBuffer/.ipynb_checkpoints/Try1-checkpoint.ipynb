{
 "cells": [
  {
   "cell_type": "markdown",
   "id": "03d7f76a",
   "metadata": {},
   "source": [
    "# AIM\n",
    "\n",
    "See About.txt"
   ]
  },
  {
   "cell_type": "markdown",
   "id": "4759c549",
   "metadata": {
    "heading_collapsed": true
   },
   "source": [
    "### 1. Part 1"
   ]
  },
  {
   "cell_type": "code",
   "execution_count": 1,
   "id": "8188c3c4",
   "metadata": {
    "hidden": true
   },
   "outputs": [],
   "source": [
    "import sys \n",
    "sys.path.append('C:\\\\Users\\\\Eesh Gupta\\\\Documents\\\\RU Research\\\\Chakram')\n",
    "sys.path.append('C:\\\\Users\\\\Eesh Gupta\\\\Documents\\\\RU Research\\\\Chakram\\\\ECD_control')\n"
   ]
  },
  {
   "cell_type": "code",
   "execution_count": 2,
   "id": "22c927fd",
   "metadata": {
    "hidden": true
   },
   "outputs": [
    {
     "name": "stdout",
     "output_type": "stream",
     "text": [
      "\n",
      "Need tf version 2.3.0 or later. Using tensorflow version: 2.7.0\n",
      "\n",
      "\n",
      "Need tf version 2.3.0 or later. Using tensorflow version: 2.7.0\n",
      "\n"
     ]
    },
    {
     "data": {
      "text/plain": [
       "[name: \"/device:CPU:0\"\n",
       " device_type: \"CPU\"\n",
       " memory_limit: 268435456\n",
       " locality {\n",
       " }\n",
       " incarnation: 8536871867130393341\n",
       " xla_global_id: -1]"
      ]
     },
     "execution_count": 2,
     "metadata": {},
     "output_type": "execute_result"
    }
   ],
   "source": [
    "from ECD_control import ECD_optimization\n",
    "from ECD_control import ECD_pulse_construction\n",
    "\n",
    "import numpy as np\n",
    "import qutip as qt \n",
    "from ECD_control.ECD_optimization.batch_optimizer import BatchOptimizer\n",
    "from ECD_control.ECD_optimization.optimization_analysis import OptimizationAnalysis, OptimizationSweepsAnalysis\n",
    "import matplotlib.pyplot as plt\n",
    "from tensorflow.python.client import device_lib\n",
    "device_lib.list_local_devices()"
   ]
  },
  {
   "cell_type": "code",
   "execution_count": 3,
   "id": "3d2619eb",
   "metadata": {
    "hidden": true
   },
   "outputs": [],
   "source": [
    "#The target oscillator state.\n",
    "N =10\n",
    "Fock = 1\n",
    "psi_t = qt.basis(N,Fock) #target state"
   ]
  },
  {
   "cell_type": "code",
   "execution_count": 4,
   "id": "023943c2",
   "metadata": {
    "hidden": true
   },
   "outputs": [
    {
     "data": {
      "text/latex": [
       "Quantum object: dims = [[10], [1]], shape = (10, 1), type = ket\\begin{equation*}\\left(\\begin{array}{*{11}c}0.0\\\\1.0\\\\0.0\\\\0.0\\\\0.0\\\\0.0\\\\0.0\\\\0.0\\\\0.0\\\\0.0\\\\\\end{array}\\right)\\end{equation*}"
      ],
      "text/plain": [
       "Quantum object: dims = [[10], [1]], shape = (10, 1), type = ket\n",
       "Qobj data =\n",
       "[[0.]\n",
       " [1.]\n",
       " [0.]\n",
       " [0.]\n",
       " [0.]\n",
       " [0.]\n",
       " [0.]\n",
       " [0.]\n",
       " [0.]\n",
       " [0.]]"
      ]
     },
     "execution_count": 4,
     "metadata": {},
     "output_type": "execute_result"
    }
   ],
   "source": [
    "psi_t"
   ]
  },
  {
   "cell_type": "code",
   "execution_count": 5,
   "id": "c3f2427c",
   "metadata": {
    "hidden": true
   },
   "outputs": [],
   "source": [
    "#Optimization of ECD Circuit parameters (betas, phis, and thetas)\n",
    "#the optimization options\n",
    "opt_params = {\n",
    "'N_blocks' : 4, #circuit depth\n",
    "'N_multistart' : 200, #Batch size (number of circuit optimizations to run in parallel)\n",
    "'epochs' : 200, #number of epochs before termination\n",
    "'epoch_size' : 10, #number of adam steps per epoch\n",
    "'learning_rate' : 0.01, #adam learning rate\n",
    "'term_fid' : 0.995, #terminal fidelitiy\n",
    "'dfid_stop' : 1e-6, #stop if dfid between two epochs is smaller than this number\n",
    "'beta_scale' : 3.0, #maximum |beta| for random initialization\n",
    "'initial_states' : [qt.tensor(qt.basis(2,0),qt.basis(N,0))], #qubit tensor oscillator, start in |g> |0>\n",
    "'target_states' : [qt.tensor(qt.basis(2,1), psi_t)], #end in |e> |target>.\n",
    "'name' : 'Fock %d' % Fock, #name for printing and saving\n",
    "'filename' : None, #if no filename specified, results will be saved in this folder under 'name.h5'\n",
    "}\n",
    "\n",
    "\n",
    "#note: optimizer includes pi pulse in every ECD step. However, final ECD step is implemented \n",
    "#in experiment as a displacement since the qubit and oscillator should be disentangled at this point.\n",
    "#So, we ask the optimizer to end in |e> |target> instead of |g>|target>."
   ]
  },
  {
   "cell_type": "markdown",
   "id": "f7c93207",
   "metadata": {
    "hidden": true
   },
   "source": [
    "#### Filename for angles to be stored"
   ]
  },
  {
   "cell_type": "code",
   "execution_count": 6,
   "id": "84333d2b",
   "metadata": {
    "hidden": true
   },
   "outputs": [],
   "source": [
    "fname = 'ECD_Angles_Fock1Of10.txt'"
   ]
  },
  {
   "cell_type": "code",
   "execution_count": 7,
   "id": "12889424",
   "metadata": {
    "hidden": true
   },
   "outputs": [
    {
     "name": "stdout",
     "output_type": "stream",
     "text": [
      "optimization_type: state transfer\n",
      "N_multistart: 200\n",
      "N_blocks: 4\n",
      "term_fid: 0.995\n",
      "dfid_stop: 1e-06\n",
      "no_CD_end: False\n",
      "learning_rate: 0.01\n",
      "epoch_size: 10\n",
      "epochs: 200\n",
      "beta_scale: 3.0\n",
      "alpha_scale: 1.0\n",
      "theta_scale: 3.141592653589793\n",
      "use_displacements: False\n",
      "use_phase: False\n",
      "name: Fock 1\n",
      "comment: \n",
      "N_cav: 10\n",
      "filename: Fock 1.h5\n",
      "\n",
      "Best circuit parameters found:\n",
      "betas:         [-0.0088 +0.02022j -0.06979+0.164j    1.46994-1.70018j  0.07036-0.25994j]\n",
      "alphas:        [0.+0.j]\n",
      "phis (deg):    [   0.       -63.36999 -165.15437 -137.39749]\n",
      "thetas (deg):  [-142.71284  -99.68577 -162.27422  -87.35475]\n",
      "Max Fidelity:  0.350569\n",
      "\n",
      "\n"
     ]
    }
   ],
   "source": [
    "#create optimization object. \n",
    "#initial params will be randomized upon creation\n",
    "opt = BatchOptimizer(**opt_params)\n",
    "\n",
    "#print optimization info. \n",
    "opt.print_info()"
   ]
  },
  {
   "cell_type": "code",
   "execution_count": 9,
   "id": "2cdd768a",
   "metadata": {
    "hidden": true
   },
   "outputs": [
    {
     "name": "stdout",
     "output_type": "stream",
     "text": [
      "Start time: 2022-05-23 05:06:36\n",
      " Epoch: 5 / 200 Max Fid: 0.981403 Avg Fid: 0.808342 Max dFid: 0.041564 Avg dFid: 0.001422 Elapsed time: 0:00:02.854118 Remaing time: 0:01:51.3105970"
     ]
    },
    {
     "ename": "KeyboardInterrupt",
     "evalue": "",
     "output_type": "error",
     "traceback": [
      "\u001b[1;31m---------------------------------------------------------------------------\u001b[0m",
      "\u001b[1;31mKeyboardInterrupt\u001b[0m                         Traceback (most recent call last)",
      "\u001b[1;32m<ipython-input-9-0df2e72ed479>\u001b[0m in \u001b[0;36m<module>\u001b[1;34m\u001b[0m\n\u001b[0;32m      1\u001b[0m \u001b[1;31m#run optimizer.\u001b[0m\u001b[1;33m\u001b[0m\u001b[1;33m\u001b[0m\u001b[1;33m\u001b[0m\u001b[0m\n\u001b[1;32m----> 2\u001b[1;33m \u001b[0mopt\u001b[0m\u001b[1;33m.\u001b[0m\u001b[0moptimize\u001b[0m\u001b[1;33m(\u001b[0m\u001b[1;33m)\u001b[0m\u001b[1;33m\u001b[0m\u001b[1;33m\u001b[0m\u001b[0m\n\u001b[0m",
      "\u001b[1;32m~\\Documents\\RU Research\\Chakram\\ECD_control\\ECD_optimization\\batch_optimizer.py\u001b[0m in \u001b[0;36moptimize\u001b[1;34m(self, do_prints)\u001b[0m\n\u001b[0;32m    653\u001b[0m                     \u001b[0mphis\u001b[0m \u001b[1;33m=\u001b[0m \u001b[0mentry_stop_gradients\u001b[0m\u001b[1;33m(\u001b[0m\u001b[0mself\u001b[0m\u001b[1;33m.\u001b[0m\u001b[0mphis\u001b[0m\u001b[1;33m,\u001b[0m \u001b[0mself\u001b[0m\u001b[1;33m.\u001b[0m\u001b[0mphi_mask\u001b[0m\u001b[1;33m)\u001b[0m\u001b[1;33m\u001b[0m\u001b[1;33m\u001b[0m\u001b[0m\n\u001b[0;32m    654\u001b[0m                     \u001b[0mthetas\u001b[0m \u001b[1;33m=\u001b[0m \u001b[0mentry_stop_gradients\u001b[0m\u001b[1;33m(\u001b[0m\u001b[0mself\u001b[0m\u001b[1;33m.\u001b[0m\u001b[0mthetas\u001b[0m\u001b[1;33m,\u001b[0m \u001b[0mself\u001b[0m\u001b[1;33m.\u001b[0m\u001b[0mtheta_mask\u001b[0m\u001b[1;33m)\u001b[0m\u001b[1;33m\u001b[0m\u001b[1;33m\u001b[0m\u001b[0m\n\u001b[1;32m--> 655\u001b[1;33m                     new_fids = self.batch_fidelities(\n\u001b[0m\u001b[0;32m    656\u001b[0m                         \u001b[0mbetas_rho\u001b[0m\u001b[1;33m,\u001b[0m \u001b[0mbetas_angle\u001b[0m\u001b[1;33m,\u001b[0m \u001b[0malphas_rho\u001b[0m\u001b[1;33m,\u001b[0m \u001b[0malphas_angle\u001b[0m\u001b[1;33m,\u001b[0m \u001b[0mphis\u001b[0m\u001b[1;33m,\u001b[0m \u001b[0mthetas\u001b[0m\u001b[1;33m,\u001b[0m\u001b[1;33m\u001b[0m\u001b[1;33m\u001b[0m\u001b[0m\n\u001b[0;32m    657\u001b[0m                     )\n",
      "\u001b[1;32m~\\anaconda\\lib\\site-packages\\tensorflow\\python\\util\\traceback_utils.py\u001b[0m in \u001b[0;36merror_handler\u001b[1;34m(*args, **kwargs)\u001b[0m\n\u001b[0;32m    148\u001b[0m     \u001b[0mfiltered_tb\u001b[0m \u001b[1;33m=\u001b[0m \u001b[1;32mNone\u001b[0m\u001b[1;33m\u001b[0m\u001b[1;33m\u001b[0m\u001b[0m\n\u001b[0;32m    149\u001b[0m     \u001b[1;32mtry\u001b[0m\u001b[1;33m:\u001b[0m\u001b[1;33m\u001b[0m\u001b[1;33m\u001b[0m\u001b[0m\n\u001b[1;32m--> 150\u001b[1;33m       \u001b[1;32mreturn\u001b[0m \u001b[0mfn\u001b[0m\u001b[1;33m(\u001b[0m\u001b[1;33m*\u001b[0m\u001b[0margs\u001b[0m\u001b[1;33m,\u001b[0m \u001b[1;33m**\u001b[0m\u001b[0mkwargs\u001b[0m\u001b[1;33m)\u001b[0m\u001b[1;33m\u001b[0m\u001b[1;33m\u001b[0m\u001b[0m\n\u001b[0m\u001b[0;32m    151\u001b[0m     \u001b[1;32mexcept\u001b[0m \u001b[0mException\u001b[0m \u001b[1;32mas\u001b[0m \u001b[0me\u001b[0m\u001b[1;33m:\u001b[0m\u001b[1;33m\u001b[0m\u001b[1;33m\u001b[0m\u001b[0m\n\u001b[0;32m    152\u001b[0m       \u001b[0mfiltered_tb\u001b[0m \u001b[1;33m=\u001b[0m \u001b[0m_process_traceback_frames\u001b[0m\u001b[1;33m(\u001b[0m\u001b[0me\u001b[0m\u001b[1;33m.\u001b[0m\u001b[0m__traceback__\u001b[0m\u001b[1;33m)\u001b[0m\u001b[1;33m\u001b[0m\u001b[1;33m\u001b[0m\u001b[0m\n",
      "\u001b[1;32m~\\anaconda\\lib\\site-packages\\tensorflow\\python\\eager\\def_function.py\u001b[0m in \u001b[0;36m__call__\u001b[1;34m(self, *args, **kwds)\u001b[0m\n\u001b[0;32m    908\u001b[0m \u001b[1;33m\u001b[0m\u001b[0m\n\u001b[0;32m    909\u001b[0m       \u001b[1;32mwith\u001b[0m \u001b[0mOptionalXlaContext\u001b[0m\u001b[1;33m(\u001b[0m\u001b[0mself\u001b[0m\u001b[1;33m.\u001b[0m\u001b[0m_jit_compile\u001b[0m\u001b[1;33m)\u001b[0m\u001b[1;33m:\u001b[0m\u001b[1;33m\u001b[0m\u001b[1;33m\u001b[0m\u001b[0m\n\u001b[1;32m--> 910\u001b[1;33m         \u001b[0mresult\u001b[0m \u001b[1;33m=\u001b[0m \u001b[0mself\u001b[0m\u001b[1;33m.\u001b[0m\u001b[0m_call\u001b[0m\u001b[1;33m(\u001b[0m\u001b[1;33m*\u001b[0m\u001b[0margs\u001b[0m\u001b[1;33m,\u001b[0m \u001b[1;33m**\u001b[0m\u001b[0mkwds\u001b[0m\u001b[1;33m)\u001b[0m\u001b[1;33m\u001b[0m\u001b[1;33m\u001b[0m\u001b[0m\n\u001b[0m\u001b[0;32m    911\u001b[0m \u001b[1;33m\u001b[0m\u001b[0m\n\u001b[0;32m    912\u001b[0m       \u001b[0mnew_tracing_count\u001b[0m \u001b[1;33m=\u001b[0m \u001b[0mself\u001b[0m\u001b[1;33m.\u001b[0m\u001b[0mexperimental_get_tracing_count\u001b[0m\u001b[1;33m(\u001b[0m\u001b[1;33m)\u001b[0m\u001b[1;33m\u001b[0m\u001b[1;33m\u001b[0m\u001b[0m\n",
      "\u001b[1;32m~\\anaconda\\lib\\site-packages\\tensorflow\\python\\eager\\def_function.py\u001b[0m in \u001b[0;36m_call\u001b[1;34m(self, *args, **kwds)\u001b[0m\n\u001b[0;32m    947\u001b[0m       \u001b[1;31m# In this case we have not created variables on the first call. So we can\u001b[0m\u001b[1;33m\u001b[0m\u001b[1;33m\u001b[0m\u001b[1;33m\u001b[0m\u001b[0m\n\u001b[0;32m    948\u001b[0m       \u001b[1;31m# run the first trace but we should fail if variables are created.\u001b[0m\u001b[1;33m\u001b[0m\u001b[1;33m\u001b[0m\u001b[1;33m\u001b[0m\u001b[0m\n\u001b[1;32m--> 949\u001b[1;33m       \u001b[0mresults\u001b[0m \u001b[1;33m=\u001b[0m \u001b[0mself\u001b[0m\u001b[1;33m.\u001b[0m\u001b[0m_stateful_fn\u001b[0m\u001b[1;33m(\u001b[0m\u001b[1;33m*\u001b[0m\u001b[0margs\u001b[0m\u001b[1;33m,\u001b[0m \u001b[1;33m**\u001b[0m\u001b[0mkwds\u001b[0m\u001b[1;33m)\u001b[0m\u001b[1;33m\u001b[0m\u001b[1;33m\u001b[0m\u001b[0m\n\u001b[0m\u001b[0;32m    950\u001b[0m       \u001b[1;32mif\u001b[0m \u001b[0mself\u001b[0m\u001b[1;33m.\u001b[0m\u001b[0m_created_variables\u001b[0m \u001b[1;32mand\u001b[0m \u001b[1;32mnot\u001b[0m \u001b[0mALLOW_DYNAMIC_VARIABLE_CREATION\u001b[0m\u001b[1;33m:\u001b[0m\u001b[1;33m\u001b[0m\u001b[1;33m\u001b[0m\u001b[0m\n\u001b[0;32m    951\u001b[0m         raise ValueError(\"Creating variables on a non-first call to a function\"\n",
      "\u001b[1;32m~\\anaconda\\lib\\site-packages\\tensorflow\\python\\eager\\function.py\u001b[0m in \u001b[0;36m__call__\u001b[1;34m(self, *args, **kwargs)\u001b[0m\n\u001b[0;32m   3128\u001b[0m       (graph_function,\n\u001b[0;32m   3129\u001b[0m        filtered_flat_args) = self._maybe_define_function(args, kwargs)\n\u001b[1;32m-> 3130\u001b[1;33m     return graph_function._call_flat(\n\u001b[0m\u001b[0;32m   3131\u001b[0m         filtered_flat_args, captured_inputs=graph_function.captured_inputs)  # pylint: disable=protected-access\n\u001b[0;32m   3132\u001b[0m \u001b[1;33m\u001b[0m\u001b[0m\n",
      "\u001b[1;32m~\\anaconda\\lib\\site-packages\\tensorflow\\python\\eager\\function.py\u001b[0m in \u001b[0;36m_call_flat\u001b[1;34m(self, args, captured_inputs, cancellation_manager)\u001b[0m\n\u001b[0;32m   1965\u001b[0m     \u001b[0mforward_function\u001b[0m\u001b[1;33m,\u001b[0m \u001b[0margs_with_tangents\u001b[0m \u001b[1;33m=\u001b[0m \u001b[0mforward_backward\u001b[0m\u001b[1;33m.\u001b[0m\u001b[0mforward\u001b[0m\u001b[1;33m(\u001b[0m\u001b[1;33m)\u001b[0m\u001b[1;33m\u001b[0m\u001b[1;33m\u001b[0m\u001b[0m\n\u001b[0;32m   1966\u001b[0m     \u001b[1;32mif\u001b[0m \u001b[0mexecuting_eagerly\u001b[0m\u001b[1;33m:\u001b[0m\u001b[1;33m\u001b[0m\u001b[1;33m\u001b[0m\u001b[0m\n\u001b[1;32m-> 1967\u001b[1;33m       flat_outputs = forward_function.call(\n\u001b[0m\u001b[0;32m   1968\u001b[0m           ctx, args_with_tangents, cancellation_manager=cancellation_manager)\n\u001b[0;32m   1969\u001b[0m     \u001b[1;32melse\u001b[0m\u001b[1;33m:\u001b[0m\u001b[1;33m\u001b[0m\u001b[1;33m\u001b[0m\u001b[0m\n",
      "\u001b[1;32m~\\anaconda\\lib\\site-packages\\tensorflow\\python\\eager\\function.py\u001b[0m in \u001b[0;36mcall\u001b[1;34m(self, ctx, args, cancellation_manager)\u001b[0m\n\u001b[0;32m    596\u001b[0m       \u001b[1;32mwith\u001b[0m \u001b[0m_InterpolateFunctionError\u001b[0m\u001b[1;33m(\u001b[0m\u001b[0mself\u001b[0m\u001b[1;33m)\u001b[0m\u001b[1;33m:\u001b[0m\u001b[1;33m\u001b[0m\u001b[1;33m\u001b[0m\u001b[0m\n\u001b[0;32m    597\u001b[0m         \u001b[1;32mif\u001b[0m \u001b[0mcancellation_manager\u001b[0m \u001b[1;32mis\u001b[0m \u001b[1;32mNone\u001b[0m\u001b[1;33m:\u001b[0m\u001b[1;33m\u001b[0m\u001b[1;33m\u001b[0m\u001b[0m\n\u001b[1;32m--> 598\u001b[1;33m           outputs = execute.execute(\n\u001b[0m\u001b[0;32m    599\u001b[0m               \u001b[0mstr\u001b[0m\u001b[1;33m(\u001b[0m\u001b[0mself\u001b[0m\u001b[1;33m.\u001b[0m\u001b[0msignature\u001b[0m\u001b[1;33m.\u001b[0m\u001b[0mname\u001b[0m\u001b[1;33m)\u001b[0m\u001b[1;33m,\u001b[0m\u001b[1;33m\u001b[0m\u001b[1;33m\u001b[0m\u001b[0m\n\u001b[0;32m    600\u001b[0m               \u001b[0mnum_outputs\u001b[0m\u001b[1;33m=\u001b[0m\u001b[0mself\u001b[0m\u001b[1;33m.\u001b[0m\u001b[0m_num_outputs\u001b[0m\u001b[1;33m,\u001b[0m\u001b[1;33m\u001b[0m\u001b[1;33m\u001b[0m\u001b[0m\n",
      "\u001b[1;32m~\\anaconda\\lib\\site-packages\\tensorflow\\python\\eager\\execute.py\u001b[0m in \u001b[0;36mquick_execute\u001b[1;34m(op_name, num_outputs, inputs, attrs, ctx, name)\u001b[0m\n\u001b[0;32m     56\u001b[0m   \u001b[1;32mtry\u001b[0m\u001b[1;33m:\u001b[0m\u001b[1;33m\u001b[0m\u001b[1;33m\u001b[0m\u001b[0m\n\u001b[0;32m     57\u001b[0m     \u001b[0mctx\u001b[0m\u001b[1;33m.\u001b[0m\u001b[0mensure_initialized\u001b[0m\u001b[1;33m(\u001b[0m\u001b[1;33m)\u001b[0m\u001b[1;33m\u001b[0m\u001b[1;33m\u001b[0m\u001b[0m\n\u001b[1;32m---> 58\u001b[1;33m     tensors = pywrap_tfe.TFE_Py_Execute(ctx._handle, device_name, op_name,\n\u001b[0m\u001b[0;32m     59\u001b[0m                                         inputs, attrs, num_outputs)\n\u001b[0;32m     60\u001b[0m   \u001b[1;32mexcept\u001b[0m \u001b[0mcore\u001b[0m\u001b[1;33m.\u001b[0m\u001b[0m_NotOkStatusException\u001b[0m \u001b[1;32mas\u001b[0m \u001b[0me\u001b[0m\u001b[1;33m:\u001b[0m\u001b[1;33m\u001b[0m\u001b[1;33m\u001b[0m\u001b[0m\n",
      "\u001b[1;31mKeyboardInterrupt\u001b[0m: "
     ]
    }
   ],
   "source": [
    "#run optimizer.\n",
    "opt.optimize()"
   ]
  },
  {
   "cell_type": "code",
   "execution_count": 10,
   "id": "a37c0500",
   "metadata": {
    "hidden": true
   },
   "outputs": [
    {
     "name": "stdout",
     "output_type": "stream",
     "text": [
      "optimization_type: state transfer\n",
      "N_multistart: 200\n",
      "N_blocks: 4\n",
      "term_fid: 0.995\n",
      "dfid_stop: 1e-06\n",
      "no_CD_end: False\n",
      "learning_rate: 0.01\n",
      "epoch_size: 10\n",
      "epochs: 200\n",
      "beta_scale: 3.0\n",
      "alpha_scale: 1.0\n",
      "theta_scale: 3.141592653589793\n",
      "use_displacements: False\n",
      "use_phase: False\n",
      "name: Fock 1\n",
      "comment: \n",
      "N_cav: 10\n",
      "filename: Fock 1.h5\n",
      "\n",
      "Best circuit parameters found:\n",
      "betas:         [-0.0005 +1.56612j  1.01266+0.00014j -0.00031+0.65386j -0.00006-0.00026j]\n",
      "alphas:        [0.+0.j]\n",
      "phis (deg):    [  0.      -89.99271  89.96232   0.03054]\n",
      "thetas (deg):  [ 90.0057  -90.01975  90.00739 -90.01583]\n",
      "Max Fidelity:  0.981403\n",
      "\n",
      "\n"
     ]
    }
   ],
   "source": [
    "#can print info, including the best circuit found.\n",
    "opt.print_info() "
   ]
  },
  {
   "cell_type": "markdown",
   "id": "2a4a42b3",
   "metadata": {
    "heading_collapsed": true
   },
   "source": [
    "### Saving angles: My way (without using h5 files, just the standard txt)"
   ]
  },
  {
   "cell_type": "code",
   "execution_count": 11,
   "id": "3b7af01f",
   "metadata": {
    "hidden": true
   },
   "outputs": [],
   "source": [
    "#\n",
    "betas = opt.best_circuit()['betas']\n",
    "phis = opt.best_circuit()['phis']\n",
    "thetas = opt.best_circuit()['thetas']\n",
    "\n",
    "params = [np.real(betas), np.imag(betas), phis, thetas]\n",
    "for i in range(len(params)):\n",
    "    params[i] = [float(k) for k in params[i]]\n",
    "\n",
    "a_file = open(fname, \"w\")\n",
    "np.savetxt(a_file, params)\n",
    "a_file.close()"
   ]
  },
  {
   "cell_type": "code",
   "execution_count": 12,
   "id": "1b7ffb03",
   "metadata": {
    "hidden": true
   },
   "outputs": [
    {
     "name": "stdout",
     "output_type": "stream",
     "text": [
      "N_blocks: 4\n",
      "N_cav: 10\n",
      "N_multistart: 200\n",
      "alpha_scale: 1.0\n",
      "beta_scale: 3.0\n",
      "comment: \n",
      "dfid_stop: 1e-06\n",
      "elapsed_time_s: 2.8541178703308105\n",
      "epoch_size: 10\n",
      "epochs: 200\n",
      "learning_rate: 0.01\n",
      "name: Fock 1\n",
      "no_CD_end: False\n",
      "optimization_type: state transfer\n",
      "term_fid: 0.995\n",
      "termination_reason: outside termination\n",
      "theta_scale: 3.141592653589793\n",
      "use_displacements: False\n",
      "use_phase: False\n",
      "filename: Fock 1.h5\n",
      "\n",
      "Best circuit parameters found:\n",
      "betas:         [0.001  +1.566j   1.01252-0.00071j 0.00008+0.6536j  0.00004+0.00012j]\n",
      "alphas:        [0.+0.j]\n",
      "phis (deg):    [   0.        89.97035   90.00153 -179.99487]\n",
      "thetas (deg):  [-90.01159 -89.99588 -90.02338 -89.96513]\n",
      "Max Fidelity:  0.981403\n",
      "\n",
      "\n"
     ]
    }
   ],
   "source": [
    "#Analysis of the results. Can load the .h5 file.\n",
    "#all data is stored as a timestamp in a .h5 file\n",
    "#You can also specify which timestamp you are analyzing. Be defult, it will use the most recent optimization in the file.\n",
    "#I  recommend using \"HDFview\" software to understand data structure\n",
    "#filename = opt.filename\n",
    "filename = 'Fock %d.h5' % Fock\n",
    "analysis = OptimizationAnalysis(filename)\n",
    "analysis.print_info() #we can print info of best circuit"
   ]
  },
  {
   "cell_type": "markdown",
   "id": "bbee5c72",
   "metadata": {},
   "source": [
    "### 2. Part 2"
   ]
  },
  {
   "cell_type": "markdown",
   "id": "754d0e0a",
   "metadata": {},
   "source": [
    "##### Getting the Drive"
   ]
  },
  {
   "cell_type": "code",
   "execution_count": 15,
   "id": "2e5095ae",
   "metadata": {},
   "outputs": [],
   "source": [
    "from ECD_control import ECD_optimization\n",
    "from ECD_control import ECD_pulse_construction\n",
    "\n",
    "import numpy as np\n",
    "import qutip as qt \n",
    "from ECD_control.ECD_optimization.batch_optimizer import BatchOptimizer\n",
    "from ECD_control.ECD_optimization.optimization_analysis import OptimizationAnalysis, OptimizationSweepsAnalysis\n",
    "import matplotlib.pyplot as plt\n",
    "from tensorflow.python.client import device_lib\n",
    "device_lib.list_local_devices()\n",
    "from ECD_control.ECD_pulse_construction.ECD_pulse_construction import *"
   ]
  },
  {
   "cell_type": "code",
   "execution_count": 16,
   "id": "a4e91752",
   "metadata": {},
   "outputs": [
    {
     "name": "stdout",
     "output_type": "stream",
     "text": [
      "[[-1.56657314e+00  4.99585030e-06  6.54174268e-01  7.12366415e-08]\n",
      " [ 1.20889581e-05  1.01309156e+00  1.24045835e-06 -3.62776774e-07]\n",
      " [ 0.00000000e+00 -1.57079530e+00 -1.57078898e+00 -3.14158750e+00]\n",
      " [ 1.57079291e+00 -1.57079363e+00  1.57079577e+00  1.57079339e+00]]\n"
     ]
    }
   ],
   "source": [
    "# Import Data \n",
    "import numpy as np\n",
    "b_file = open(fname, \"r\")\n",
    "params = np.loadtxt(b_file)\n",
    "print(params)"
   ]
  },
  {
   "cell_type": "code",
   "execution_count": 17,
   "id": "efb03ad9",
   "metadata": {},
   "outputs": [
    {
     "name": "stdout",
     "output_type": "stream",
     "text": [
      "betas:[-1.56657314e+00+1.20889581e-05j  4.99585030e-06+1.01309156e+00j\n",
      "  6.54174268e-01+1.24045835e-06j  7.12366415e-08-3.62776774e-07j]\n",
      "phis:[ 0.         -1.5707953  -1.57078898 -3.1415875 ]\n",
      "thetas:[ 1.57079291 -1.57079363  1.57079577  1.57079339]\n"
     ]
    }
   ],
   "source": [
    "import cmath\n",
    "betas = np.asarray([complex(params[0][i], params[1][i]) for i in range(len(params[0]))])\n",
    "phis = params[2]\n",
    "thetas = params[3]\n",
    "\n",
    "#the parameters in our circuit. Can be user defined, or loaded from the result of an ECD optimization.\n",
    "\n",
    "print('betas:' + str(betas))\n",
    "print('phis:' + str(phis))\n",
    "print('thetas:' + str(thetas))"
   ]
  },
  {
   "cell_type": "code",
   "execution_count": 18,
   "id": "48016af4",
   "metadata": {},
   "outputs": [],
   "source": [
    "#Our cavity and qubit. When using pulse construction on the FPGA, these objects can be loaded, and \n",
    "#Here, we are making a \"FakeCavity\" and a \"FakeQubit\" with parameters found from experimental calibrations.\n",
    "\n",
    "storage_params = {\n",
    "        \"chi_kHz\": -33, #dispersive shift\n",
    "        \"chi_prime_Hz\": 0, #second order dispersive shift\n",
    "        \"Ks_Hz\": 0, #Kerr correction not yet implemented.\n",
    "        \"epsilon_m_MHz\": 400, #largest oscillator drive amplitude in MHz (max|epsilon|)\n",
    "        \"unit_amp\": 0.01, #DAC unit amp of gaussian displacement to alpha=1.\n",
    "        \"sigma\": 11, #oscillator displacement sigma\n",
    "        \"chop\": 4, #oscillator displacement chop (number of stds. to include in gaussian pulse)\n",
    "    }\n",
    "qubit_params = {'unit_amp': 0.5, 'sigma': 6, 'chop': 4} #parameters for qubit pi pulse.\n",
    "\n",
    "#calculating conversion between qubit DAC units and MHz (Omega)\n",
    "pi = rotate(np.pi, phi=0, sigma=qubit_params['sigma'], chop=qubit_params['chop'], dt=1)\n",
    "Omega_m = np.real(np.max(pi))/qubit_params['unit_amp']\n",
    "\n",
    "#creating the \"Fake storage\" and \"Fake qubit\"\n",
    "storage = FakeStorage(**storage_params)\n",
    "qubit = FakeQubit(**qubit_params)\n",
    "\n",
    "#The maximum displacement used during the ECD gates.\n",
    "alpha_CD = 30\n",
    "#Small delay to insert between oscillator and qubit pulses\n",
    "buffer_time = 4"
   ]
  },
  {
   "cell_type": "code",
   "execution_count": 19,
   "id": "a8529ade",
   "metadata": {},
   "outputs": [
    {
     "name": "stdout",
     "output_type": "stream",
     "text": [
      "Maximum oscillator drive amplitude: |epsilon|/2*pi < 690.790 MHz\n",
      "Maximum qubit drive amplitude: |Omega|/2*pi < 40.468 MHz\n"
     ]
    }
   ],
   "source": [
    "#From these calibrations, the storage and qubit objects calculate the\n",
    "#conversion between DAC amplitude, and drive amplitude in MHz.\n",
    "#so, [Omega(t) in MHz] = [Omega(t) in DAC units]*Omega_m_MHz \n",
    "#and [Omega(t) in MHz] = [Omega(t) in DAC units]*Omega_m_MHz.\n",
    "#These parameters also represent the maximum drive amplitude,\n",
    "#since the DAC max amplitude is 1 (assuming amplifiers don't saturate.)\n",
    "print('Maximum oscillator drive amplitude: |epsilon|/2*pi < %.3f MHz' % storage.epsilon_m_MHz)\n",
    "print('Maximum qubit drive amplitude: |Omega|/2*pi < %.3f MHz' % qubit.Omega_m_MHz)\n"
   ]
  },
  {
   "cell_type": "code",
   "execution_count": 20,
   "id": "34f3fa41",
   "metadata": {},
   "outputs": [
    {
     "name": "stderr",
     "output_type": "stream",
     "text": [
      "C:\\Users\\Eesh Gupta\\anaconda\\lib\\site-packages\\numpy\\core\\_asarray.py:85: ComplexWarning: Casting complex values to real discards the imaginary part\n",
      "  return array(a, dtype, copy=False, order=order)\n"
     ]
    }
   ],
   "source": [
    "#generating the conditional displacement circuit.\n",
    "#set 'chi_prime_correction = True' to correct for linear part of chi'\n",
    "#final_disp = True will implement final ECD gate as a displacement\n",
    "pulse_dict = conditional_displacement_circuit(betas, phis, thetas, storage, qubit,\n",
    "                     alpha_CD,buffer_time=buffer_time, kerr_correction = False, chi_prime_correction=True, final_disp=True, pad=True)\n",
    "cavity_dac_pulse, qubit_dac_pulse, = pulse_dict['cavity_dac_pulse'], pulse_dict['qubit_dac_pulse']\n",
    "\n"
   ]
  },
  {
   "cell_type": "code",
   "execution_count": 21,
   "id": "0213a901",
   "metadata": {},
   "outputs": [],
   "source": [
    "cavity_dac_pulse_GHz = (2*np.pi)*(10**(-3))*storage.epsilon_m_MHz*cavity_dac_pulse #convert from DAC to Mhz to Ghz\n",
    "qubit_dac_pulse_GHz = (2*np.pi)*10**(-3)*qubit.Omega_m_MHz*qubit_dac_pulse #convert from DAC to Mhz to Ghz"
   ]
  },
  {
   "cell_type": "code",
   "execution_count": 22,
   "id": "0b770d2c",
   "metadata": {},
   "outputs": [
    {
     "data": {
      "text/plain": [
       "Text(0, 0.5, 'Ghz')"
      ]
     },
     "execution_count": 22,
     "metadata": {},
     "output_type": "execute_result"
    },
    {
     "data": {
      "image/png": "[encoded data removed]",
      "text/plain": [
       "<Figure size 864x648 with 2 Axes>"
      ]
     },
     "metadata": {
      "needs_background": "light"
     },
     "output_type": "display_data"
    }
   ],
   "source": [
    "#plotting the pulse in GHz\n",
    "fig, axs = plt.subplots(2,1)\n",
    "axs[0].plot(np.real(cavity_dac_pulse_GHz))\n",
    "axs[0].plot(np.imag(cavity_dac_pulse_GHz))\n",
    "axs[0].set_ylabel('Ghz', fontsize = 10)\n",
    "axs[1].plot(np.real(qubit_dac_pulse_GHz))\n",
    "axs[1].plot(np.imag(qubit_dac_pulse_GHz))\n",
    "plt.xlabel('ns')\n",
    "plt.ylabel('Ghz')"
   ]
  },
  {
   "cell_type": "markdown",
   "id": "32fb5058",
   "metadata": {},
   "source": [
    "##### Finding alpha(t)"
   ]
  },
  {
   "cell_type": "code",
   "execution_count": 23,
   "id": "8ce71054",
   "metadata": {},
   "outputs": [],
   "source": [
    "def alpha_from_epsilon_nonlinear_finite_difference(\n",
    "    epsilon_array, delta=0, alpha_init=0 + 0j):\n",
    "    dt = 1\n",
    "    alpha = np.zeros_like(epsilon_array)\n",
    "    alpha[0] = alpha_init\n",
    "    alpha[1] = alpha_init\n",
    "    for j in range(1, len(epsilon_array) - 1):\n",
    "        alpha[j + 1] = (\n",
    "                2*\n",
    "                 dt\n",
    "                * (\n",
    "                    -1j * delta# * alpha[j]\n",
    "                    #- 2j * Ks * np.abs(alpha[j]) ** 2 * alpha[j]\n",
    "                    #- (kappa / 2.0) * alpha[j]\n",
    "                    - 1j * epsilon_array[j]\n",
    "                )\n",
    "                + alpha[j - 1])\n",
    "    return alpha"
   ]
  },
  {
   "cell_type": "code",
   "execution_count": 24,
   "id": "16a099b6",
   "metadata": {},
   "outputs": [],
   "source": [
    "def alpha_star_from_epsilon_nonlinear_finite_difference(\n",
    "    epsilon_array, delta=0, alpha_init=0 + 0j):\n",
    "    dt = 1\n",
    "    alpha = np.zeros_like(epsilon_array)\n",
    "    alpha[0] = alpha_init\n",
    "    alpha[1] = alpha_init\n",
    "    for j in range(1, len(epsilon_array) - 1):\n",
    "        alpha[j + 1] = (\n",
    "                2*\n",
    "                 dt\n",
    "                * (\n",
    "                    1j * delta# * alpha[j]\n",
    "                    #- 2j * Ks * np.abs(alpha[j]) ** 2 * alpha[j]\n",
    "                    #- (kappa / 2.0) * alpha[j]\n",
    "                    + 1j * epsilon_array[j]\n",
    "                )\n",
    "                + alpha[j - 1])\n",
    "    return alpha"
   ]
  },
  {
   "cell_type": "code",
   "execution_count": 25,
   "id": "586a7c4e",
   "metadata": {},
   "outputs": [],
   "source": [
    "alpha = alpha_from_epsilon_nonlinear_finite_difference(\n",
    "    epsilon_array =cavity_dac_pulse_GHz , delta=0, alpha_init=0 + 0j)\n",
    "alpha_star = alpha_star_from_epsilon_nonlinear_finite_difference(\n",
    "    epsilon_array =np.conjugate(cavity_dac_pulse_GHz) , delta=0, alpha_init=0 + 0j)"
   ]
  },
  {
   "cell_type": "code",
   "execution_count": 26,
   "id": "39407a15",
   "metadata": {},
   "outputs": [
    {
     "data": {
      "text/plain": [
       "Text(0.5, 0, 'ns')"
      ]
     },
     "execution_count": 26,
     "metadata": {},
     "output_type": "execute_result"
    },
    {
     "data": {
      "image/png": "[encoded data removed]",
      "text/plain": [
       "<Figure size 864x648 with 3 Axes>"
      ]
     },
     "metadata": {
      "needs_background": "light"
     },
     "output_type": "display_data"
    }
   ],
   "source": [
    "fig, axs = plt.subplots(3,1)\n",
    "axs[0].plot(np.real(cavity_dac_pulse_GHz))\n",
    "axs[0].plot(np.imag(cavity_dac_pulse_GHz))\n",
    "axs[0].set_ylabel('Ghz', fontsize = 10)\n",
    "axs[1].plot(np.real(alpha))\n",
    "axs[1].plot(np.imag(alpha))\n",
    "axs[1].set_ylabel('alpha', fontsize = 10)\n",
    "\n",
    "axs[2].plot(np.real(alpha_star))\n",
    "axs[2].plot(np.imag(alpha_star))\n",
    "axs[2].set_ylabel('alpha_star', fontsize = 10)\n",
    "plt.xlabel('ns')"
   ]
  },
  {
   "cell_type": "markdown",
   "id": "ecd650a3",
   "metadata": {},
   "source": [
    "##### Qutip Simulation"
   ]
  },
  {
   "cell_type": "code",
   "execution_count": 27,
   "id": "28b0741f",
   "metadata": {},
   "outputs": [],
   "source": [
    "from qutip import *\n",
    "from qutip.control import *\n",
    "from math import *"
   ]
  },
  {
   "cell_type": "code",
   "execution_count": 28,
   "id": "fc6ce7cc",
   "metadata": {},
   "outputs": [],
   "source": [
    "T = len(cavity_dac_pulse)\n",
    "times = np.linspace(0, T, T) #1ns timesteps"
   ]
  },
  {
   "cell_type": "markdown",
   "id": "2522d9f4",
   "metadata": {},
   "source": [
    "###### Qutip: System Hammy"
   ]
  },
  {
   "cell_type": "code",
   "execution_count": 29,
   "id": "2c79489a",
   "metadata": {},
   "outputs": [],
   "source": [
    "n_c = 10  #number of levels in cavity\n",
    "n_q = 2 #number of levels in qubit\n",
    "\n",
    "#N = 1 #target cavity state\n",
    "\n",
    "omega_c  = 5.26 *2*pi   #frequencies in GHz\n",
    "omega_q = 6.65*2*pi\n",
    "#K = -3.7*(10**(-6))*2*pi #cavity nonlinearity\n",
    "\n",
    "#photon depenedent number shifts\n",
    "chi = storage_params[\"chi_kHz\"]*2*pi*(10**(-6)) #linear\n",
    "chi_ = storage_params[\"chi_prime_Hz\"]*(10**(-9)) #quadratic\n",
    "\n",
    "##mode to mode coupling \n",
    "eta = 10**(-9)"
   ]
  },
  {
   "cell_type": "code",
   "execution_count": 30,
   "id": "6211cb82",
   "metadata": {},
   "outputs": [],
   "source": [
    "# Creating identity, annhilitation/creation, num operators \n",
    "identity_q = qeye(n_q)\n",
    "identity_c = qeye(n_c)\n",
    "\n",
    "a_q = destroy(n_q)\n",
    "a_c = destroy(n_c)\n",
    "\n",
    "adag_q = create(n_q)\n",
    "adag_c = create(n_c)\n",
    "\n",
    "num_q = num(n_q)\n",
    "num_c =  num(n_c)\n",
    "\n",
    "\n",
    "c_ops = []\n",
    "\n",
    "tlist = times\n",
    "\n",
    "\n"
   ]
  },
  {
   "cell_type": "code",
   "execution_count": 31,
   "id": "4320d488",
   "metadata": {},
   "outputs": [],
   "source": [
    "# Displace Frame hammy\n",
    "H0_disp = ((chi/2)*tensor(sigmaz(), num_c, identity_c) # first mode -qubit\n",
    "            +\n",
    "          (chi/2)*tensor(sigmaz(), identity_c, num_c) # 2nd mode - qubit\n",
    "           +\n",
    "          (eta)*tensor(identity_q, num_c, num_c)) # MODE-MODE"
   ]
  },
  {
   "cell_type": "code",
   "execution_count": 32,
   "id": "6822393b",
   "metadata": {},
   "outputs": [],
   "source": [
    "# prepping time depedent hammys\n",
    "alpha_sq =np.real( [np.real(i)**2 + np.imag(i)**2 for i in alpha])\n",
    "H = [H0_disp,\n",
    "     #Qubit drive\n",
    "    [tensor(a_q, identity_c, identity_c), np.conjugate(qubit_dac_pulse_GHz)], \n",
    "     [tensor(adag_q, identity_c, identity_c), qubit_dac_pulse_GHz],\n",
    "     \n",
    "     # Desired Displacement term from qubit-mode coupling\n",
    "     [(chi/2)*tensor(sigmaz(), a_c, identity_c), alpha_star],  \n",
    "     [(chi/2)*tensor(sigmaz(), adag_c, identity_c), alpha],\n",
    "     \n",
    "     # UnDesired Displacement term from mode-mode coupling\n",
    "     [(eta)*tensor(identity_q, a_c, num_c), alpha_star],  \n",
    "     [(eta)*tensor(identity_q, adag_c, num_c), alpha],\n",
    "     \n",
    "     # Undesired alpha^2 terms\n",
    "      [(chi/2)*tensor(sigmaz(), identity_c, identity_c), alpha_sq],\n",
    "     [(eta)*tensor(identity_q, identity_c, num_c), alpha_sq]\n",
    "     ]"
   ]
  },
  {
   "cell_type": "markdown",
   "id": "e78603f7",
   "metadata": {},
   "source": [
    "###### Qutip: Simulation"
   ]
  },
  {
   "cell_type": "code",
   "execution_count": 33,
   "id": "f03ef963",
   "metadata": {},
   "outputs": [],
   "source": [
    "psi0 = tensor(basis(n_q,0), basis(n_c,0), basis(n_c,0))\n",
    "opts = Options(store_states=True, store_final_state=True, nsteps = 5000)\n",
    "output = mesolve(H, psi0 , times, c_ops, [], options =opts)\n",
    "rho = output.states[-1]"
   ]
  },
  {
   "cell_type": "code",
   "execution_count": 36,
   "id": "f7e5c430",
   "metadata": {},
   "outputs": [
    {
     "data": {
      "text/plain": [
       "[Quantum object: dims = [[2, 10, 10], [2, 10, 10]], shape = (200, 200), type = oper, isherm = True\n",
       " Qobj data =\n",
       " [[ 0.          0.          0.         ...  0.          0.\n",
       "    0.        ]\n",
       "  [ 0.         -0.00010367  0.         ...  0.          0.\n",
       "    0.        ]\n",
       "  [ 0.          0.         -0.00020735 ...  0.          0.\n",
       "    0.        ]\n",
       "  ...\n",
       "  [ 0.          0.          0.         ...  0.00165882  0.\n",
       "    0.        ]\n",
       "  [ 0.          0.          0.         ...  0.          0.00176251\n",
       "    0.        ]\n",
       "  [ 0.          0.          0.         ...  0.          0.\n",
       "    0.00186619]],\n",
       " [Quantum object: dims = [[2, 10, 10], [2, 10, 10]], shape = (200, 200), type = oper, isherm = False\n",
       "  Qobj data =\n",
       "  [[0. 0. 0. ... 0. 0. 0.]\n",
       "   [0. 0. 0. ... 0. 0. 0.]\n",
       "   [0. 0. 0. ... 0. 0. 0.]\n",
       "   ...\n",
       "   [0. 0. 0. ... 0. 0. 0.]\n",
       "   [0. 0. 0. ... 0. 0. 0.]\n",
       "   [0. 0. 0. ... 0. 0. 0.]],\n",
       "  array([0.        -0.j, 0.00392731-0.j, 0.00882824-0.j, ...,\n",
       "         0.        -0.j, 0.        -0.j, 0.        -0.j])],\n",
       " [Quantum object: dims = [[2, 10, 10], [2, 10, 10]], shape = (200, 200), type = oper, isherm = False\n",
       "  Qobj data =\n",
       "  [[0. 0. 0. ... 0. 0. 0.]\n",
       "   [0. 0. 0. ... 0. 0. 0.]\n",
       "   [0. 0. 0. ... 0. 0. 0.]\n",
       "   ...\n",
       "   [0. 0. 0. ... 0. 0. 0.]\n",
       "   [0. 0. 0. ... 0. 0. 0.]\n",
       "   [0. 0. 0. ... 0. 0. 0.]],\n",
       "  array([0.        +0.j, 0.00392731+0.j, 0.00882824+0.j, ...,\n",
       "         0.        +0.j, 0.        +0.j, 0.        +0.j])],\n",
       " [Quantum object: dims = [[2, 10, 10], [2, 10, 10]], shape = (200, 200), type = oper, isherm = False\n",
       "  Qobj data =\n",
       "  [[0. 0. 0. ... 0. 0. 0.]\n",
       "   [0. 0. 0. ... 0. 0. 0.]\n",
       "   [0. 0. 0. ... 0. 0. 0.]\n",
       "   ...\n",
       "   [0. 0. 0. ... 0. 0. 0.]\n",
       "   [0. 0. 0. ... 0. 0. 0.]\n",
       "   [0. 0. 0. ... 0. 0. 0.]],\n",
       "  array([0.        +0.j        , 0.        +0.j        ,\n",
       "         0.        +0.j        , ..., 0.00540249+0.00304584j,\n",
       "         0.00540249+0.00304584j, 0.00540249+0.00304584j])],\n",
       " [Quantum object: dims = [[2, 10, 10], [2, 10, 10]], shape = (200, 200), type = oper, isherm = False\n",
       "  Qobj data =\n",
       "  [[0. 0. 0. ... 0. 0. 0.]\n",
       "   [0. 0. 0. ... 0. 0. 0.]\n",
       "   [0. 0. 0. ... 0. 0. 0.]\n",
       "   ...\n",
       "   [0. 0. 0. ... 0. 0. 0.]\n",
       "   [0. 0. 0. ... 0. 0. 0.]\n",
       "   [0. 0. 0. ... 0. 0. 0.]],\n",
       "  array([0.        +0.j        , 0.        +0.j        ,\n",
       "         0.        +0.j        , ..., 0.00540249-0.00304584j,\n",
       "         0.00540249-0.00304584j, 0.00540249-0.00304584j])],\n",
       " [Quantum object: dims = [[2, 10, 10], [2, 10, 10]], shape = (200, 200), type = oper, isherm = False\n",
       "  Qobj data =\n",
       "  [[0. 0. 0. ... 0. 0. 0.]\n",
       "   [0. 0. 0. ... 0. 0. 0.]\n",
       "   [0. 0. 0. ... 0. 0. 0.]\n",
       "   ...\n",
       "   [0. 0. 0. ... 0. 0. 0.]\n",
       "   [0. 0. 0. ... 0. 0. 0.]\n",
       "   [0. 0. 0. ... 0. 0. 0.]],\n",
       "  array([0.        +0.j        , 0.        +0.j        ,\n",
       "         0.        +0.j        , ..., 0.00540249+0.00304584j,\n",
       "         0.00540249+0.00304584j, 0.00540249+0.00304584j])],\n",
       " [Quantum object: dims = [[2, 10, 10], [2, 10, 10]], shape = (200, 200), type = oper, isherm = False\n",
       "  Qobj data =\n",
       "  [[0. 0. 0. ... 0. 0. 0.]\n",
       "   [0. 0. 0. ... 0. 0. 0.]\n",
       "   [0. 0. 0. ... 0. 0. 0.]\n",
       "   ...\n",
       "   [0. 0. 0. ... 0. 0. 0.]\n",
       "   [0. 0. 0. ... 0. 0. 0.]\n",
       "   [0. 0. 0. ... 0. 0. 0.]],\n",
       "  array([0.        +0.j        , 0.        +0.j        ,\n",
       "         0.        +0.j        , ..., 0.00540249-0.00304584j,\n",
       "         0.00540249-0.00304584j, 0.00540249-0.00304584j])],\n",
       " [Quantum object: dims = [[2, 10, 10], [2, 10, 10]], shape = (200, 200), type = oper, isherm = True\n",
       "  Qobj data =\n",
       "  [[-0.00010367  0.          0.         ...  0.          0.\n",
       "     0.        ]\n",
       "   [ 0.         -0.00010367  0.         ...  0.          0.\n",
       "     0.        ]\n",
       "   [ 0.          0.         -0.00010367 ...  0.          0.\n",
       "     0.        ]\n",
       "   ...\n",
       "   [ 0.          0.          0.         ...  0.00010367  0.\n",
       "     0.        ]\n",
       "   [ 0.          0.          0.         ...  0.          0.00010367\n",
       "     0.        ]\n",
       "   [ 0.          0.          0.         ...  0.          0.\n",
       "     0.00010367]],\n",
       "  array([0.00000000e+00, 0.00000000e+00, 0.00000000e+00, ...,\n",
       "         3.84640413e-05, 3.84640413e-05, 3.84640413e-05])],\n",
       " [Quantum object: dims = [[2, 10, 10], [2, 10, 10]], shape = (200, 200), type = oper, isherm = True\n",
       "  Qobj data =\n",
       "  [[0.e+00 0.e+00 0.e+00 ... 0.e+00 0.e+00 0.e+00]\n",
       "   [0.e+00 1.e-09 0.e+00 ... 0.e+00 0.e+00 0.e+00]\n",
       "   [0.e+00 0.e+00 2.e-09 ... 0.e+00 0.e+00 0.e+00]\n",
       "   ...\n",
       "   [0.e+00 0.e+00 0.e+00 ... 7.e-09 0.e+00 0.e+00]\n",
       "   [0.e+00 0.e+00 0.e+00 ... 0.e+00 8.e-09 0.e+00]\n",
       "   [0.e+00 0.e+00 0.e+00 ... 0.e+00 0.e+00 9.e-09]],\n",
       "  array([0.00000000e+00, 0.00000000e+00, 0.00000000e+00, ...,\n",
       "         3.84640413e-05, 3.84640413e-05, 3.84640413e-05])]]"
      ]
     },
     "execution_count": 36,
     "metadata": {},
     "output_type": "execute_result"
    }
   ],
   "source": [
    "H"
   ]
  },
  {
   "cell_type": "code",
   "execution_count": 34,
   "id": "072ca451",
   "metadata": {},
   "outputs": [
    {
     "data": {
      "text/latex": [
       "Quantum object: dims = [[2, 10, 10], [1, 1, 1]], shape = (200, 1), type = ket\\begin{equation*}\\left(\\begin{array}{*{11}c}(0.002-1.839\\times10^{-04}j)\\\\0.0\\\\0.0\\\\0.0\\\\0.0\\\\\\vdots\\\\0.0\\\\0.0\\\\0.0\\\\0.0\\\\0.0\\\\\\end{array}\\right)\\end{equation*}"
      ],
      "text/plain": [
       "Quantum object: dims = [[2, 10, 10], [1, 1, 1]], shape = (200, 1), type = ket\n",
       "Qobj data =\n",
       "[[ 2.47482318e-03-0.00018389j]\n",
       " [ 0.00000000e+00+0.j        ]\n",
       " [ 0.00000000e+00+0.j        ]\n",
       " [ 0.00000000e+00+0.j        ]\n",
       " [ 0.00000000e+00+0.j        ]\n",
       " [ 0.00000000e+00+0.j        ]\n",
       " [ 0.00000000e+00+0.j        ]\n",
       " [ 0.00000000e+00+0.j        ]\n",
       " [ 0.00000000e+00+0.j        ]\n",
       " [ 0.00000000e+00+0.j        ]\n",
       " [-9.88998336e-01-0.03221081j]\n",
       " [ 0.00000000e+00+0.j        ]\n",
       " [ 0.00000000e+00+0.j        ]\n",
       " [ 0.00000000e+00+0.j        ]\n",
       " [ 0.00000000e+00+0.j        ]\n",
       " [ 0.00000000e+00+0.j        ]\n",
       " [ 0.00000000e+00+0.j        ]\n",
       " [ 0.00000000e+00+0.j        ]\n",
       " [ 0.00000000e+00+0.j        ]\n",
       " [ 0.00000000e+00+0.j        ]\n",
       " [ 5.31820027e-03-0.00195736j]\n",
       " [ 0.00000000e+00+0.j        ]\n",
       " [ 0.00000000e+00+0.j        ]\n",
       " [ 0.00000000e+00+0.j        ]\n",
       " [ 0.00000000e+00+0.j        ]\n",
       " [ 0.00000000e+00+0.j        ]\n",
       " [ 0.00000000e+00+0.j        ]\n",
       " [ 0.00000000e+00+0.j        ]\n",
       " [ 0.00000000e+00+0.j        ]\n",
       " [ 0.00000000e+00+0.j        ]\n",
       " [ 2.61072485e-02+0.00172505j]\n",
       " [ 0.00000000e+00+0.j        ]\n",
       " [ 0.00000000e+00+0.j        ]\n",
       " [ 0.00000000e+00+0.j        ]\n",
       " [ 0.00000000e+00+0.j        ]\n",
       " [ 0.00000000e+00+0.j        ]\n",
       " [ 0.00000000e+00+0.j        ]\n",
       " [ 0.00000000e+00+0.j        ]\n",
       " [ 0.00000000e+00+0.j        ]\n",
       " [ 0.00000000e+00+0.j        ]\n",
       " [ 1.79606450e-03+0.00156695j]\n",
       " [ 0.00000000e+00+0.j        ]\n",
       " [ 0.00000000e+00+0.j        ]\n",
       " [ 0.00000000e+00+0.j        ]\n",
       " [ 0.00000000e+00+0.j        ]\n",
       " [ 0.00000000e+00+0.j        ]\n",
       " [ 0.00000000e+00+0.j        ]\n",
       " [ 0.00000000e+00+0.j        ]\n",
       " [ 0.00000000e+00+0.j        ]\n",
       " [ 0.00000000e+00+0.j        ]\n",
       " [ 9.51928550e-02+0.00408842j]\n",
       " [ 0.00000000e+00+0.j        ]\n",
       " [ 0.00000000e+00+0.j        ]\n",
       " [ 0.00000000e+00+0.j        ]\n",
       " [ 0.00000000e+00+0.j        ]\n",
       " [ 0.00000000e+00+0.j        ]\n",
       " [ 0.00000000e+00+0.j        ]\n",
       " [ 0.00000000e+00+0.j        ]\n",
       " [ 0.00000000e+00+0.j        ]\n",
       " [ 0.00000000e+00+0.j        ]\n",
       " [-3.49937969e-03+0.0002696j ]\n",
       " [ 0.00000000e+00+0.j        ]\n",
       " [ 0.00000000e+00+0.j        ]\n",
       " [ 0.00000000e+00+0.j        ]\n",
       " [ 0.00000000e+00+0.j        ]\n",
       " [ 0.00000000e+00+0.j        ]\n",
       " [ 0.00000000e+00+0.j        ]\n",
       " [ 0.00000000e+00+0.j        ]\n",
       " [ 0.00000000e+00+0.j        ]\n",
       " [ 0.00000000e+00+0.j        ]\n",
       " [-2.68644473e-02-0.00128461j]\n",
       " [ 0.00000000e+00+0.j        ]\n",
       " [ 0.00000000e+00+0.j        ]\n",
       " [ 0.00000000e+00+0.j        ]\n",
       " [ 0.00000000e+00+0.j        ]\n",
       " [ 0.00000000e+00+0.j        ]\n",
       " [ 0.00000000e+00+0.j        ]\n",
       " [ 0.00000000e+00+0.j        ]\n",
       " [ 0.00000000e+00+0.j        ]\n",
       " [ 0.00000000e+00+0.j        ]\n",
       " [ 8.67040489e-04-0.00019786j]\n",
       " [ 0.00000000e+00+0.j        ]\n",
       " [ 0.00000000e+00+0.j        ]\n",
       " [ 0.00000000e+00+0.j        ]\n",
       " [ 0.00000000e+00+0.j        ]\n",
       " [ 0.00000000e+00+0.j        ]\n",
       " [ 0.00000000e+00+0.j        ]\n",
       " [ 0.00000000e+00+0.j        ]\n",
       " [ 0.00000000e+00+0.j        ]\n",
       " [ 0.00000000e+00+0.j        ]\n",
       " [ 2.67890217e-03+0.00014613j]\n",
       " [ 0.00000000e+00+0.j        ]\n",
       " [ 0.00000000e+00+0.j        ]\n",
       " [ 0.00000000e+00+0.j        ]\n",
       " [ 0.00000000e+00+0.j        ]\n",
       " [ 0.00000000e+00+0.j        ]\n",
       " [ 0.00000000e+00+0.j        ]\n",
       " [ 0.00000000e+00+0.j        ]\n",
       " [ 0.00000000e+00+0.j        ]\n",
       " [ 0.00000000e+00+0.j        ]\n",
       " [ 3.80951818e-02+0.00434101j]\n",
       " [ 0.00000000e+00+0.j        ]\n",
       " [ 0.00000000e+00+0.j        ]\n",
       " [ 0.00000000e+00+0.j        ]\n",
       " [ 0.00000000e+00+0.j        ]\n",
       " [ 0.00000000e+00+0.j        ]\n",
       " [ 0.00000000e+00+0.j        ]\n",
       " [ 0.00000000e+00+0.j        ]\n",
       " [ 0.00000000e+00+0.j        ]\n",
       " [ 0.00000000e+00+0.j        ]\n",
       " [-4.63241216e-02+0.00449636j]\n",
       " [ 0.00000000e+00+0.j        ]\n",
       " [ 0.00000000e+00+0.j        ]\n",
       " [ 0.00000000e+00+0.j        ]\n",
       " [ 0.00000000e+00+0.j        ]\n",
       " [ 0.00000000e+00+0.j        ]\n",
       " [ 0.00000000e+00+0.j        ]\n",
       " [ 0.00000000e+00+0.j        ]\n",
       " [ 0.00000000e+00+0.j        ]\n",
       " [ 0.00000000e+00+0.j        ]\n",
       " [-2.72523525e-02-0.00075376j]\n",
       " [ 0.00000000e+00+0.j        ]\n",
       " [ 0.00000000e+00+0.j        ]\n",
       " [ 0.00000000e+00+0.j        ]\n",
       " [ 0.00000000e+00+0.j        ]\n",
       " [ 0.00000000e+00+0.j        ]\n",
       " [ 0.00000000e+00+0.j        ]\n",
       " [ 0.00000000e+00+0.j        ]\n",
       " [ 0.00000000e+00+0.j        ]\n",
       " [ 0.00000000e+00+0.j        ]\n",
       " [ 9.70951046e-04+0.00057732j]\n",
       " [ 0.00000000e+00+0.j        ]\n",
       " [ 0.00000000e+00+0.j        ]\n",
       " [ 0.00000000e+00+0.j        ]\n",
       " [ 0.00000000e+00+0.j        ]\n",
       " [ 0.00000000e+00+0.j        ]\n",
       " [ 0.00000000e+00+0.j        ]\n",
       " [ 0.00000000e+00+0.j        ]\n",
       " [ 0.00000000e+00+0.j        ]\n",
       " [ 0.00000000e+00+0.j        ]\n",
       " [-5.40213979e-02+0.00260797j]\n",
       " [ 0.00000000e+00+0.j        ]\n",
       " [ 0.00000000e+00+0.j        ]\n",
       " [ 0.00000000e+00+0.j        ]\n",
       " [ 0.00000000e+00+0.j        ]\n",
       " [ 0.00000000e+00+0.j        ]\n",
       " [ 0.00000000e+00+0.j        ]\n",
       " [ 0.00000000e+00+0.j        ]\n",
       " [ 0.00000000e+00+0.j        ]\n",
       " [ 0.00000000e+00+0.j        ]\n",
       " [ 4.73189860e-03-0.00082533j]\n",
       " [ 0.00000000e+00+0.j        ]\n",
       " [ 0.00000000e+00+0.j        ]\n",
       " [ 0.00000000e+00+0.j        ]\n",
       " [ 0.00000000e+00+0.j        ]\n",
       " [ 0.00000000e+00+0.j        ]\n",
       " [ 0.00000000e+00+0.j        ]\n",
       " [ 0.00000000e+00+0.j        ]\n",
       " [ 0.00000000e+00+0.j        ]\n",
       " [ 0.00000000e+00+0.j        ]\n",
       " [ 5.33638525e-02-0.00227017j]\n",
       " [ 0.00000000e+00+0.j        ]\n",
       " [ 0.00000000e+00+0.j        ]\n",
       " [ 0.00000000e+00+0.j        ]\n",
       " [ 0.00000000e+00+0.j        ]\n",
       " [ 0.00000000e+00+0.j        ]\n",
       " [ 0.00000000e+00+0.j        ]\n",
       " [ 0.00000000e+00+0.j        ]\n",
       " [ 0.00000000e+00+0.j        ]\n",
       " [ 0.00000000e+00+0.j        ]\n",
       " [-1.87146627e-03+0.0006246j ]\n",
       " [ 0.00000000e+00+0.j        ]\n",
       " [ 0.00000000e+00+0.j        ]\n",
       " [ 0.00000000e+00+0.j        ]\n",
       " [ 0.00000000e+00+0.j        ]\n",
       " [ 0.00000000e+00+0.j        ]\n",
       " [ 0.00000000e+00+0.j        ]\n",
       " [ 0.00000000e+00+0.j        ]\n",
       " [ 0.00000000e+00+0.j        ]\n",
       " [ 0.00000000e+00+0.j        ]\n",
       " [-1.04001444e-02+0.00047244j]\n",
       " [ 0.00000000e+00+0.j        ]\n",
       " [ 0.00000000e+00+0.j        ]\n",
       " [ 0.00000000e+00+0.j        ]\n",
       " [ 0.00000000e+00+0.j        ]\n",
       " [ 0.00000000e+00+0.j        ]\n",
       " [ 0.00000000e+00+0.j        ]\n",
       " [ 0.00000000e+00+0.j        ]\n",
       " [ 0.00000000e+00+0.j        ]\n",
       " [ 0.00000000e+00+0.j        ]\n",
       " [ 2.89781021e-04-0.00013909j]\n",
       " [ 0.00000000e+00+0.j        ]\n",
       " [ 0.00000000e+00+0.j        ]\n",
       " [ 0.00000000e+00+0.j        ]\n",
       " [ 0.00000000e+00+0.j        ]\n",
       " [ 0.00000000e+00+0.j        ]\n",
       " [ 0.00000000e+00+0.j        ]\n",
       " [ 0.00000000e+00+0.j        ]\n",
       " [ 0.00000000e+00+0.j        ]\n",
       " [ 0.00000000e+00+0.j        ]]"
      ]
     },
     "execution_count": 34,
     "metadata": {},
     "output_type": "execute_result"
    }
   ],
   "source": [
    "rho"
   ]
  },
  {
   "cell_type": "code",
   "execution_count": 35,
   "id": "8b589d64",
   "metadata": {},
   "outputs": [
    {
     "name": "stdout",
     "output_type": "stream",
     "text": [
      "Fidelity is (-0.9889983363437544+0.0322108131793613j)\n"
     ]
    }
   ],
   "source": [
    "target_state = tensor(basis(n_q,0), basis(n_c, 1), basis(n_c, 0))\n",
    "fidelity = rho.overlap(target_state)\n",
    "print('Fidelity is '+ str(fidelity))"
   ]
  },
  {
   "cell_type": "code",
   "execution_count": 56,
   "id": "8e53a4b4",
   "metadata": {},
   "outputs": [],
   "source": [
    "import pylab as plot\n",
    "params = {'legend.fontsize': 15,\n",
    "          'legend.handlelength': 2}\n",
    "plot.rcParams.update(params)"
   ]
  },
  {
   "cell_type": "code",
   "execution_count": 67,
   "id": "83a6c18a",
   "metadata": {},
   "outputs": [],
   "source": [
    "def plot_populations(output, figname):\n",
    "    '''\n",
    "    Given output of mesolve, outputs populations with qubit as ground\n",
    "    '''\n",
    "    fig = plt.figure(figsize=(10,8))\n",
    "    probs = []\n",
    "    times = [k for k in range(len(output.states))]\n",
    "    max_num_levels = 3 # to be shown on the plot\n",
    "    \n",
    "    #qubit grounded\n",
    "    for i in range(max_num_levels):\n",
    "        for j in range(max_num_levels):\n",
    "            target = tensor(basis(n_q,0), basis(n_c, i), basis(n_c, j))\n",
    "            pops = []\n",
    "            for k in range(len(output.states)): \n",
    "                z = target.overlap(output.states[k])\n",
    "                pops.append(z.real**2 + z.imag**2)\n",
    "            plt.plot(times, pops, label = '|g,'+str(i)+',' + str(j)+'>')\n",
    "    \n",
    "    #qubit excited\n",
    "    for i in range(max_num_levels):\n",
    "        for j in range(max_num_levels):\n",
    "            target = tensor(basis(n_q,1), basis(n_c, i), basis(n_c, j))\n",
    "            pops = []\n",
    "            for k in range(len(output.states)): \n",
    "                z = target.overlap(output.states[k])\n",
    "                pops.append(z.real**2 + z.imag**2)\n",
    "            plt.plot(times, pops, label = '|e,'+str(i)+',' + str(j)+'>')\n",
    "            \n",
    "    plt.xlabel(\"Time (ns)\", fontsize = 14)\n",
    "    plt.ylabel(\"Populations\", fontsize = 14)\n",
    "    plt.xticks(fontsize= 10)\n",
    "    plt.yticks(fontsize= 10)\n",
    "#     plt.legend(prop={'size': 20},  fontsize = 8, loc='upper center', bbox_to_anchor=(0.5, 1.05),\n",
    "#           ncol=3, fancybox=True, shadow=True)   \n",
    "    plt.legend(loc='center left', bbox_to_anchor=(1, 0.5))\n",
    "    #plt.legend()\n",
    "    fig.savefig(figname, dpi = 1000)"
   ]
  },
  {
   "cell_type": "code",
   "execution_count": 81,
   "id": "48a7a0e9",
   "metadata": {
    "scrolled": true
   },
   "outputs": [
    {
     "data": {
      "image/png": "[encoded data removed]",
      "text/plain": [
       "<Figure size 720x576 with 1 Axes>"
      ]
     },
     "metadata": {
      "needs_background": "light"
     },
     "output_type": "display_data"
    }
   ],
   "source": [
    "plot_populations(output, 'g00 to g01_eta1Hz.png')"
   ]
  },
  {
   "cell_type": "markdown",
   "id": "689aeea4",
   "metadata": {},
   "source": [
    "# g01-> g11"
   ]
  },
  {
   "cell_type": "code",
   "execution_count": 70,
   "id": "b57b3a6d",
   "metadata": {},
   "outputs": [],
   "source": [
    "def get_hammy(eta): \n",
    "    '''\n",
    "    get hamiltonian for system with specified eta\n",
    "    '''\n",
    "    \n",
    "    # Displace Frame hammy\n",
    "    H0_disp = ((chi/2)*tensor(sigmaz(), num_c, identity_c) # first mode -qubit\n",
    "            +\n",
    "          (chi/2)*tensor(sigmaz(), identity_c, num_c) # 2nd mode - qubit\n",
    "           +\n",
    "          (eta)*tensor(identity_q, num_c, num_c)) # MODE-MODE\n",
    "    \n",
    "    # prepping time depedent hammys\n",
    "    alpha_sq =np.real( [np.real(i)**2 + np.imag(i)**2 for i in alpha])\n",
    "    \n",
    "    H = [H0_disp,\n",
    "         #Qubit drive\n",
    "        [tensor(a_q, identity_c, identity_c), np.conjugate(qubit_dac_pulse_GHz)], \n",
    "         [tensor(adag_q, identity_c, identity_c), qubit_dac_pulse_GHz],\n",
    "\n",
    "         # Desired Displacement term from qubit-mode coupling\n",
    "         [(chi/2)*tensor(sigmaz(), a_c, identity_c), alpha_star],  \n",
    "         [(chi/2)*tensor(sigmaz(), adag_c, identity_c), alpha],\n",
    "\n",
    "         # UnDesired Displacement term from mode-mode coupling\n",
    "         [(eta)*tensor(identity_q, a_c, num_c), alpha_star],  \n",
    "         [(eta)*tensor(identity_q, adag_c, num_c), alpha],\n",
    "\n",
    "         # Undesired alpha^2 terms\n",
    "          [(chi/2)*tensor(sigmaz(), identity_c, identity_c), alpha_sq],\n",
    "         [(eta)*tensor(identity_q, identity_c, num_c), alpha_sq]\n",
    "         ]\n",
    "    return H"
   ]
  },
  {
   "cell_type": "code",
   "execution_count": 78,
   "id": "8ac81c87",
   "metadata": {},
   "outputs": [],
   "source": [
    "psi0_new = tensor(basis(n_q,0), basis(n_c,0), basis(n_c,1))\n",
    "opts = Options(store_states=True, store_final_state=True, nsteps = 5000)\n",
    "output2 = mesolve(H, psi0_new , times, c_ops, [], options =opts)\n",
    "rho2 = output2.states[-1]"
   ]
  },
  {
   "cell_type": "code",
   "execution_count": 79,
   "id": "29c57cba",
   "metadata": {},
   "outputs": [
    {
     "name": "stdout",
     "output_type": "stream",
     "text": [
      "Fidelity is (0.98889596104917-0.03804891443889872j)\n"
     ]
    }
   ],
   "source": [
    "target_state2 = tensor(basis(n_q,0), basis(n_c, 1), basis(n_c, 1))\n",
    "fidelity = rho2.overlap(target_state2)\n",
    "print('Fidelity is '+ str(fidelity))"
   ]
  },
  {
   "cell_type": "code",
   "execution_count": 82,
   "id": "eccec197",
   "metadata": {},
   "outputs": [
    {
     "data": {
      "image/png": "[encoded data removed]",
      "text/plain": [
       "<Figure size 720x576 with 1 Axes>"
      ]
     },
     "metadata": {
      "needs_background": "light"
     },
     "output_type": "display_data"
    }
   ],
   "source": [
    "plot_populations(output2, 'g01 to g11_eta1Hz.png')"
   ]
  },
  {
   "cell_type": "markdown",
   "id": "22e4d102",
   "metadata": {},
   "source": [
    "# Turning chi of second mode off"
   ]
  },
  {
   "cell_type": "code",
   "execution_count": 86,
   "id": "6157dd4f",
   "metadata": {},
   "outputs": [],
   "source": [
    "def get_hammy(eta, chi_2): \n",
    "    '''\n",
    "    get hamiltonian for system with specified eta\n",
    "    '''\n",
    "    \n",
    "    # Displace Frame hammy\n",
    "    H0_disp = ((chi/2)*tensor(sigmaz(), num_c, identity_c) # first mode -qubit\n",
    "            +\n",
    "          (chi_2/2)*tensor(sigmaz(), identity_c, num_c) # 2nd mode - qubit\n",
    "           +\n",
    "          (eta)*tensor(identity_q, num_c, num_c)) # MODE-MODE\n",
    "    \n",
    "    # prepping time depedent hammys\n",
    "    alpha_sq =np.real( [np.real(i)**2 + np.imag(i)**2 for i in alpha])\n",
    "    \n",
    "    H = [H0_disp,\n",
    "         #Qubit drive\n",
    "        [tensor(a_q, identity_c, identity_c), np.conjugate(qubit_dac_pulse_GHz)], \n",
    "         [tensor(adag_q, identity_c, identity_c), qubit_dac_pulse_GHz],\n",
    "\n",
    "         # Desired Displacement term from qubit-mode coupling\n",
    "         [(chi/2)*tensor(sigmaz(), a_c, identity_c), alpha_star],  \n",
    "         [(chi/2)*tensor(sigmaz(), adag_c, identity_c), alpha],\n",
    "\n",
    "         # UnDesired Displacement term from mode-mode coupling\n",
    "         [(eta)*tensor(identity_q, a_c, num_c), alpha_star],  \n",
    "         [(eta)*tensor(identity_q, adag_c, num_c), alpha],\n",
    "\n",
    "         # Undesired alpha^2 terms\n",
    "          [(chi/2)*tensor(sigmaz(), identity_c, identity_c), alpha_sq],\n",
    "         [(eta)*tensor(identity_q, identity_c, num_c), alpha_sq]\n",
    "         ]\n",
    "    return H"
   ]
  },
  {
   "cell_type": "code",
   "execution_count": 87,
   "id": "23b7b443",
   "metadata": {},
   "outputs": [],
   "source": [
    "def get_fidelity(eta, chi_2):\n",
    "    \"\"\"\n",
    "    With specified eta, we return the overlap between final state after unitary \n",
    "    dynamics and the target state\n",
    "    \"\"\"\n",
    "    H = get_hammy(eta, chi_2)\n",
    "    psi0 = tensor(basis(n_q,0), basis(n_c,0), basis(n_c,1))\n",
    "    opts = Options(store_states=True, store_final_state=True, nsteps = 5000)\n",
    "    output = mesolve(H, psi0 , times, c_ops, [], options =opts)\n",
    "    rho = output.states[-1]\n",
    "    \n",
    "    target_state = tensor(basis(n_q,0), basis(n_c, 1), basis(n_c, 1))\n",
    "    fidelity = np.absolute(rho.overlap(target_state))\n",
    "    print('Eta is ' + str(eta) + ' and fidelity is ' + str(fidelity))\n",
    "    print(rho.overlap(target_state))\n",
    "    \n",
    "    return fidelity "
   ]
  },
  {
   "cell_type": "code",
   "execution_count": 90,
   "id": "bd4e12ba",
   "metadata": {},
   "outputs": [
    {
     "name": "stdout",
     "output_type": "stream",
     "text": [
      "Eta is 0.0 and fidelity is 0.0\n",
      "0j\n",
      "0.0\n",
      "Eta is 1e-09 and fidelity is 1.1073563282116465e-09\n",
      "(1.0911156528136339e-09+1.8895679351496526e-10j)\n",
      "1.1073563282116465e-09\n",
      "Eta is 2e-09 and fidelity is 1.8977223717671493e-09\n",
      "(-1.504943830511127e-09+1.1560684526930189e-09j)\n",
      "1.8977223717671493e-09\n",
      "Eta is 3.0000000000000004e-09 and fidelity is 1.2952469273122654e-09\n",
      "(1.2715434086499461e-09+2.466616359119129e-10j)\n",
      "1.2952469273122654e-09\n",
      "Eta is 4e-09 and fidelity is 1.1610719385024937e-09\n",
      "(1.1475008734338014e-09-1.7700223684067108e-10j)\n",
      "1.1610719385024937e-09\n",
      "Eta is 5e-09 and fidelity is 2.2105125816879537e-10\n",
      "(1.979522382930261e-10-9.837972399223545e-11j)\n",
      "2.2105125816879537e-10\n",
      "Eta is 6.000000000000001e-09 and fidelity is 1.3219089619857868e-09\n",
      "(1.8724568167507506e-10-1.3085802835410509e-09j)\n",
      "1.3219089619857868e-09\n",
      "Eta is 7.000000000000001e-09 and fidelity is 5.687939446462081e-10\n",
      "(1.74810904394292e-10+5.412649066501941e-10j)\n",
      "5.687939446462081e-10\n",
      "Eta is 8e-09 and fidelity is 1.3727149280652003e-09\n",
      "(1.303544248672079e-09-4.302541870650341e-10j)\n",
      "1.3727149280652003e-09\n",
      "Eta is 9.000000000000001e-09 and fidelity is 7.761330405055257e-10\n",
      "(2.1187733491732479e-10+7.4665285877219e-10j)\n",
      "7.761330405055257e-10\n",
      "Eta is 0.0 and fidelity is 0.007808189788132716\n",
      "(-0.007804255003020947+0.0002478540201863936j)\n",
      "0.007808189788132716\n",
      "Eta is 1e-09 and fidelity is 0.0078081898164696064\n",
      "(-0.0078043585714234745+0.0002445720725442955j)\n",
      "0.0078081898164696064\n",
      "Eta is 2e-09 and fidelity is 0.0078081898364436055\n",
      "(-0.007804460751289006+0.00024129008170802927j)\n",
      "0.0078081898364436055\n",
      "Eta is 3.0000000000000004e-09 and fidelity is 0.007808189848053319\n",
      "(-0.007804561542597505+0.00023800804829030614j)\n",
      "0.007808189848053319\n",
      "Eta is 4e-09 and fidelity is 0.007808189851297327\n",
      "(-0.007804660945329205+0.0002347259729037425j)\n",
      "0.007808189851297327\n",
      "Eta is 5e-09 and fidelity is 0.0078081898461747935\n",
      "(-0.00780475895946521+0.00023144385616103886j)\n",
      "0.0078081898461747935\n",
      "Eta is 6.000000000000001e-09 and fidelity is 0.007808189832685486\n",
      "(-0.0078048555849875205+0.00022816169867463927j)\n",
      "0.007808189832685486\n",
      "Eta is 7.000000000000001e-09 and fidelity is 0.007808189810829723\n",
      "(-0.00780495082187899+0.00022487950105688095j)\n",
      "0.007808189810829723\n",
      "Eta is 8e-09 and fidelity is 0.007808189780607813\n",
      "(-0.007805044670122725+0.00022159726392064153j)\n",
      "0.007808189780607813\n",
      "Eta is 9.000000000000001e-09 and fidelity is 0.007808189742021207\n",
      "(-0.007805137129703284+0.0002183149878784701j)\n",
      "0.007808189742021207\n",
      "Eta is 0.0 and fidelity is 0.015615032358546553\n",
      "(-0.01560706883069989+0.0004986362123350516j)\n",
      "0.015615032358546553\n",
      "Eta is 1e-09 and fidelity is 0.015615032327737786\n",
      "(-0.015607276745523539+0.0004920845302753546j)\n",
      "0.015615032327737786\n",
      "Eta is 2e-09 and fidelity is 0.015615032306156875\n",
      "(-0.015607481918157381+0.00048553279674319524j)\n",
      "0.015615032306156875\n",
      "Eta is 3.0000000000000004e-09 and fidelity is 0.015615032305060469\n",
      "(-0.01560768435972074+0.0004789810177978505j)\n",
      "0.015615032305060469\n",
      "Eta is 4e-09 and fidelity is 0.015615032425202902\n",
      "(-0.015607884091672223+0.00047243181631124076j)\n",
      "0.015615032425202902\n",
      "Eta is 5e-09 and fidelity is 0.01561503245925751\n",
      "(-0.0156080810680878+0.0004658798940336706j)\n",
      "0.01561503245925751\n",
      "Eta is 6.000000000000001e-09 and fidelity is 0.01561503249540926\n",
      "(-0.015608275296423354+0.00045932788261498944j)\n",
      "0.01561503249540926\n",
      "Eta is 7.000000000000001e-09 and fidelity is 0.01561503252827988\n",
      "(-0.015608466771493041+0.0004527757750105103j)\n",
      "0.01561503252827988\n",
      "Eta is 8e-09 and fidelity is 0.015615032527542103\n",
      "(-0.015608655463768923+0.0004462235421338106j)\n",
      "0.015615032527542103\n",
      "Eta is 9.000000000000001e-09 and fidelity is 0.015615032520518251\n",
      "(-0.015608841399414064+0.0004396712235070154j)\n",
      "0.015615032520518251\n",
      "Eta is 0.0 and fidelity is 0.02342070436961902\n",
      "(-0.02340863436395548+0.000751818052279952j)\n",
      "0.02342070436961902\n",
      "Eta is 1e-09 and fidelity is 0.02342070429401388\n",
      "(-0.023408947418289236+0.0007420043095628261j)\n",
      "0.02342070429401388\n",
      "Eta is 2e-09 and fidelity is 0.02342070423640203\n",
      "(-0.02340925637501164+0.0007321904793132249j)\n",
      "0.02342070423640203\n",
      "Eta is 3.0000000000000004e-09 and fidelity is 0.023420704203519778\n",
      "(-0.02340956124074857+0.0007223765669034507j)\n",
      "0.023420704203519778\n",
      "Eta is 4e-09 and fidelity is 0.023420704195064184\n",
      "(-0.023409862015563176+0.000712562562158237j)\n",
      "0.023420704195064184\n",
      "Eta is 5e-09 and fidelity is 0.023420704209885988\n",
      "(-0.023410158698832884+0.0007027484488992708j)\n",
      "0.023420704209885988\n",
      "Eta is 6.000000000000001e-09 and fidelity is 0.023420704116502707\n",
      "(-0.023410451159475387+0.0006929342123062041j)\n",
      "0.023420704116502707\n",
      "Eta is 7.000000000000001e-09 and fidelity is 0.023420704132590058\n",
      "(-0.023410739615193896+0.0006831198547195507j)\n",
      "0.023420704132590058\n",
      "Eta is 8e-09 and fidelity is 0.023420704151603508\n",
      "(-0.023411023959569264+0.0006733053701046026j)\n",
      "0.023420704151603508\n",
      "Eta is 9.000000000000001e-09 and fidelity is 0.023420704119757683\n",
      "(-0.023411304140281235+0.0006634907056509606j)\n",
      "0.023420704119757683\n",
      "Eta is 0.0 and fidelity is 0.031224262813158085\n",
      "(-0.031208002649117293+0.0010075509306506259j)\n",
      "0.031224262813158085\n",
      "Eta is 1e-09 and fidelity is 0.031224262712835772\n",
      "(-0.03120842198337043+0.0009944743677277336j)\n",
      "0.031224262712835772\n",
      "Eta is 2e-09 and fidelity is 0.0312242626196177\n",
      "(-0.031208835844057304+0.0009813976755318466j)\n",
      "0.0312242626196177\n",
      "Eta is 3.0000000000000004e-09 and fidelity is 0.03122426254555893\n",
      "(-0.031209244242827595+0.0009683208690960279j)\n",
      "0.03122426254555893\n",
      "Eta is 4e-09 and fidelity is 0.031224262498832367\n",
      "(-0.031209647188219242+0.000955243938932843j)\n",
      "0.031224262498832367\n",
      "Eta is 5e-09 and fidelity is 0.03122426249305646\n",
      "(-0.03121004469455499+0.0009421668637627175j)\n",
      "0.03122426249305646\n",
      "Eta is 6.000000000000001e-09 and fidelity is 0.031224262510289768\n",
      "(-0.03121043674427704+0.0009290896312890127j)\n",
      "0.031224262510289768\n",
      "Eta is 7.000000000000001e-09 and fidelity is 0.03122426236749932\n",
      "(-0.03121082315459662+0.000916012230775121j)\n",
      "0.03122426236749932\n",
      "Eta is 8e-09 and fidelity is 0.031224262383156707\n",
      "(-0.031211204243846963+0.000902934671548445j)\n",
      "0.031224262383156707\n",
      "Eta is 9.000000000000001e-09 and fidelity is 0.03122426239981289\n",
      "(-0.03121157985467069+0.0008898569479886667j)\n",
      "0.03122426239981289\n",
      "Eta is 0.0 and fidelity is 0.039025570416303244\n",
      "(-0.039005049639674584+0.0012654046484680392j)\n",
      "0.039025570416303244\n",
      "Eta is 1e-09 and fidelity is 0.03902557021338037\n",
      "(-0.039005576093368965+0.0012490652920823977j)\n",
      "0.03902557021338037\n",
      "Eta is 2e-09 and fidelity is 0.039025569850053315\n",
      "(-0.039006095541280296+0.0012327257383148j)\n",
      "0.039025569850053315\n",
      "Eta is 3.0000000000000004e-09 and fidelity is 0.03902556976690366\n",
      "(-0.03900660842244915+0.0012163860444712124j)\n",
      "0.03902556976690366\n",
      "Eta is 4e-09 and fidelity is 0.03902556987972401\n",
      "(-0.039007114651605015+0.0012000462465102835j)\n",
      "0.03902556987972401\n",
      "Eta is 5e-09 and fidelity is 0.03902556982468629\n",
      "(-0.03900761386749191+0.0011837062583757395j)\n",
      "0.03902556982468629\n",
      "Eta is 6.000000000000001e-09 and fidelity is 0.039025569806511534\n",
      "(-0.039008106275216066+0.0011673660712705738j)\n",
      "0.039025569806511534\n",
      "Eta is 7.000000000000001e-09 and fidelity is 0.03902556982783495\n",
      "(-0.039008591877486495+0.0011510256829960646j)\n",
      "0.03902556982783495\n",
      "Eta is 8e-09 and fidelity is 0.0390255696601814\n",
      "(-0.03900907044596319+0.0011346850856304674j)\n",
      "0.0390255696601814\n",
      "Eta is 9.000000000000001e-09 and fidelity is 0.039025569711262205\n",
      "(-0.0390095423881059+0.0011183442936569842j)\n",
      "0.039025569711262205\n",
      "Eta is 0.0 and fidelity is 0.04682434109337433\n",
      "(-0.0467995068688978+0.0015248198767890907j)\n",
      "0.04682434109337433\n",
      "Eta is 1e-09 and fidelity is 0.046824340939900115\n",
      "(-0.0468001412555055+0.001505218562447882j)\n",
      "0.046824340939900115\n",
      "Eta is 2e-09 and fidelity is 0.04682434081952774\n",
      "(-0.04680076746455819+0.0014856170137836082j)\n",
      "0.04682434081952774\n",
      "Eta is 3.0000000000000004e-09 and fidelity is 0.04682434039517245\n",
      "(-0.046801385158865325+0.00146601522997519j)\n",
      "0.04682434039517245\n",
      "Eta is 4e-09 and fidelity is 0.04682434030618059\n",
      "(-0.04680199497591728+0.001446413282302711j)\n",
      "0.04682434030618059\n",
      "Eta is 5e-09 and fidelity is 0.04682434054122048\n",
      "(-0.04680259690454617+0.001426811168567577j)\n",
      "0.04682434054122048\n",
      "Eta is 6.000000000000001e-09 and fidelity is 0.0468243404753674\n",
      "(-0.04680319032178765+0.0014072088173588857j)\n",
      "0.0468243404753674\n"
     ]
    },
    {
     "name": "stdout",
     "output_type": "stream",
     "text": [
      "Eta is 7.000000000000001e-09 and fidelity is 0.04682434044342084\n",
      "(-0.04680377556253615+0.0013876062312919884j)\n",
      "0.04682434044342084\n",
      "Eta is 8e-09 and fidelity is 0.04682434044147916\n",
      "(-0.0468043526229674+0.00136800340806055j)\n",
      "0.04682434044147916\n",
      "Eta is 9.000000000000001e-09 and fidelity is 0.04682434017822097\n",
      "(-0.04680492121191753+0.0013484003381604112j)\n",
      "0.04682434017822097\n",
      "Eta is 0.0 and fidelity is 0.05462012097861762\n",
      "(-0.054590931917963735+0.0017854321737530692j)\n",
      "0.05462012097861762\n",
      "Eta is 1e-09 and fidelity is 0.05462012111407323\n",
      "(-0.05459167498539808+0.0017625699432050619j)\n",
      "0.05462012111407323\n",
      "Eta is 2e-09 and fidelity is 0.05462012096316852\n",
      "(-0.05459240819118594+0.0017397074231305064j)\n",
      "0.05462012096316852\n",
      "Eta is 3.0000000000000004e-09 and fidelity is 0.05462012083057266\n",
      "(-0.054593131839502596+0.0017168446350923432j)\n",
      "0.05462012083057266\n",
      "Eta is 4e-09 and fidelity is 0.054620120711633836\n",
      "(-0.05459384592544698+0.0016939815884500526j)\n",
      "0.054620120711633836\n",
      "Eta is 5e-09 and fidelity is 0.05462012060147325\n",
      "(-0.05459455044397289+0.0016711182902420314j)\n",
      "0.05462012060147325\n",
      "Eta is 6.000000000000001e-09 and fidelity is 0.05462012049931573\n",
      "(-0.05459524539435842+0.0016482547404923138j)\n",
      "0.05462012049931573\n",
      "Eta is 7.000000000000001e-09 and fidelity is 0.05462012040817705\n",
      "(-0.05459593077983767+0.0016253909335705939j)\n",
      "0.05462012040817705\n",
      "Eta is 8e-09 and fidelity is 0.05462012033588721\n",
      "(-0.05459660660845149+0.0016025268636720225j)\n",
      "0.05462012033588721\n",
      "Eta is 9.000000000000001e-09 and fidelity is 0.05462011996367349\n",
      "(-0.05459727256173967+0.0015796625162330096j)\n",
      "0.05462011996367349\n",
      "Eta is 0.0 and fidelity is 0.062411786666994665\n",
      "(-0.06237823429848033+0.0020462162081132263j)\n",
      "0.062411786666994665\n",
      "Eta is 1e-09 and fidelity is 0.06241178651419172\n",
      "(-0.06237908554825618+0.002020094566197573j)\n",
      "0.06241178651419172\n",
      "Eta is 2e-09 and fidelity is 0.06241178636583022\n",
      "(-0.06237992586273529+0.0019939726010351766j)\n",
      "0.06241178636583022\n",
      "Eta is 3.0000000000000004e-09 and fidelity is 0.06241178622976714\n",
      "(-0.06238075524961253+0.001967850319025941j)\n",
      "0.06241178622976714\n",
      "Eta is 4e-09 and fidelity is 0.0624117860968288\n",
      "(-0.062381573699584726+0.0019417277254011923j)\n",
      "0.0624117860968288\n",
      "Eta is 5e-09 and fidelity is 0.0624117859612122\n",
      "(-0.06238238120673803+0.0019156048249525468j)\n",
      "0.0624117859612122\n",
      "Eta is 6.000000000000001e-09 and fidelity is 0.06241178582179253\n",
      "(-0.06238317776987709+0.0018894816212960356j)\n",
      "0.06241178582179253\n",
      "Eta is 7.000000000000001e-09 and fidelity is 0.062411785678859494\n",
      "(-0.06238396338927078+0.0018633581164161268j)\n",
      "0.062411785678859494\n",
      "Eta is 8e-09 and fidelity is 0.06241178553398423\n",
      "(-0.062384738066506004+0.001837234310990388j)\n",
      "0.06241178553398423\n",
      "Eta is 9.000000000000001e-09 and fidelity is 0.06241178539292871\n",
      "(-0.06238550180737087+0.0018111102052375799j)\n",
      "0.06241178539292871\n",
      "Eta is 0.0 and fidelity is 0.07019914041958454\n",
      "(-0.07016123061049118+0.0023067368445542484j)\n",
      "0.07019914041958454\n",
      "Eta is 1e-09 and fidelity is 0.0701991402590701\n",
      "(-0.07016219021350012+0.002277357582204662j)\n",
      "0.0701991402590701\n",
      "Eta is 2e-09 and fidelity is 0.0701991400976875\n",
      "(-0.07016313751339046+0.002247977920669578j)\n",
      "0.0701991400976875\n",
      "Eta is 3.0000000000000004e-09 and fidelity is 0.07019913993542787\n",
      "(-0.0701640725099862+0.0022185978651352973j)\n",
      "0.07019913993542787\n",
      "Eta is 4e-09 and fidelity is 0.070199139772298\n",
      "(-0.07016499520312859+0.002189217420808873j)\n",
      "0.070199139772298\n",
      "Eta is 5e-09 and fidelity is 0.07019913960832018\n",
      "(-0.07016590559267807+0.002159836592850282j)\n",
      "0.07019913960832018\n",
      "Eta is 6.000000000000001e-09 and fidelity is 0.07019913944352839\n",
      "(-0.0701668036785087+0.002130455386428369j)\n",
      "0.07019913944352839\n",
      "Eta is 7.000000000000001e-09 and fidelity is 0.07019913927797175\n",
      "(-0.07016768946051108+0.002101073806737705j)\n",
      "0.07019913927797175\n",
      "Eta is 8e-09 and fidelity is 0.07019913911170503\n",
      "(-0.07016856293858498+0.0020716918589291367j)\n",
      "0.07019913911170503\n",
      "Eta is 9.000000000000001e-09 and fidelity is 0.0701991389468971\n",
      "(-0.0701694241147468+0.002042309548171916j)\n",
      "0.0701991389468971\n"
     ]
    }
   ],
   "source": [
    "etas = [i*(10**-9) for i in range(10)] #Hz in GHz units\n",
    "chis = [i*2*pi*(10**-6) for i in range(10)] #kHz in GHz units \n",
    "\n",
    "fids = []\n",
    "for chi in chis: \n",
    "    for eta in etas: \n",
    "        fids.append(get_fidelity(eta, chi))\n",
    "        print(fids[-1])"
   ]
  },
  {
   "cell_type": "code",
   "execution_count": 91,
   "id": "1fc2d957",
   "metadata": {},
   "outputs": [
    {
     "name": "stdout",
     "output_type": "stream",
     "text": [
      "Eta is 0 and fidelity is 0.0702029989624121\n",
      "(-0.07016468848424363+0.002318955201267111j)\n",
      "Eta is 0 and fidelity is 0.0701995984506399\n",
      "(-0.07016157201579223+0.0023102889221663565j)\n",
      "Eta is 0 and fidelity is 0.07019748154753154\n",
      "(-0.07015972022215482+0.002302188950757811j)\n",
      "Eta is 0 and fidelity is 0.07019884372427067\n",
      "(-0.07016134858469338+0.0022940847852074044j)\n",
      "Eta is 0 and fidelity is 0.07019840980281707\n",
      "(-0.07016118075492199+0.002285925177998331j)\n",
      "Eta is 0 and fidelity is 0.07019833977503274\n",
      "(-0.07016137233239357+0.0022778805074416477j)\n",
      "Eta is 0 and fidelity is 0.07019831280225519\n",
      "(-0.0701616105991633+0.0022696956656436396j)\n",
      "Eta is 0 and fidelity is 0.07019824824869035\n",
      "(-0.07016180978067507+0.002261527246160297j)\n",
      "Eta is 0 and fidelity is 0.07019835068327994\n",
      "(-0.07016218022347864+0.00225319882408358j)\n",
      "Eta is 0 and fidelity is 0.07019822217346025\n",
      "(-0.0701623143341483+0.002245004140454019j)\n"
     ]
    },
    {
     "data": {
      "text/plain": [
       "Text(0, 0.5, 'Fidelity')"
      ]
     },
     "execution_count": 91,
     "metadata": {},
     "output_type": "execute_result"
    },
    {
     "data": {
      "image/png": "[encoded data removed]",
      "text/plain": [
       "<Figure size 576x432 with 1 Axes>"
      ]
     },
     "metadata": {
      "needs_background": "light"
     },
     "output_type": "display_data"
    }
   ],
   "source": [
    "chis = [i*2*pi*(10**-6) for i in range(10)] #kHz in GHz units \n",
    "fids = [get_fidelity(0,chi_2) for chi_2 in chis]\n",
    "\n",
    "fig = plt.figure(figsize=(8,6))\n",
    "plt.plot([eta*(10**3) for eta in etas], fids, linestyle = '--', marker = 'o')\n",
    "\n",
    "plt.xticks(fontsize= 10)\n",
    "plt.yticks(fontsize= 10)\n",
    "plt.xlabel(\"Chi (KHz)\", fontsize = 14)\n",
    "plt.ylabel(\"Fidelity\", fontsize = 14)"
   ]
  },
  {
   "cell_type": "code",
   "execution_count": 93,
   "id": "271b5ccf",
   "metadata": {},
   "outputs": [
    {
     "name": "stdout",
     "output_type": "stream",
     "text": [
      "Eta is 1e-09 and fidelity is 0.07020299883353365\n",
      "(-0.07016565323570417+0.0022895744644021326j)\n",
      "Eta is 1e-09 and fidelity is 0.07019820602898935\n",
      "(-0.07016348583503551+0.0022075744982237465j)\n",
      "Eta is 1e-09 and fidelity is 0.07019805252532667\n",
      "(-0.0701658656983991+0.0021255279679983693j)\n",
      "Eta is 1e-09 and fidelity is 0.07019787681155758\n",
      "(-0.07016813389399733+0.002043255902885598j)\n",
      "Eta is 1e-09 and fidelity is 0.07019767901109755\n",
      "(-0.07017028963565794+0.0019607628599507434j)\n",
      "Eta is 1e-09 and fidelity is 0.07019745813449293\n",
      "(-0.07017233116122865+0.0018780489724036578j)\n",
      "Eta is 1e-09 and fidelity is 0.07019724744599683\n",
      "(-0.07017429104501934+0.0017951115072403054j)\n",
      "Eta is 1e-09 and fidelity is 0.07019697970568259\n",
      "(-0.07017610134939878+0.0017119460268723873j)\n",
      "Eta is 1e-09 and fidelity is 0.07019668726281163\n",
      "(-0.07017779356106714+0.0016285556709010993j)\n",
      "Eta is 1e-09 and fidelity is 0.07019646969870216\n",
      "(-0.07017946666310533+0.0015449326985013453j)\n"
     ]
    },
    {
     "data": {
      "text/plain": [
       "Text(0, 0.5, 'Fidelity')"
      ]
     },
     "execution_count": 93,
     "metadata": {},
     "output_type": "execute_result"
    },
    {
     "data": {
      "image/png": "[encoded data removed]",
      "text/plain": [
       "<Figure size 576x432 with 1 Axes>"
      ]
     },
     "metadata": {
      "needs_background": "light"
     },
     "output_type": "display_data"
    }
   ],
   "source": [
    "chis = [i*10*2*pi*(10**-6) for i in range(10)] #kHz in GHz units \n",
    "fids = [get_fidelity(10**-9,chi_2) for chi_2 in chis]\n",
    "\n",
    "fig = plt.figure(figsize=(8,6))\n",
    "plt.plot([eta*(10**3) for eta in etas], fids, linestyle = '--', marker = 'o')\n",
    "\n",
    "plt.xticks(fontsize= 10)\n",
    "plt.yticks(fontsize= 10)\n",
    "plt.xlabel(\"Chi (KHz)\", fontsize = 14)\n",
    "plt.ylabel(\"Fidelity\", fontsize = 14)"
   ]
  },
  {
   "cell_type": "code",
   "execution_count": 94,
   "id": "feb424a7",
   "metadata": {},
   "outputs": [
    {
     "data": {
      "text/plain": [
       "9e-06"
      ]
     },
     "execution_count": 94,
     "metadata": {},
     "output_type": "execute_result"
    }
   ],
   "source": [
    "chi"
   ]
  },
  {
   "cell_type": "code",
   "execution_count": 95,
   "id": "2cf27d18",
   "metadata": {},
   "outputs": [
    {
     "data": {
      "text/plain": [
       "0.0"
      ]
     },
     "execution_count": 95,
     "metadata": {},
     "output_type": "execute_result"
    }
   ],
   "source": [
    "chis[0]"
   ]
  },
  {
   "cell_type": "code",
   "execution_count": null,
   "id": "f7dc2562",
   "metadata": {},
   "outputs": [],
   "source": []
  }
 ],
 "metadata": {
  "kernelspec": {
   "display_name": "Python 3",
   "language": "python",
   "name": "python3"
  },
  "language_info": {
   "codemirror_mode": {
    "name": "ipython",
    "version": 3
   },
   "file_extension": ".py",
   "mimetype": "text/x-python",
   "name": "python",
   "nbconvert_exporter": "python",
   "pygments_lexer": "ipython3",
   "version": "3.8.8"
  },
  "toc": {
   "base_numbering": 1,
   "nav_menu": {},
   "number_sections": true,
   "sideBar": true,
   "skip_h1_title": false,
   "title_cell": "Table of Contents",
   "title_sidebar": "Contents",
   "toc_cell": false,
   "toc_position": {},
   "toc_section_display": true,
   "toc_window_display": false
  },
  "varInspector": {
   "cols": {
    "lenName": 16,
    "lenType": 16,
    "lenVar": 40
   },
   "kernels_config": {
    "python": {
     "delete_cmd_postfix": "",
     "delete_cmd_prefix": "del ",
     "library": "var_list.py",
     "varRefreshCmd": "print(var_dic_list())"
    },
    "r": {
     "delete_cmd_postfix": ") ",
     "delete_cmd_prefix": "rm(",
     "library": "var_list.r",
     "varRefreshCmd": "cat(var_dic_list()) "
    }
   },
   "types_to_exclude": [
    "module",
    "function",
    "builtin_function_or_method",
    "instance",
    "_Feature"
   ],
   "window_display": false
  }
 },
 "nbformat": 4,
 "nbformat_minor": 5
}
