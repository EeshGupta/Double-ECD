{
 "cells": [
  {
   "cell_type": "markdown",
   "id": "595a06e1",
   "metadata": {},
   "source": [
    "# Aim\n",
    "Check whether DECD param give consistent fidelities with Qutip Simulations"
   ]
  },
  {
   "cell_type": "markdown",
   "id": "9f8c3189",
   "metadata": {},
   "source": [
    "# Imports"
   ]
  },
  {
   "cell_type": "code",
   "execution_count": 1,
   "id": "ad9d35e8",
   "metadata": {},
   "outputs": [],
   "source": [
    "import sys \n",
    "sys.path.append('C:\\\\Users\\\\Eesh Gupta\\\\Documents\\\\RU Research\\\\Chakram')\n"
   ]
  },
  {
   "cell_type": "code",
   "execution_count": 2,
   "id": "53db6c77",
   "metadata": {},
   "outputs": [],
   "source": [
    "# for param file \n",
    "#%%\n",
    "# note: timestamp can't use \"/\" character for h5 saving.\n",
    "TIMESTAMP_FORMAT = \"%Y-%m-%d %H:%M:%S\"\n",
    "END_OPT_STRING = \"\\n\" + \"=\" * 60 + \"\\n\"\n",
    "import numpy as np\n",
    "import tensorflow as tf\n",
    "\n",
    "tf.compat.v1.logging.set_verbosity(tf.compat.v1.logging.ERROR)  # supress warnings\n",
    "import h5py\n",
    "\n",
    "# print(\n",
    "#     \"\\nNeed tf version 2.3.0 or later. Using tensorflow version: \"\n",
    "#     + tf.__version__\n",
    "#     + \"\\n\"\n",
    "# )\n",
    "import ECD_control.ECD_optimization.tf_quantum as tfq\n",
    "from ECD_control.ECD_optimization.visualization import VisualizationMixin\n",
    "import qutip as qt\n",
    "import datetime\n",
    "import time"
   ]
  },
  {
   "cell_type": "code",
   "execution_count": 3,
   "id": "ae4d1bd6",
   "metadata": {},
   "outputs": [],
   "source": [
    "# for pulse file\n",
    "import numpy as np\n",
    "import matplotlib.pyplot as plt\n",
    "from scipy.interpolate import interp1d\n",
    "from scipy.integrate import solve_ivp\n",
    "from scipy.signal import find_peaks\n",
    "from scipy.optimize import fmin\n",
    "\n"
   ]
  },
  {
   "cell_type": "markdown",
   "id": "5439ff93",
   "metadata": {},
   "source": [
    "# Finding Param"
   ]
  },
  {
   "cell_type": "code",
   "execution_count": 4,
   "id": "5f96f3a4",
   "metadata": {},
   "outputs": [],
   "source": [
    "from DECD_param import FixedBatchOptimizer as BO"
   ]
  },
  {
   "cell_type": "code",
   "execution_count": 6,
   "id": "bf050c55",
   "metadata": {},
   "outputs": [],
   "source": [
    "#The initial oscillator state.\n",
    "N1 =5\n",
    "N2 =5\n",
    "Fock1 = 0\n",
    "Fock2= 0\n",
    "psi_i1 = qt.basis(N1,Fock1) #initial state\n",
    "psi_i2 = qt.basis(N2,Fock2)\n",
    "psi_initial = qt.tensor(psi_i1, psi_i2)\n",
    "\n",
    "#Target\n",
    "Fock1 = 1\n",
    "Fock2= 0\n",
    "psi_t1 = qt.basis(N1,Fock1) #target state\n",
    "psi_t2 = qt.basis(N2,Fock2)\n",
    "psi_target = qt.tensor(psi_t1, psi_t2)\n",
    "psi_target\n",
    "\n",
    "#Optimization of ECD Circuit parameters (betas, gammas, phis, and thetas)\n",
    "#the optimization options\n",
    "opt_params = {\n",
    "'N_blocks' : 4, #circuit depth\n",
    "'N_multistart' : 2, #Batch size (number of circuit optimizations to run in parallel)\n",
    "'epochs' : 100, #number of epochs before termination\n",
    "'epoch_size' : 20, #number of adam steps per epoch\n",
    "'learning_rate' : 0.01, #adam learning rate\n",
    "'term_fid' : 0.999, #terminal fidelitiy\n",
    "'dfid_stop' : 1e-6, #stop if dfid between two epochs is smaller than this number\n",
    "'beta_scale' : 3.0, #maximum |beta| for random initialization\n",
    "'gamma_scale' : 3.0, #maximum |gamma| for random initialization\n",
    "'N_cav1': N1, #number of levels in mode 1\n",
    "'N_cav2': N2, #number of levels in mode 2\n",
    "'initial_states' : [qt.tensor(qt.basis(2,0),psi_initial)], #qubit tensor oscillator, start in |g> |0>\n",
    "'target_states' : [qt.tensor(qt.basis(2,0), psi_target)], #end in |e> |target>.\n",
    "#\"initial_params\": init_params,\n",
    "'name' : 'Fock1 %d' % Fock1, #name for printing and saving\n",
    "'filename' : None, #if no filename specified, results will be saved in this folder under 'name.h5'\n",
    "}\n",
    "\n"
   ]
  },
  {
   "cell_type": "code",
   "execution_count": 7,
   "id": "359aed54",
   "metadata": {},
   "outputs": [
    {
     "name": "stdout",
     "output_type": "stream",
     "text": [
      "None\n",
      "Fixed construct needed matrices called\n",
      "optimization_type: state transfer\n",
      "N_multistart: 2\n",
      "N_blocks: 4\n",
      "term_fid: 0.999\n",
      "dfid_stop: 1e-06\n",
      "no_CD_end: False\n",
      "learning_rate: 0.01\n",
      "epoch_size: 20\n",
      "epochs: 100\n",
      "beta_scale: 3.0\n",
      "gamma_scale: 3.0\n",
      "alpha1_scale: 1.0\n",
      "alpha2_scale: 1.0\n",
      "theta_scale: 3.141592653589793\n",
      "use_etas: False\n",
      "use_displacements: False\n",
      "use_phase: False\n",
      "name: Fock1 1\n",
      "comment: \n",
      "initial_params: None\n",
      "N_cav1: 5\n",
      "N_cav2: 5\n",
      "filename: Fock1 1.h5\n",
      "\n",
      "Best circuit parameters found:\n",
      "betas:         [-1.31239-0.67512j -0.57802+1.20912j -1.3443 -1.47278j -1.29727-2.4183j ]\n",
      "gammas:         [-0.25604-0.06847j  0.14317-0.36955j  0.28456-2.66201j -0.94836+2.68794j]\n",
      "alphas1:        [0.+0.j]\n",
      "alphas2:        [0.+0.j]\n",
      "phis (deg):    [   0.       162.7622  -130.12808  164.99426]\n",
      "etas (deg):    [89.99999 89.99999 89.99999 89.99999]\n",
      "thetas (deg):  [-145.14816  -16.57494 -127.16859  -44.87994]\n",
      "Max Fidelity:  0.010137\n",
      "\n",
      "\n"
     ]
    }
   ],
   "source": [
    "opt = BO(**opt_params)\n",
    "opt.print_info()"
   ]
  },
  {
   "cell_type": "code",
   "execution_count": 8,
   "id": "14604613",
   "metadata": {},
   "outputs": [
    {
     "name": "stdout",
     "output_type": "stream",
     "text": [
      "Start time: 2022-05-23 09:02:47\n",
      " Epoch: 36 / 100 Max Fid: 0.999754 Avg Fid: 0.983569 Max dFid: 0.002104 Avg dFid: 0.001045 Elapsed time: 0:00:20.353043 Remaing time: 0:00:36.1831875\n",
      "\n",
      " Optimization stopped. Term fidelity reached.\n",
      "\n",
      "optimization_type: state transfer\n",
      "N_multistart: 2\n",
      "N_blocks: 4\n",
      "term_fid: 0.999\n",
      "dfid_stop: 1e-06\n",
      "no_CD_end: False\n",
      "learning_rate: 0.01\n",
      "epoch_size: 20\n",
      "epochs: 100\n",
      "beta_scale: 3.0\n",
      "gamma_scale: 3.0\n",
      "alpha1_scale: 1.0\n",
      "alpha2_scale: 1.0\n",
      "theta_scale: 3.141592653589793\n",
      "use_etas: False\n",
      "use_displacements: False\n",
      "use_phase: False\n",
      "name: Fock1 1\n",
      "comment: \n",
      "initial_params: None\n",
      "N_cav1: 5\n",
      "N_cav2: 5\n",
      "filename: Fock1 1.h5\n",
      "\n",
      "Best circuit parameters found:\n",
      "betas:         [-0.19928+3.45057j -0.0682 +1.22365j -2.06821-2.96092j  1.9319 +2.27804j]\n",
      "gammas:         [-2.91335+0.00602j  3.09736-0.00664j -0.72343-1.02316j -0.91717-1.019j  ]\n",
      "alphas1:        [0.+0.j]\n",
      "alphas2:        [0.+0.j]\n",
      "phis (deg):    [  0.      -34.68935  67.77032 -47.32071]\n",
      "etas (deg):    [89.99999 89.99999 89.99999 89.99999]\n",
      "thetas (deg):  [-179.96738 -179.94923    0.02434    0.02867]\n",
      "Max Fidelity:  0.991673\n",
      "\n",
      "\n",
      "termination reason: term_fid\n",
      "optimization timestamp (start time): 2022-05-23 09:02:47\n",
      "timestamp (end time): 2022-05-23 09:03:07\n",
      "elapsed time: 0:00:20.353043\n",
      "Time per epoch (epoch size = 20): 0:00:00.565362\n",
      "Time per Adam step (N_multistart = 2, N_cav1 = 5, N_cav2 = 5): 0:00:00.005654\n",
      "\n",
      "============================================================\n",
      "\n"
     ]
    },
    {
     "data": {
      "text/plain": [
       "'2022-05-23 09:02:47'"
      ]
     },
     "execution_count": 8,
     "metadata": {},
     "output_type": "execute_result"
    }
   ],
   "source": [
    "opt.optimize()"
   ]
  },
  {
   "cell_type": "markdown",
   "id": "eeadfa8c",
   "metadata": {},
   "source": [
    "# Verifying with ECD single mode"
   ]
  },
  {
   "cell_type": "code",
   "execution_count": 9,
   "id": "3f450c5e",
   "metadata": {},
   "outputs": [],
   "source": [
    "import sys \n",
    "sys.path.append('C:\\\\Users\\\\Eesh Gupta\\\\Documents\\\\RU Research\\\\Chakram')\n",
    "sys.path.append('C:\\\\Users\\\\Eesh Gupta\\\\Documents\\\\RU Research\\\\Chakram\\\\ECD_control')\n"
   ]
  },
  {
   "cell_type": "code",
   "execution_count": 10,
   "id": "70421a1d",
   "metadata": {},
   "outputs": [
    {
     "name": "stdout",
     "output_type": "stream",
     "text": [
      "\n",
      "Need tf version 2.3.0 or later. Using tensorflow version: 2.7.0\n",
      "\n",
      "\n",
      "Need tf version 2.3.0 or later. Using tensorflow version: 2.7.0\n",
      "\n"
     ]
    },
    {
     "data": {
      "text/plain": [
       "[name: \"/device:CPU:0\"\n",
       " device_type: \"CPU\"\n",
       " memory_limit: 268435456\n",
       " locality {\n",
       " }\n",
       " incarnation: 1937876853007653130\n",
       " xla_global_id: -1]"
      ]
     },
     "execution_count": 10,
     "metadata": {},
     "output_type": "execute_result"
    }
   ],
   "source": [
    "from ECD_control import ECD_optimization\n",
    "from ECD_control import ECD_pulse_construction\n",
    "\n",
    "import numpy as np\n",
    "import qutip as qt \n",
    "from ECD_control.ECD_optimization.batch_optimizer import BatchOptimizer\n",
    "from ECD_control.ECD_optimization.optimization_analysis import OptimizationAnalysis, OptimizationSweepsAnalysis\n",
    "import matplotlib.pyplot as plt\n",
    "from tensorflow.python.client import device_lib\n",
    "device_lib.list_local_devices()"
   ]
  },
  {
   "cell_type": "code",
   "execution_count": 11,
   "id": "f84d2f58",
   "metadata": {},
   "outputs": [],
   "source": [
    "#The target oscillator state.\n",
    "N =5\n",
    "Fock = 1\n",
    "psi_t = qt.basis(N,Fock) #target state"
   ]
  },
  {
   "cell_type": "code",
   "execution_count": 15,
   "id": "4608a9be",
   "metadata": {},
   "outputs": [],
   "source": [
    "#Optimization of ECD Circuit parameters (betas, phis, and thetas)\n",
    "#the optimization options\n",
    "opt_params = {\n",
    "'N_blocks' : 4, #circuit depth\n",
    "'N_multistart' : 2, #Batch size (number of circuit optimizations to run in parallel)\n",
    "'epochs' : 200, #number of epochs before termination\n",
    "'epoch_size' : 10, #number of adam steps per epoch\n",
    "'learning_rate' : 0.01, #adam learning rate\n",
    "'term_fid' : 0.995, #terminal fidelitiy\n",
    "'dfid_stop' : 1e-6, #stop if dfid between two epochs is smaller than this number\n",
    "'beta_scale' : 3.0, #maximum |beta| for random initialization\n",
    "'initial_states' : [qt.tensor(qt.basis(2,0),qt.basis(N,0))], #qubit tensor oscillator, start in |g> |0>\n",
    "'target_states' : [qt.tensor(qt.basis(2,0), psi_t)], #end in |e> |target>.\n",
    "'name' : 'Fock %d' % Fock, #name for printing and saving\n",
    "'filename' : None, #if no filename specified, results will be saved in this folder under 'name.h5'\n",
    "}\n",
    "\n",
    "\n",
    "#note: optimizer includes pi pulse in every ECD step. However, final ECD step is implemented \n",
    "#in experiment as a displacement since the qubit and oscillator should be disentangled at this point.\n",
    "#So, we ask the optimizer to end in |e> |target> instead of |g>|target>."
   ]
  },
  {
   "cell_type": "code",
   "execution_count": 16,
   "id": "f9fe98f6",
   "metadata": {},
   "outputs": [
    {
     "name": "stdout",
     "output_type": "stream",
     "text": [
      "optimization_type: state transfer\n",
      "N_multistart: 2\n",
      "N_blocks: 4\n",
      "term_fid: 0.995\n",
      "dfid_stop: 1e-06\n",
      "no_CD_end: False\n",
      "learning_rate: 0.01\n",
      "epoch_size: 10\n",
      "epochs: 200\n",
      "beta_scale: 3.0\n",
      "alpha_scale: 1.0\n",
      "theta_scale: 3.141592653589793\n",
      "use_displacements: False\n",
      "use_phase: False\n",
      "name: Fock 1\n",
      "comment: \n",
      "N_cav: 5\n",
      "filename: Fock 1.h5\n",
      "\n",
      "Best circuit parameters found:\n",
      "betas:         [ 0.86955-2.66811j  0.79405+1.13483j -0.02411+2.67525j -2.22024-0.01295j]\n",
      "alphas:        [0.+0.j]\n",
      "phis (deg):    [   0.      -105.39643 -155.45955   35.75822]\n",
      "thetas (deg):  [  7.90277 -14.81734  65.12698 -95.96886]\n",
      "Max Fidelity:  0.033947\n",
      "\n",
      "\n"
     ]
    }
   ],
   "source": [
    "ecd_opt = BatchOptimizer(**opt_params)\n",
    "\n",
    "#print optimization info. \n",
    "ecd_opt.print_info()"
   ]
  },
  {
   "cell_type": "code",
   "execution_count": 17,
   "id": "1c368209",
   "metadata": {},
   "outputs": [
    {
     "data": {
      "text/plain": [
       "<tf.Tensor: shape=(2,), dtype=float32, numpy=array([0.9974985 , 0.95410556], dtype=float32)>"
      ]
     },
     "execution_count": 17,
     "metadata": {},
     "output_type": "execute_result"
    }
   ],
   "source": [
    "decd_opt = opt\n",
    "ecd_opt.batch_fidelities(decd_opt.betas_rho,\n",
    "                decd_opt.betas_angle,\n",
    "                decd_opt.alphas1_rho,\n",
    "                decd_opt.alphas1_angle,\n",
    "                decd_opt.phis,\n",
    "                decd_opt.thetas,)"
   ]
  },
  {
   "cell_type": "code",
   "execution_count": 19,
   "id": "a1f004c0",
   "metadata": {},
   "outputs": [
    {
     "data": {
      "text/plain": [
       "<tf.Tensor: shape=(2,), dtype=float32, numpy=array([0.99167275, 0.9673773 ], dtype=float32)>"
      ]
     },
     "execution_count": 19,
     "metadata": {},
     "output_type": "execute_result"
    }
   ],
   "source": [
    "decd_opt.batch_fidelities(decd_opt.betas_rho,\n",
    "                decd_opt.betas_angle,\n",
    "                decd_opt.gammas_rho,\n",
    "                decd_opt.gammas_angle,\n",
    "                decd_opt.alphas1_rho,\n",
    "                decd_opt.alphas1_angle,\n",
    "                decd_opt.alphas2_rho,\n",
    "                decd_opt.alphas2_angle,\n",
    "                decd_opt.phis,\n",
    "                decd_opt.etas,\n",
    "                decd_opt.thetas,)"
   ]
  },
  {
   "cell_type": "code",
   "execution_count": null,
   "id": "cd1d5ee3",
   "metadata": {},
   "outputs": [],
   "source": []
  }
 ],
 "metadata": {
  "kernelspec": {
   "display_name": "Python 3",
   "language": "python",
   "name": "python3"
  },
  "language_info": {
   "codemirror_mode": {
    "name": "ipython",
    "version": 3
   },
   "file_extension": ".py",
   "mimetype": "text/x-python",
   "name": "python",
   "nbconvert_exporter": "python",
   "pygments_lexer": "ipython3",
   "version": "3.8.8"
  },
  "toc": {
   "base_numbering": 1,
   "nav_menu": {},
   "number_sections": true,
   "sideBar": true,
   "skip_h1_title": false,
   "title_cell": "Table of Contents",
   "title_sidebar": "Contents",
   "toc_cell": false,
   "toc_position": {},
   "toc_section_display": true,
   "toc_window_display": false
  },
  "varInspector": {
   "cols": {
    "lenName": 16,
    "lenType": 16,
    "lenVar": 40
   },
   "kernels_config": {
    "python": {
     "delete_cmd_postfix": "",
     "delete_cmd_prefix": "del ",
     "library": "var_list.py",
     "varRefreshCmd": "print(var_dic_list())"
    },
    "r": {
     "delete_cmd_postfix": ") ",
     "delete_cmd_prefix": "rm(",
     "library": "var_list.r",
     "varRefreshCmd": "cat(var_dic_list()) "
    }
   },
   "types_to_exclude": [
    "module",
    "function",
    "builtin_function_or_method",
    "instance",
    "_Feature"
   ],
   "window_display": false
  }
 },
 "nbformat": 4,
 "nbformat_minor": 5
}
